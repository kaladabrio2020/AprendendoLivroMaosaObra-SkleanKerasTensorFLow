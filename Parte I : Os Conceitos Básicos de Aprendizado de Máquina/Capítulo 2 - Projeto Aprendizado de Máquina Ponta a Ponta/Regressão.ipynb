{
 "cells": [
  {
   "cell_type": "code",
   "execution_count": 4,
   "metadata": {},
   "outputs": [],
   "source": [
    "import random \n",
    "import numpy  as np"
   ]
  },
  {
   "cell_type": "markdown",
   "metadata": {},
   "source": [
    "### Problema abordado\n",
    "1. Aprendizado supervisioando de regressão multivariada \n",
    "2. Aprendizado em batch já que pegarei os dados farei todo o processor de treinamento e colocarei para produção"
   ]
  },
  {
   "cell_type": "markdown",
   "metadata": {},
   "source": [
    "### Erro quadratico medio\n",
    "\n",
    "$RMSE(X,h) = \\sqrt{\\frac{1}{m} \\sum^{m}_{i=1}{h(x^{(i)} - y^{(i)})}}$"
   ]
  },
  {
   "cell_type": "code",
   "execution_count": 19,
   "metadata": {},
   "outputs": [],
   "source": [
    "def Mean_Squared_Error(pred,y,squared=True):\n",
    "    rmse = (1/np.size(y))*np.sum(pred-y)\n",
    "    if (squared):\n",
    "        return np.sqrt(rmse)\n",
    "    return rmse"
   ]
  },
  {
   "cell_type": "markdown",
   "metadata": {},
   "source": [
    "### Erro Absoluto Medio\n",
    "$MAE(X,h) = \\frac{1}{m} \\cdot \\sum^{m}_{i=1} | h(x^{(i)} - y^{(i)})|$"
   ]
  },
  {
   "cell_type": "code",
   "execution_count": 40,
   "metadata": {},
   "outputs": [],
   "source": [
    "def Mean_Absolute_Error(pred,y,squared=True):\n",
    "    return (1/np.size(y))*abs(np.sum(pred-y))"
   ]
  },
  {
   "cell_type": "markdown",
   "metadata": {},
   "source": [
    "### R2"
   ]
  },
  {
   "cell_type": "markdown",
   "metadata": {},
   "source": [
    "&nbsp;"
   ]
  },
  {
   "cell_type": "markdown",
   "metadata": {},
   "source": [
    "### Problema"
   ]
  },
  {
   "cell_type": "code",
   "execution_count": null,
   "metadata": {},
   "outputs": [],
   "source": [
    "import copy\n",
    "import pandas as pd\n",
    "import seaborn as sea \n",
    "import matplotlib.pyplot as plt"
   ]
  },
  {
   "cell_type": "code",
   "execution_count": null,
   "metadata": {},
   "outputs": [],
   "source": [
    "data = pd.read_csv(r'dataset/housing.csv',sep=',')"
   ]
  }
 ],
 "metadata": {
  "kernelspec": {
   "display_name": "venv",
   "language": "python",
   "name": "python3"
  },
  "language_info": {
   "codemirror_mode": {
    "name": "ipython",
    "version": 3
   },
   "file_extension": ".py",
   "mimetype": "text/x-python",
   "name": "python",
   "nbconvert_exporter": "python",
   "pygments_lexer": "ipython3",
   "version": "3.11.2"
  }
 },
 "nbformat": 4,
 "nbformat_minor": 2
}
