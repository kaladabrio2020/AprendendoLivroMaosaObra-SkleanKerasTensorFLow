{
 "cells": [
  {
   "cell_type": "code",
   "execution_count": 13,
   "metadata": {},
   "outputs": [],
   "source": [
    "import random \n",
    "import numpy  as np"
   ]
  },
  {
   "cell_type": "markdown",
   "metadata": {},
   "source": [
    "### Problema abordado\n",
    "1. Aprendizado supervisioando de regressão multivariada \n",
    "2. Aprendizado em batch já que pegarei os dados farei todo o processor de treinamento e colocarei para produção"
   ]
  },
  {
   "cell_type": "code",
   "execution_count": 21,
   "metadata": {},
   "outputs": [],
   "source": [
    "x = np.random.rand(100,1)*100\n",
    "y = np.random.randn(100,1)*100"
   ]
  },
  {
   "cell_type": "markdown",
   "metadata": {},
   "source": [
    "### Erro quadratico medio\n",
    "\n",
    "$RMSE(X,h) = \\sqrt{\\frac{1}{m} \\sum^{m}_{i=1}{h(x^{(i)} - y^{(i)})}}$"
   ]
  },
  {
   "cell_type": "code",
   "execution_count": 15,
   "metadata": {},
   "outputs": [],
   "source": [
    "def Mean_Squared_Error(pred,y,squared=True):\n",
    "    rmse = (1/np.size(y))*np.sum(pred-y)\n",
    "    if (squared):\n",
    "        return np.sqrt(rmse)\n",
    "    return rmse"
   ]
  },
  {
   "cell_type": "code",
   "execution_count": 22,
   "metadata": {},
   "outputs": [
    {
     "data": {
      "text/plain": [
       "6.528552153368741"
      ]
     },
     "execution_count": 22,
     "metadata": {},
     "output_type": "execute_result"
    }
   ],
   "source": [
    "Mean_Squared_Error(x,y)"
   ]
  },
  {
   "cell_type": "markdown",
   "metadata": {},
   "source": [
    "### Erro Absoluto Medio\n",
    "$MAE(X,h) = \\frac{1}{m} \\cdot \\sum^{m}_{i=1} | h(x^{(i)} - y^{(i)})|$"
   ]
  },
  {
   "cell_type": "code",
   "execution_count": 23,
   "metadata": {},
   "outputs": [],
   "source": [
    "def Mean_Absolute_Error(pred,y):\n",
    "    return (1/np.size(y))*abs(np.sum(pred-y))"
   ]
  },
  {
   "cell_type": "code",
   "execution_count": 24,
   "metadata": {},
   "outputs": [
    {
     "data": {
      "text/plain": [
       "42.62199321925563"
      ]
     },
     "execution_count": 24,
     "metadata": {},
     "output_type": "execute_result"
    }
   ],
   "source": [
    "Mean_Absolute_Error(x,y)"
   ]
  },
  {
   "cell_type": "markdown",
   "metadata": {},
   "source": [
    "### R2\n",
    "\n",
    "$\\large R2(pred,ytrue) = 1-\\frac{\\sum^{m}_{i=1}({ytrue^{i} - pred^{i})^{2}}}{{\\sum^{m}_{i=1}} ({ytrue^{i} - ytrue_{mean})^{2}} }$"
   ]
  },
  {
   "cell_type": "code",
   "execution_count": 39,
   "metadata": {},
   "outputs": [],
   "source": [
    "def R2(pred,y):\n",
    "    mean = np.mean(y)\n",
    "    sum1 = sum2 = 0\n",
    "    for i in range(np.size(pred)):\n",
    "        sum1 += (y[i] - pred[i])**2\n",
    "    for i in range(np.size(pred)):\n",
    "        sum2 += (y[i] - mean)**2\n",
    "    return abs(1 - (sum1/sum2))"
   ]
  },
  {
   "cell_type": "code",
   "execution_count": 40,
   "metadata": {},
   "outputs": [
    {
     "data": {
      "text/plain": [
       "array([0.29307116])"
      ]
     },
     "execution_count": 40,
     "metadata": {},
     "output_type": "execute_result"
    }
   ],
   "source": [
    "R2(x,y)"
   ]
  },
  {
   "cell_type": "markdown",
   "metadata": {},
   "source": [
    "&nbsp;"
   ]
  },
  {
   "cell_type": "markdown",
   "metadata": {},
   "source": [
    "### Problema"
   ]
  },
  {
   "cell_type": "code",
   "execution_count": 19,
   "metadata": {},
   "outputs": [],
   "source": [
    "import copy\n",
    "import pandas as pd\n",
    "import seaborn as sea \n",
    "import matplotlib.pyplot as plt"
   ]
  },
  {
   "cell_type": "code",
   "execution_count": 20,
   "metadata": {},
   "outputs": [],
   "source": [
    "data = pd.read_csv(r'dataset/housing.csv',sep=',')"
   ]
  }
 ],
 "metadata": {
  "kernelspec": {
   "display_name": "venv",
   "language": "python",
   "name": "python3"
  },
  "language_info": {
   "codemirror_mode": {
    "name": "ipython",
    "version": 3
   },
   "file_extension": ".py",
   "mimetype": "text/x-python",
   "name": "python",
   "nbconvert_exporter": "python",
   "pygments_lexer": "ipython3",
   "version": "3.11.2"
  }
 },
 "nbformat": 4,
 "nbformat_minor": 2
}
