{
 "cells": [
  {
   "cell_type": "code",
   "execution_count": 52,
   "metadata": {},
   "outputs": [],
   "source": [
    "import numpy as np\n",
    "from sklearn.tree             import DecisionTreeClassifier,export_graphviz,DecisionTreeRegressor\n",
    "from sklearn.model_selection  import train_test_split,GridSearchCV,ShuffleSplit\n",
    "from sklearn.datasets         import make_classification,make_regression\n",
    "from graphviz                 import Source\n",
    "from sklearn.metrics          import *"
   ]
  },
  {
   "cell_type": "code",
   "execution_count": 53,
   "metadata": {},
   "outputs": [],
   "source": [
    "data = make_classification(n_samples=10_000,n_classes=2,n_features=10)"
   ]
  },
  {
   "cell_type": "code",
   "execution_count": 54,
   "metadata": {},
   "outputs": [],
   "source": [
    "X = data[0]\n",
    "y = data[1]"
   ]
  },
  {
   "cell_type": "code",
   "execution_count": 55,
   "metadata": {},
   "outputs": [],
   "source": [
    "xtrain ,xtest ,ytrain ,ytest = train_test_split(X,y,test_size=0.2,random_state=42)"
   ]
  },
  {
   "cell_type": "code",
   "execution_count": 56,
   "metadata": {},
   "outputs": [
    {
     "data": {
      "text/html": [
       "<style>#sk-container-id-4 {color: black;}#sk-container-id-4 pre{padding: 0;}#sk-container-id-4 div.sk-toggleable {background-color: white;}#sk-container-id-4 label.sk-toggleable__label {cursor: pointer;display: block;width: 100%;margin-bottom: 0;padding: 0.3em;box-sizing: border-box;text-align: center;}#sk-container-id-4 label.sk-toggleable__label-arrow:before {content: \"▸\";float: left;margin-right: 0.25em;color: #696969;}#sk-container-id-4 label.sk-toggleable__label-arrow:hover:before {color: black;}#sk-container-id-4 div.sk-estimator:hover label.sk-toggleable__label-arrow:before {color: black;}#sk-container-id-4 div.sk-toggleable__content {max-height: 0;max-width: 0;overflow: hidden;text-align: left;background-color: #f0f8ff;}#sk-container-id-4 div.sk-toggleable__content pre {margin: 0.2em;color: black;border-radius: 0.25em;background-color: #f0f8ff;}#sk-container-id-4 input.sk-toggleable__control:checked~div.sk-toggleable__content {max-height: 200px;max-width: 100%;overflow: auto;}#sk-container-id-4 input.sk-toggleable__control:checked~label.sk-toggleable__label-arrow:before {content: \"▾\";}#sk-container-id-4 div.sk-estimator input.sk-toggleable__control:checked~label.sk-toggleable__label {background-color: #d4ebff;}#sk-container-id-4 div.sk-label input.sk-toggleable__control:checked~label.sk-toggleable__label {background-color: #d4ebff;}#sk-container-id-4 input.sk-hidden--visually {border: 0;clip: rect(1px 1px 1px 1px);clip: rect(1px, 1px, 1px, 1px);height: 1px;margin: -1px;overflow: hidden;padding: 0;position: absolute;width: 1px;}#sk-container-id-4 div.sk-estimator {font-family: monospace;background-color: #f0f8ff;border: 1px dotted black;border-radius: 0.25em;box-sizing: border-box;margin-bottom: 0.5em;}#sk-container-id-4 div.sk-estimator:hover {background-color: #d4ebff;}#sk-container-id-4 div.sk-parallel-item::after {content: \"\";width: 100%;border-bottom: 1px solid gray;flex-grow: 1;}#sk-container-id-4 div.sk-label:hover label.sk-toggleable__label {background-color: #d4ebff;}#sk-container-id-4 div.sk-serial::before {content: \"\";position: absolute;border-left: 1px solid gray;box-sizing: border-box;top: 0;bottom: 0;left: 50%;z-index: 0;}#sk-container-id-4 div.sk-serial {display: flex;flex-direction: column;align-items: center;background-color: white;padding-right: 0.2em;padding-left: 0.2em;position: relative;}#sk-container-id-4 div.sk-item {position: relative;z-index: 1;}#sk-container-id-4 div.sk-parallel {display: flex;align-items: stretch;justify-content: center;background-color: white;position: relative;}#sk-container-id-4 div.sk-item::before, #sk-container-id-4 div.sk-parallel-item::before {content: \"\";position: absolute;border-left: 1px solid gray;box-sizing: border-box;top: 0;bottom: 0;left: 50%;z-index: -1;}#sk-container-id-4 div.sk-parallel-item {display: flex;flex-direction: column;z-index: 1;position: relative;background-color: white;}#sk-container-id-4 div.sk-parallel-item:first-child::after {align-self: flex-end;width: 50%;}#sk-container-id-4 div.sk-parallel-item:last-child::after {align-self: flex-start;width: 50%;}#sk-container-id-4 div.sk-parallel-item:only-child::after {width: 0;}#sk-container-id-4 div.sk-dashed-wrapped {border: 1px dashed gray;margin: 0 0.4em 0.5em 0.4em;box-sizing: border-box;padding-bottom: 0.4em;background-color: white;}#sk-container-id-4 div.sk-label label {font-family: monospace;font-weight: bold;display: inline-block;line-height: 1.2em;}#sk-container-id-4 div.sk-label-container {text-align: center;}#sk-container-id-4 div.sk-container {/* jupyter's `normalize.less` sets `[hidden] { display: none; }` but bootstrap.min.css set `[hidden] { display: none !important; }` so we also need the `!important` here to be able to override the default hidden behavior on the sphinx rendered scikit-learn.org. See: https://github.com/scikit-learn/scikit-learn/issues/21755 */display: inline-block !important;position: relative;}#sk-container-id-4 div.sk-text-repr-fallback {display: none;}</style><div id=\"sk-container-id-4\" class=\"sk-top-container\"><div class=\"sk-text-repr-fallback\"><pre>DecisionTreeClassifier()</pre><b>In a Jupyter environment, please rerun this cell to show the HTML representation or trust the notebook. <br />On GitHub, the HTML representation is unable to render, please try loading this page with nbviewer.org.</b></div><div class=\"sk-container\" hidden><div class=\"sk-item\"><div class=\"sk-estimator sk-toggleable\"><input class=\"sk-toggleable__control sk-hidden--visually\" id=\"sk-estimator-id-4\" type=\"checkbox\" checked><label for=\"sk-estimator-id-4\" class=\"sk-toggleable__label sk-toggleable__label-arrow\">DecisionTreeClassifier</label><div class=\"sk-toggleable__content\"><pre>DecisionTreeClassifier()</pre></div></div></div></div></div>"
      ],
      "text/plain": [
       "DecisionTreeClassifier()"
      ]
     },
     "execution_count": 56,
     "metadata": {},
     "output_type": "execute_result"
    }
   ],
   "source": [
    "tree = DecisionTreeClassifier()\n",
    "tree.fit(xtrain,ytrain)"
   ]
  },
  {
   "cell_type": "code",
   "execution_count": 57,
   "metadata": {},
   "outputs": [
    {
     "data": {
      "text/plain": [
       "(24, 444, 887)"
      ]
     },
     "execution_count": 57,
     "metadata": {},
     "output_type": "execute_result"
    }
   ],
   "source": [
    "tree.get_depth(),tree.tree_.n_leaves,tree.tree_.node_count"
   ]
  },
  {
   "cell_type": "code",
   "execution_count": 58,
   "metadata": {},
   "outputs": [
    {
     "name": "stdout",
     "output_type": "stream",
     "text": [
      "              precision    recall  f1-score   support\n",
      "\n",
      "           0       0.91      0.91      0.91      1025\n",
      "           1       0.90      0.91      0.91       975\n",
      "\n",
      "    accuracy                           0.91      2000\n",
      "   macro avg       0.91      0.91      0.91      2000\n",
      "weighted avg       0.91      0.91      0.91      2000\n",
      "\n",
      "[[930  95]\n",
      " [ 90 885]]\n"
     ]
    }
   ],
   "source": [
    "pred = tree.predict(xtest)\n",
    "\n",
    "print(classification_report(ytest,pred))\n",
    "print(confusion_matrix(ytest,pred))"
   ]
  },
  {
   "cell_type": "code",
   "execution_count": 59,
   "metadata": {},
   "outputs": [
    {
     "name": "stdout",
     "output_type": "stream",
     "text": [
      "DecisionTreeClassifier(max_depth=11, max_features=5, min_samples_split=100)\n",
      "0.931625\n"
     ]
    }
   ],
   "source": [
    "params = dict(\n",
    "    max_depth = np.arange(3,20),\n",
    "    min_samples_split = [100,150,200],\n",
    ")\n",
    "gridTree = GridSearchCV(estimator=DecisionTreeClassifier(max_features=5),param_grid=params,scoring='accuracy')\n",
    "gridTree.fit(xtrain,ytrain)\n",
    "\n",
    "print(gridTree.best_estimator_)\n",
    "print(gridTree.best_score_)"
   ]
  },
  {
   "cell_type": "code",
   "execution_count": 60,
   "metadata": {},
   "outputs": [
    {
     "name": "stdout",
     "output_type": "stream",
     "text": [
      "              precision    recall  f1-score   support\n",
      "\n",
      "           0       0.93      0.94      0.94      1025\n",
      "           1       0.94      0.92      0.93       975\n",
      "\n",
      "    accuracy                           0.93      2000\n",
      "   macro avg       0.93      0.93      0.93      2000\n",
      "weighted avg       0.93      0.93      0.93      2000\n",
      "\n",
      "[[968  57]\n",
      " [ 74 901]]\n"
     ]
    }
   ],
   "source": [
    "tree = DecisionTreeClassifier(max_depth=17, max_features=5, min_samples_split=100)\n",
    "tree.fit(xtrain,ytrain)\n",
    "pred = tree.predict(xtest)\n",
    "\n",
    "print(classification_report(ytest,pred))\n",
    "print(confusion_matrix(ytest,pred))"
   ]
  },
  {
   "cell_type": "code",
   "execution_count": 61,
   "metadata": {},
   "outputs": [],
   "source": [
    "export_graphviz(decision_tree=tree,out_file='img/tree.dot')\n",
    "with open('img/tree.dot','r') as file:\n",
    "    dot = file.read()\n",
    "#Source(dot)"
   ]
  },
  {
   "cell_type": "code",
   "execution_count": 62,
   "metadata": {},
   "outputs": [],
   "source": [
    "from sklearn.base import ClassifierMixin\n",
    "from statistics   import mode\n",
    "class RandomFlorest(ClassifierMixin):\n",
    "    treinamentos = []\n",
    "    def __init__(self,Ninstance=1000,splits=10,CVtree=DecisionTreeClassifier()) -> None:\n",
    "        self.Ninstance = splits\n",
    "        self.splits    = Ninstance\n",
    "        self.Tree      = CVtree\n",
    "\n",
    "    def shuffle(self,X,y):\n",
    "        pass\n",
    "\n",
    "    def fit(self,X,y):\n",
    "        self.treinamentos = [self.Tree for i in range(self.splits)] \n",
    "        for enum,(train,test) in enumerate(ShuffleSplit(n_splits=self.splits,train_size=self.Ninstance).split(X,y)):\n",
    "            train = np.concatenate((train,test),axis=0)\n",
    "            xtrainf =  X[train,:]\n",
    "            ytrainf =  y[train]\n",
    "            self.treinamentos[enum].fit(xtrainf,ytrainf)\n",
    "\n",
    "    def predict(self,X):\n",
    "        dados = []\n",
    "        if np.size(X,axis=0) > 1:\n",
    "            for test in X:\n",
    "                moda = []\n",
    "                for trees in self.treinamentos:\n",
    "                    moda.append(trees.predict(np.array([test]))[0])\n",
    "                dados.append(mode(moda))\n",
    "            return dados\n",
    "        \n",
    "        \n",
    "random = RandomFlorest(10,3,tree)\n",
    "random.fit(xtrain,ytrain)\n",
    "\n",
    "pred = random.predict(xtest)"
   ]
  },
  {
   "cell_type": "code",
   "execution_count": 63,
   "metadata": {},
   "outputs": [
    {
     "data": {
      "text/plain": [
       "0.9335"
      ]
     },
     "execution_count": 63,
     "metadata": {},
     "output_type": "execute_result"
    }
   ],
   "source": [
    "accuracy_score(ytest,pred)"
   ]
  },
  {
   "cell_type": "code",
   "execution_count": 64,
   "metadata": {},
   "outputs": [
    {
     "name": "stdout",
     "output_type": "stream",
     "text": [
      "              precision    recall  f1-score   support\n",
      "\n",
      "           0       0.93      0.94      0.94      1025\n",
      "           1       0.93      0.93      0.93       975\n",
      "\n",
      "    accuracy                           0.93      2000\n",
      "   macro avg       0.93      0.93      0.93      2000\n",
      "weighted avg       0.93      0.93      0.93      2000\n",
      "\n",
      "[[959  66]\n",
      " [ 67 908]]\n"
     ]
    }
   ],
   "source": [
    "print(classification_report(ytest,pred))\n",
    "print(confusion_matrix(ytest,pred))"
   ]
  },
  {
   "cell_type": "code",
   "execution_count": 65,
   "metadata": {},
   "outputs": [
    {
     "name": "stdout",
     "output_type": "stream",
     "text": [
      "[1, 2, 4, 5]\n",
      "[5, 4, 1, 2]\n",
      "[4, 2, 5, 1]\n",
      "Subconjunto 1: [5, 4]\n",
      "Subconjunto 2: [4, 2]\n"
     ]
    }
   ],
   "source": [
    "lista_original = [1, 2, 4, 5]\n",
    "import random\n",
    "# Função para criar subconjuntos aleatórios\n",
    "def criar_subconjuntos_aleatorios(lista, num_subconjuntos, tamanho_subconjunto):\n",
    "    print(lista)\n",
    "    subconjuntos = []\n",
    "    for _ in range(num_subconjuntos):\n",
    "        # Embaralha a lista original\n",
    "        random.shuffle(lista)\n",
    "        print(lista)\n",
    "        # Seleciona elementos para criar o subconjunto\n",
    "    \n",
    "        subconjunto = lista[:tamanho_subconjunto]\n",
    "        subconjuntos.append(subconjunto)\n",
    "    return subconjuntos\n",
    "\n",
    "# Definindo parâmetros\n",
    "num_subconjuntos = 2\n",
    "tamanho_subconjunto = 2\n",
    "\n",
    "# Criando os subconjuntos aleatórios\n",
    "subconjuntos_aleatorios = criar_subconjuntos_aleatorios(lista_original, num_subconjuntos, tamanho_subconjunto)\n",
    "\n",
    "# Exibindo os subconjuntos gerados\n",
    "for i, subconjunto in enumerate(subconjuntos_aleatorios, start=1):\n",
    "    print(f\"Subconjunto {i}: {subconjunto}\")"
   ]
  },
  {
   "cell_type": "markdown",
   "metadata": {},
   "source": [
    "### Adaboost"
   ]
  },
  {
   "cell_type": "code",
   "execution_count": 66,
   "metadata": {},
   "outputs": [],
   "source": [
    "class AdaBoost(ClassifierMixin):\n",
    "    models     = []\n",
    "    estimators = []\n",
    "    def __init__(self,estimator = DecisionTreeRegressor() , n_estimators = 3) -> None:\n",
    "        self.estimator    = estimator\n",
    "        self.n_estimators = n_estimators\n",
    "    \n",
    "    def fit(self,X,y):\n",
    "        self.models = [self.estimator for i in range(self.estimator)]\n",
    "        for model in self.models:\n",
    "            model.fit(X,y)\n",
    "            yn = model.predict(X)\n",
    "            self.estimators.append(model)\n",
    "            y  = y - yn"
   ]
  },
  {
   "cell_type": "markdown",
   "metadata": {},
   "source": [
    "### Gradiente boost"
   ]
  },
  {
   "cell_type": "code",
   "execution_count": 77,
   "metadata": {},
   "outputs": [],
   "source": [
    "class GradBoost(ClassifierMixin):\n",
    "    models     = []\n",
    "    estimators = []\n",
    "    def __init__(self,estimator = DecisionTreeRegressor() , n_estimators = 3) -> None:\n",
    "        self.estimator    = estimator\n",
    "        self.n_estimators = n_estimators\n",
    "    \n",
    "    def fit(self,X,y):\n",
    "        self.models = [self.estimator for i in range(self.n_estimators)]\n",
    "        for model in self.models:\n",
    "            model.fit(X,y)\n",
    "            yn = model.predict(X)\n",
    "            self.estimators.append(model)\n",
    "            y  = y - yn\n",
    "\n",
    "    def predict(self,X):\n",
    "        return sum(model.predict(X) for model in self.estimators)\n"
   ]
  },
  {
   "cell_type": "code",
   "execution_count": 78,
   "metadata": {},
   "outputs": [],
   "source": [
    "data = make_regression(n_features=3,n_samples=500)\n",
    "X = data[0]\n",
    "Y = data[1]\n",
    "\n",
    "xtrain ,xtest ,ytrain ,ytest = train_test_split(X,Y,test_size=0.2,random_state=42)"
   ]
  },
  {
   "cell_type": "code",
   "execution_count": 79,
   "metadata": {},
   "outputs": [],
   "source": [
    "grad = GradBoost()\n",
    "grad.fit(xtrain,ytrain)\n",
    "pred = grad.predict(xtest)"
   ]
  },
  {
   "cell_type": "code",
   "execution_count": 82,
   "metadata": {},
   "outputs": [
    {
     "data": {
      "text/plain": [
       "(73.1592748440089, 57.816782932024445)"
      ]
     },
     "execution_count": 82,
     "metadata": {},
     "output_type": "execute_result"
    }
   ],
   "source": [
    "np.sqrt(mean_squared_error(ytest,pred)),mean_absolute_error(ytest,pred)"
   ]
  }
 ],
 "metadata": {
  "kernelspec": {
   "display_name": "pythonVirtual",
   "language": "python",
   "name": "python3"
  },
  "language_info": {
   "codemirror_mode": {
    "name": "ipython",
    "version": 3
   },
   "file_extension": ".py",
   "mimetype": "text/x-python",
   "name": "python",
   "nbconvert_exporter": "python",
   "pygments_lexer": "ipython3",
   "version": "3.11.2"
  }
 },
 "nbformat": 4,
 "nbformat_minor": 2
}
