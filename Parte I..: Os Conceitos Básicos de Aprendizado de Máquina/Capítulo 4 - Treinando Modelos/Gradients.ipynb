{
 "cells": [
  {
   "cell_type": "code",
   "execution_count": 446,
   "metadata": {},
   "outputs": [],
   "source": [
    "import numpy as np\n",
    "import pandas as pd\n",
    "import matplotlib.pyplot as plt\n",
    "from   sklearn.metrics import r2_score,mean_absolute_error,mean_squared_error"
   ]
  },
  {
   "cell_type": "markdown",
   "metadata": {},
   "source": [
    "### Gradiente descendente"
   ]
  },
  {
   "cell_type": "code",
   "execution_count": 447,
   "metadata": {},
   "outputs": [],
   "source": [
    "from sklearn.base import RegressorMixin\n",
    "from typing       import Literal\n",
    "import random      \n",
    "class GradienteDescendente(RegressorMixin):\n",
    "    gradient = None\n",
    "    def __init__(self,solver:Literal['batch','stocastic','mini']='batch',eta=0.1,lenTheta=2,t0=5,t1=50,maxIter=1_000,n_epochs=100)->None:\n",
    "        self.solver  = solver\n",
    "        self.theta   = np.random.randn(lenTheta+1,1)\n",
    "        self.eta     = 0.1\n",
    "        self.maxIter = maxIter\n",
    "        self.t0       = t0\n",
    "        self.t1       = t1\n",
    "        self.n_epochs = n_epochs\n",
    "\n",
    "\n",
    "    def condition(self,vetor):\n",
    "        if np.any(np.isnan(vetor)):    return True\n",
    "        if np.any(np.isinf(vetor)):    return True\n",
    "        if np.any(np.isneginf(vetor)): return True\n",
    "        if np.any(np.isposinf(vetor)): return True\n",
    "        return False\n",
    "    \n",
    "    def fit(self,X:np.array,y:np.array):\n",
    "        m  = np.size(X,axis=0)\n",
    "        Xb = np.c_[ np.ones((m,1)) ,X]\n",
    "        \n",
    "        cronogramaLearning = lambda t : self.t0  / (t+self.t1)\n",
    "        match self.solver:\n",
    "            case 'batch':\n",
    "                for iter in range(self.maxIter):\n",
    "                    gradient = Xb.T.dot(Xb.dot(self.theta) - y)\n",
    "                    gradient = (2/m) * gradient \n",
    "                    \n",
    "                    if self.condition(gradient) :break\n",
    "\n",
    "                    self.theta = self.theta - self.eta * gradient \n",
    "                    \n",
    "                    if self.condition(self.theta):break\n",
    "\n",
    "\n",
    "            case 'stocastic':\n",
    "                \n",
    "\n",
    "                for epocas in range(self.n_epochs):\n",
    "                    for iter in range(m):\n",
    "                        randomIndex = np.random.randint(m)\n",
    "                        xi = Xb[randomIndex:randomIndex+1,:]\n",
    "                        yi = y[randomIndex:randomIndex+1,:]\n",
    "\n",
    "                        gradient = 2 * xi.T.dot(xi.dot(self.theta) - yi)\n",
    "\n",
    "                        if self.condition(gradient) :break\n",
    "\n",
    "                        eta        = cronogramaLearning(epocas*m+iter)\n",
    "                        self.theta = self.theta - eta*gradient  \n",
    "\n",
    "                        if self.condition(self.theta):break\n",
    "\n",
    "            case 'mini':\n",
    "                lista  = [i for i in range(m)]\n",
    "                sample  = random.sample(lista,k = int(np.ceil(m/2)))\n",
    "                sample2 = list(set(lista)-set(sample))\n",
    "                sample  = [sample,sample2]\n",
    "                for miniLote in sample:\n",
    "                    for iter in range(m):\n",
    "                        xi = Xb[miniLote,:]\n",
    "                        yi = y[miniLote ,:]\n",
    "                        \n",
    "                        gradient = 2 * xi.T.dot(xi.dot(self.theta) - yi)\n",
    "\n",
    "                        if self.condition(gradient) :break\n",
    "\n",
    "                        eta        = cronogramaLearning(len(miniLote)*m+iter)\n",
    "                        self.theta = self.theta - eta*gradient  \n",
    "\n",
    "                        if self.condition(self.theta):break\n",
    "\n",
    "\n",
    "\n",
    "\n",
    "    \n",
    "    def predict(self,X):\n",
    "        soma = 0\n",
    "        for i in range(np.size(X,axis=1)):\n",
    "            soma += self.theta[i+1] * X[:,i] \n",
    "        return self.theta[0] + soma\n",
    "    "
   ]
  },
  {
   "cell_type": "code",
   "execution_count": 448,
   "metadata": {},
   "outputs": [],
   "source": [
    "from sklearn.preprocessing import StandardScaler\n",
    "\n",
    "data = pd.read_csv('dataset/SalárioMultipla.csv')\n",
    "data = pd.get_dummies(data,columns=['Nivel_Educacao'],dtype=int)\n",
    "\n",
    "data[['Experiencia','Idade']] = StandardScaler().fit_transform(data[['Experiencia','Idade']])"
   ]
  },
  {
   "cell_type": "code",
   "execution_count": 449,
   "metadata": {},
   "outputs": [],
   "source": [
    "from sklearn.model_selection import train_test_split\n",
    "from sklearn.preprocessing   import PolynomialFeatures\n",
    "X = data.drop(columns='Salario')\n",
    "Y = data['Salario'].values.reshape(-1,1)\n",
    "xtrain, xtest, ytrain, ytest = train_test_split(X.values,Y,test_size=6,random_state=42)"
   ]
  },
  {
   "cell_type": "code",
   "execution_count": null,
   "metadata": {},
   "outputs": [],
   "source": []
  },
  {
   "cell_type": "code",
   "execution_count": null,
   "metadata": {},
   "outputs": [],
   "source": []
  },
  {
   "cell_type": "code",
   "execution_count": 450,
   "metadata": {},
   "outputs": [],
   "source": [
    "grad = GradienteDescendente('mini',lenTheta=np.size(xtrain,axis=1))\n",
    "grad.fit(xtrain,ytrain)"
   ]
  },
  {
   "cell_type": "code",
   "execution_count": 451,
   "metadata": {},
   "outputs": [],
   "source": [
    "pred = grad.predict(xtest)"
   ]
  },
  {
   "cell_type": "code",
   "execution_count": 452,
   "metadata": {},
   "outputs": [
    {
     "data": {
      "text/plain": [
       "(0.9731724642818802, 255.1863262974331)"
      ]
     },
     "execution_count": 452,
     "metadata": {},
     "output_type": "execute_result"
    }
   ],
   "source": [
    "r2_score(ytest,pred),mean_absolute_error(ytest,pred)"
   ]
  },
  {
   "cell_type": "code",
   "execution_count": 453,
   "metadata": {},
   "outputs": [
    {
     "data": {
      "text/html": [
       "<div>\n",
       "<style scoped>\n",
       "    .dataframe tbody tr th:only-of-type {\n",
       "        vertical-align: middle;\n",
       "    }\n",
       "\n",
       "    .dataframe tbody tr th {\n",
       "        vertical-align: top;\n",
       "    }\n",
       "\n",
       "    .dataframe thead th {\n",
       "        text-align: right;\n",
       "    }\n",
       "</style>\n",
       "<table border=\"1\" class=\"dataframe\">\n",
       "  <thead>\n",
       "    <tr style=\"text-align: right;\">\n",
       "      <th></th>\n",
       "      <th>PRED</th>\n",
       "      <th>TRUE</th>\n",
       "    </tr>\n",
       "  </thead>\n",
       "  <tbody>\n",
       "    <tr>\n",
       "      <th>0</th>\n",
       "      <td>5405.118521</td>\n",
       "      <td>[5100]</td>\n",
       "    </tr>\n",
       "    <tr>\n",
       "      <th>1</th>\n",
       "      <td>7939.177218</td>\n",
       "      <td>[7900]</td>\n",
       "    </tr>\n",
       "    <tr>\n",
       "      <th>2</th>\n",
       "      <td>10797.541857</td>\n",
       "      <td>[10400]</td>\n",
       "    </tr>\n",
       "    <tr>\n",
       "      <th>3</th>\n",
       "      <td>4815.375635</td>\n",
       "      <td>[4900]</td>\n",
       "    </tr>\n",
       "    <tr>\n",
       "      <th>4</th>\n",
       "      <td>6150.559082</td>\n",
       "      <td>[6300]</td>\n",
       "    </tr>\n",
       "    <tr>\n",
       "      <th>5</th>\n",
       "      <td>8655.215078</td>\n",
       "      <td>[8100]</td>\n",
       "    </tr>\n",
       "  </tbody>\n",
       "</table>\n",
       "</div>"
      ],
      "text/plain": [
       "           PRED     TRUE\n",
       "0   5405.118521   [5100]\n",
       "1   7939.177218   [7900]\n",
       "2  10797.541857  [10400]\n",
       "3   4815.375635   [4900]\n",
       "4   6150.559082   [6300]\n",
       "5   8655.215078   [8100]"
      ]
     },
     "execution_count": 453,
     "metadata": {},
     "output_type": "execute_result"
    }
   ],
   "source": [
    "pd.DataFrame({'PRED':pred.tolist(),'TRUE':ytest.tolist()})"
   ]
  }
 ],
 "metadata": {
  "kernelspec": {
   "display_name": "pythonVirtual",
   "language": "python",
   "name": "python3"
  },
  "language_info": {
   "codemirror_mode": {
    "name": "ipython",
    "version": 3
   },
   "file_extension": ".py",
   "mimetype": "text/x-python",
   "name": "python",
   "nbconvert_exporter": "python",
   "pygments_lexer": "ipython3",
   "version": "3.11.2"
  }
 },
 "nbformat": 4,
 "nbformat_minor": 2
}
