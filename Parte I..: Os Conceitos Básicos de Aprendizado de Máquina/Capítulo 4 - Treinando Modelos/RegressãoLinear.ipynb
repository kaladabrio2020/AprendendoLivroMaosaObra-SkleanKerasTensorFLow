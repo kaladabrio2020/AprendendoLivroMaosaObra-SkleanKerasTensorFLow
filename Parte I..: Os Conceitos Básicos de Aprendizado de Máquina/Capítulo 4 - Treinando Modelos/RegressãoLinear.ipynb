{
 "cells": [
  {
   "cell_type": "code",
   "execution_count": 3,
   "metadata": {},
   "outputs": [],
   "source": [
    "import math\n",
    "import numpy as np\n",
    "import pandas as pd\n",
    "import matplotlib.pyplot as plt\n",
    "\n",
    "def plots(X,y,xtest,pred):\n",
    "    plt.scatter(X,y)\n",
    "    plt.plot(xtest,pred,color='red')\n",
    "    plt.show()"
   ]
  },
  {
   "cell_type": "markdown",
   "metadata": {},
   "source": [
    "## Regressão Linear Simples\n",
    "\n",
    "### Correlação Linear\n",
    "\n",
    "$$\n",
    "r = \\frac{n \\cdot \\sum(x \\cdot y) - \\sum{(x \\cdot y)}}{\\sqrt{[n \\cdot \\sum{x²} - (\\sum{x})²]}-\\sqrt{[n \\cdot \\sum{y²} - (\\sum{y})²]} }\n",
    "$$\n",
    "\n",
    "> Resultado entre [-1,1] \\\n",
    "> Usado para mostra a relação entre o atributo depedente e independente\n",
    "\n",
    "### Regressão Linear simples\n",
    "\n",
    "$$ y = \\theta_0 + X \\cdot \\theta_1 $$\n",
    "* $y$..: valor previsto\n",
    "* $X$..: caracteristica\n",
    "* $\\theta_0$.: intercepto | coeficiente linear\n",
    "    * $$\\theta_0 = \\frac{\\sum((X - X_{media}) \\cdot (y- y_{media}))}{(\\sum(X - X_{media})²)}$$\n",
    "* $\\theta_1$.: coeficiente angular\n",
    "    * $$ \\theta_1  = y_{media} - \\theta_1 * X_{media}$$\n",
    "\n",
    "\n",
    "### Metricas\n",
    "#### Error Médio Absuluto\n",
    "$\\frac{1}{m} \\sum^{m}_{i=0}|ytrue_i - pred_i|$ \n",
    "#### Raiz do erro quadratico médio\n",
    "$\\frac{1}{m} \\sqrt{\\sum^{m}_{i=0}(ytrue_i - pred_i)^2}$ \n",
    "#### R2 \n",
    "$1 - \\frac{\\sum(ytrue - pred)^2}{\\sum(ytrue - ytrue_{media})²}$"
   ]
  },
  {
   "cell_type": "code",
   "execution_count": 4,
   "metadata": {},
   "outputs": [],
   "source": [
    "class Stats:\n",
    "    def __init__(self,X:np.array,y:np.array):\n",
    "        self.m = np.size(X)\n",
    "        self.X = X\n",
    "        self.y = y\n",
    "    \n",
    "    def Corr(self):\n",
    "        p1 = (self.m * np.sum(self.X * self.y)) - (np.sum(self.X) *  np.sum(self.y))\n",
    "        p2_0 = np.around(( self.m * np.sum(self.X**2) ) - (np.sum(self.X)**2),3)\n",
    "        p2_1 = np.around(( self.m * np.sum(self.y**2) ) - (np.sum(self.y)**2),3)\n",
    "        \n",
    "        return p1/np.sqrt(np.abs(p2_0 * p2_1))\n",
    "    \n",
    "    def Root_Mean_squared_error(self,pred,ytrue):\n",
    "        return np.sqrt( np.mean((pred-ytrue)**2) )\n",
    "\n",
    "    def Mean_absolute_error(self,pred,ytrue):\n",
    "        return np.mean(abs(pred-ytrue))\n",
    "    \n",
    "    def r2_Score(self,pred,ytrue):\n",
    "        return 1 - (np.sum((ytrue-pred)**2))/(np.sum((ytrue - np.mean(ytrue))**2))\n",
    "    "
   ]
  },
  {
   "cell_type": "code",
   "execution_count": 5,
   "metadata": {},
   "outputs": [],
   "source": [
    "from sklearn.metrics import mean_absolute_error,mean_squared_error"
   ]
  },
  {
   "cell_type": "markdown",
   "metadata": {},
   "source": [
    "&nbsp;"
   ]
  },
  {
   "cell_type": "markdown",
   "metadata": {},
   "source": [
    "&nbsp;"
   ]
  },
  {
   "cell_type": "markdown",
   "metadata": {},
   "source": [
    "## Regressão Linear \n",
    "### Equação Preditiva do modelo\n",
    "$$\n",
    "\\^{y} = \\theta_0 + \\theta_1 \\cdot x_1 + ....... + \\theta_n \\cdot x_n\n",
    "$$\n",
    "* $\\^{y}$...: Valor previsto\n",
    "* $\\theta_0$..: Coeficiente angular| intercepto\n",
    "* $\\theta_1$..: Peso das caracteristicas\n",
    "* $x_n$..: Valor das caracteristicas"
   ]
  },
  {
   "cell_type": "code",
   "execution_count": 43,
   "metadata": {},
   "outputs": [],
   "source": [
    "from sklearn.base import RegressorMixin\n",
    "from typing       import Literal\n",
    "\n",
    "class RegressaoLinear(RegressorMixin):\n",
    "    theta = None\n",
    "    def __init__(self,Type:Literal['Simples','Normal','SVD']='Simples') -> None:\n",
    "        self.Type = Type\n",
    "        \n",
    "\n",
    "    def fit(self,X:np.array ,y:np.array):\n",
    "        m  = np.size(X,axis=0)\n",
    "        Xb = np.c_[ np.ones((m,1)) , X]\n",
    "\n",
    "        match self.Type:\n",
    "            case 'Simples':\n",
    "                coef       = np.sum((X - np.mean(X)) * (y - np.mean(y))) / (np.sum((X - np.mean(X))**2))\n",
    "                intercept  = np.mean(y) - coef * np.mean(X) \n",
    "                self.theta = np.array([[intercept],[coef]])\n",
    "\n",
    "            case 'SVD':\n",
    "                U , S ,Vt = np.linalg.svd(Xb,full_matrices=False)\n",
    "                self.theta = Vt.T @ np.linalg.inv(np.diag(S)) @ U.T @ y\n",
    "            \n",
    "            case 'Normal':\n",
    "                self.theta = np.linalg.inv(Xb.T.dot(Xb)).dot(Xb.T).dot(y)\n",
    "\n",
    "        \n",
    "\n",
    "        return self.theta \n",
    "    def predict(self,X):\n",
    "        soma = 0\n",
    "        for i in range(np.size(X,axis=1)):\n",
    "            soma += self.theta[i+1] * X[:,i] \n",
    "        return self.theta[0] + soma "
   ]
  },
  {
   "cell_type": "code",
   "execution_count": 45,
   "metadata": {},
   "outputs": [],
   "source": [
    "from sklearn.model_selection import train_test_split\n",
    "\n",
    "data = pd.read_csv('dataset/Salário.csv')\n",
    "X = data['Experiencia']\n",
    "y = data['Salario']\n",
    "xtrain , xtest , ytrain, ytest = train_test_split(X.values,y.values,random_state=42,test_size=5)"
   ]
  },
  {
   "cell_type": "code",
   "execution_count": 44,
   "metadata": {},
   "outputs": [
    {
     "data": {
      "text/plain": [
       "0.987938808410141"
      ]
     },
     "execution_count": 44,
     "metadata": {},
     "output_type": "execute_result"
    }
   ],
   "source": [
    "stats = Stats(X,y)\n",
    "stats.Corr()"
   ]
  },
  {
   "cell_type": "code",
   "execution_count": 42,
   "metadata": {},
   "outputs": [
    {
     "name": "stdout",
     "output_type": "stream",
     "text": [
      "CPU times: user 2 µs, sys: 1e+03 ns, total: 3 µs\n",
      "Wall time: 5.25 µs\n"
     ]
    },
    {
     "data": {
      "text/plain": [
       "array([[2853.97865023],\n",
       "       [1085.48432035]])"
      ]
     },
     "execution_count": 42,
     "metadata": {},
     "output_type": "execute_result"
    }
   ],
   "source": [
    "reg = RegressaoLinear('Simples')\n",
    "reg.fit(xtrain,ytrain)"
   ]
  },
  {
   "cell_type": "code",
   "execution_count": 46,
   "metadata": {},
   "outputs": [
    {
     "data": {
      "image/png": "[encoded data removed]",
      "text/plain": [
       "<Figure size 640x480 with 1 Axes>"
      ]
     },
     "metadata": {},
     "output_type": "display_data"
    }
   ],
   "source": [
    "plots(xtrain,ytrain,xtest,reg.predict(xtest))"
   ]
  },
  {
   "cell_type": "code",
   "execution_count": null,
   "metadata": {},
   "outputs": [
    {
     "name": "stdout",
     "output_type": "stream",
     "text": [
      "Absulute error: 391.66722806492305\n",
      "R2............:  0.941938262691848\n",
      "Squared.......: 578.4245456967533\n"
     ]
    }
   ],
   "source": [
    "print('Absulute error:',stats.Mean_absolute_error(reg.predict(xtest),ytest))\n",
    "print('R2............: ',stats.r2_Score(reg.predict(xtest),ytest))\n",
    "print('Squared.......:',stats.Root_Mean_squared_error(reg.predict(xtest),ytest))"
   ]
  }
 ],
 "metadata": {
  "kernelspec": {
   "display_name": "pythonVirtual",
   "language": "python",
   "name": "python3"
  },
  "language_info": {
   "codemirror_mode": {
    "name": "ipython",
    "version": 3
   },
   "file_extension": ".py",
   "mimetype": "text/x-python",
   "name": "python",
   "nbconvert_exporter": "python",
   "pygments_lexer": "ipython3",
   "version": "3.11.2"
  }
 },
 "nbformat": 4,
 "nbformat_minor": 2
}
