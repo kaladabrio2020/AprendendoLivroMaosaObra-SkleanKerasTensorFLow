{
 "cells": [
  {
   "cell_type": "code",
   "execution_count": 2,
   "metadata": {},
   "outputs": [],
   "source": [
    "import numpy as np\n",
    "import pandas as pd\n",
    "import seaborn as sea\n",
    "import matplotlib.pyplot as plt\n",
    "from sklearn.model_selection import train_test_split"
   ]
  },
  {
   "cell_type": "code",
   "execution_count": 3,
   "metadata": {},
   "outputs": [],
   "source": [
    "def Mean_Squared_Error(pred,y,squared=True):\n",
    "    rmse = (1/np.size(y))*np.sum(pred-y)\n",
    "    if (squared):\n",
    "        return np.sqrt(rmse)\n",
    "    return rmse\n",
    "def Mean_Absolute_Error(pred,y):\n",
    "    return (1/np.size(y))*abs(np.sum(pred-y))\n",
    "\n",
    "def R2(pred,y):\n",
    "    mean = np.mean(y)\n",
    "    sum1 = sum2 = 0\n",
    "    for i in range(np.size(pred)):\n",
    "        sum1 += (y[i] - pred[i])**2\n",
    "    for i in range(np.size(pred)):\n",
    "        sum2 += (y[i] - mean)**2\n",
    "    return abs(1 - (sum1/sum2))"
   ]
  },
  {
   "cell_type": "markdown",
   "metadata": {},
   "source": [
    "## Regressão Linear\n",
    "Releção estatistica entre dois atributos\n",
    "* Problema separado linearmente\n",
    "* Prever|Previsão um target\n",
    "\n",
    "### Estatístico\n",
    "\n",
    "$y = a\\cdot x + b$ \\\n",
    "$a$:coefiente linear\n",
    "> $a = \\frac{\\sum{xy}-\\sum{x} \\cdot {\\sum{y}} }{\\sum{x^2}-(\\sum{x})²}$ \n",
    "\n",
    "$b$:interceptor  \n",
    "> $b = media_y - a \\cdot media_x$"
   ]
  },
  {
   "cell_type": "code",
   "execution_count": 4,
   "metadata": {},
   "outputs": [
    {
     "data": {
      "text/html": [
       "<div>\n",
       "<style scoped>\n",
       "    .dataframe tbody tr th:only-of-type {\n",
       "        vertical-align: middle;\n",
       "    }\n",
       "\n",
       "    .dataframe tbody tr th {\n",
       "        vertical-align: top;\n",
       "    }\n",
       "\n",
       "    .dataframe thead th {\n",
       "        text-align: right;\n",
       "    }\n",
       "</style>\n",
       "<table border=\"1\" class=\"dataframe\">\n",
       "  <thead>\n",
       "    <tr style=\"text-align: right;\">\n",
       "      <th></th>\n",
       "      <th>Apartamento</th>\n",
       "      <th>Metragem (m²)</th>\n",
       "      <th>Preço (USD)</th>\n",
       "    </tr>\n",
       "  </thead>\n",
       "  <tbody>\n",
       "    <tr>\n",
       "      <th>0</th>\n",
       "      <td>Apartamento 1</td>\n",
       "      <td>100</td>\n",
       "      <td>150000</td>\n",
       "    </tr>\n",
       "    <tr>\n",
       "      <th>1</th>\n",
       "      <td>Apartamento 2</td>\n",
       "      <td>75</td>\n",
       "      <td>120000</td>\n",
       "    </tr>\n",
       "    <tr>\n",
       "      <th>2</th>\n",
       "      <td>Apartamento 3</td>\n",
       "      <td>120</td>\n",
       "      <td>200000</td>\n",
       "    </tr>\n",
       "  </tbody>\n",
       "</table>\n",
       "</div>"
      ],
      "text/plain": [
       "     Apartamento   Metragem (m²)   Preço (USD)\n",
       "0  Apartamento 1             100        150000\n",
       "1  Apartamento 2              75        120000\n",
       "2  Apartamento 3             120        200000"
      ]
     },
     "execution_count": 4,
     "metadata": {},
     "output_type": "execute_result"
    }
   ],
   "source": [
    "apart = pd.read_csv(r'dataset/PreçoApartamento.csv')\n",
    "apart.head(3)"
   ]
  },
  {
   "cell_type": "code",
   "execution_count": 5,
   "metadata": {},
   "outputs": [],
   "source": [
    "x = apart[' Metragem (m²)']\n",
    "y = apart[' Preço (USD)']"
   ]
  },
  {
   "cell_type": "code",
   "execution_count": 6,
   "metadata": {},
   "outputs": [],
   "source": [
    "xy = pd.Series(data=x*y  ,name='xy')\n",
    "xx = pd.Series(data=x**2 ,name='xx')"
   ]
  },
  {
   "cell_type": "code",
   "execution_count": 7,
   "metadata": {},
   "outputs": [],
   "source": [
    "# coeficiente linear\n",
    "a = ((len(xy)*np.sum(xy) - np.sum(x) * np.sum(y) )) / (len(xy)*np.sum(xx) - (np.sum(x)**2))\n",
    "# interceptor\n",
    "b = np.mean(y) - a*np.mean(x) "
   ]
  },
  {
   "cell_type": "code",
   "execution_count": 8,
   "metadata": {},
   "outputs": [
    {
     "data": {
      "image/png": "[encoded data removed]",
      "text/plain": [
       "<Figure size 600x400 with 1 Axes>"
      ]
     },
     "metadata": {},
     "output_type": "display_data"
    }
   ],
   "source": [
    "plt.figure(figsize=(6,4))\n",
    "plt.scatter(x,y)\n",
    "plt.plot(x,(a*x+b),'red')\n",
    "plt.ylabel('Preço (USD)')\n",
    "plt.xlabel(' Metragem (m²)')\n",
    "plt.show()"
   ]
  },
  {
   "cell_type": "markdown",
   "metadata": {},
   "source": [
    "Fazendo a previsão dos preços de um apartamento com 78 $m^2$ e com 32 $m²$"
   ]
  },
  {
   "cell_type": "code",
   "execution_count": 9,
   "metadata": {},
   "outputs": [
    {
     "name": "stdout",
     "output_type": "stream",
     "text": [
      "Preço para apartamento com 78 m²:110841.09816971714\n",
      "Preço para apartamento com 32 m²:43515.21274067031\n"
     ]
    }
   ],
   "source": [
    "print('Preço para apartamento com 78 m²:'+str(a * 72 + b))\n",
    "print('Preço para apartamento com 32 m²:'+str(a * 32 + b))"
   ]
  },
  {
   "cell_type": "markdown",
   "metadata": {},
   "source": [
    "&nbsp;"
   ]
  },
  {
   "cell_type": "markdown",
   "metadata": {},
   "source": [
    "### Machine learning\n",
    "\n",
    "#### Predição do Modelo \n",
    "$$\n",
    "\\^{y} = \\theta_0 + \\theta_1x_1 + \\theta_2x_2+...+\\theta_nx_n\n",
    "$$\n",
    "* $\\theta_n$ = são os parametro do modelo\n",
    "    * $\\theta_0$ : intercepto\n",
    "    * $\\theta_{n \\geq i}$ : coeficiente linear\n",
    "* $x_n$ = são as caracteristicas (atributo)\n",
    "* $n$ = é quantidade de caracteristicas\n",
    "* $\\^{y}$ = valor previsto\n",
    "\n",
    "#### Equação Normal\n",
    "$$\\^{\\theta} = (X^T X)^{-1} X^T y$$"
   ]
  },
  {
   "cell_type": "code",
   "execution_count": 10,
   "metadata": {},
   "outputs": [],
   "source": [
    "from typing       import Literal,_LiteralGenericAlias\n",
    "from sklearn.base import RegressorMixin\n",
    "\n",
    "\n",
    "class RegressaoLinear(RegressorMixin):\n",
    "    theta = None\n",
    "    def __init__(self,solver=Literal['normal','svd']):\n",
    "    \n",
    "        if (type(solver)==_LiteralGenericAlias):\n",
    "            self.solver = 'normal'\n",
    "        else:\n",
    "            self.solver = solver\n",
    "\n",
    "    def fit(self,X:np.array, y:np.array):\n",
    "        m = np.size(X)\n",
    "        X = np.c_[ np.ones((m,1)) , X]\n",
    "        if (self.solver == 'normal'):\n",
    "            self.theta = np.linalg.inv(X.T.dot(X)).dot(X.T).dot(y)     \n",
    "        \n",
    "        return self.theta\n",
    "        \n",
    "    \n",
    "    def predict(self,X:np.array)->Literal['Valor y']:\n",
    "        return (self.theta[1] * X ) + self.theta[0] # y = theta_0 + theta_1x1....."
   ]
  },
  {
   "cell_type": "code",
   "execution_count": 11,
   "metadata": {},
   "outputs": [],
   "source": [
    "salario = pd.read_csv(r'dataset/Salário.csv')\n",
    "\n",
    "X = salario['Experiencia'].values.reshape(-1,1)\n",
    "Y = salario['Salario'].values.reshape(-1,1)\n",
    "\n",
    "xtrain , xtest ,ytrain , ytest = train_test_split(X,Y,random_state=42,train_size=45)"
   ]
  },
  {
   "cell_type": "code",
   "execution_count": 12,
   "metadata": {},
   "outputs": [
    {
     "data": {
      "image/png": "[encoded data removed]",
      "text/plain": [
       "<Figure size 600x400 with 1 Axes>"
      ]
     },
     "metadata": {},
     "output_type": "display_data"
    }
   ],
   "source": [
    "plt.figure(figsize=(6,4))\n",
    "plt.scatter(xtrain,ytrain); plt.ylabel('salario');plt.xlabel('limite')\n",
    "plt.show()"
   ]
  },
  {
   "cell_type": "code",
   "execution_count": 13,
   "metadata": {},
   "outputs": [
    {
     "data": {
      "text/plain": [
       "array([[2847.01740378],\n",
       "       [1085.98791782]])"
      ]
     },
     "execution_count": 13,
     "metadata": {},
     "output_type": "execute_result"
    }
   ],
   "source": [
    "reg = RegressaoLinear('normal')\n",
    "reg.fit(xtrain,ytrain)"
   ]
  },
  {
   "cell_type": "markdown",
   "metadata": {},
   "source": [
    "array[0] = intercepto | coeficiente linear\\\n",
    "array[1] = coeficiente angular\\\n",
    "Função do modelo \\\n",
    "Vou querer valores de experiencia 3.5, 4"
   ]
  },
  {
   "cell_type": "code",
   "execution_count": 14,
   "metadata": {},
   "outputs": [],
   "source": [
    "pred = reg.predict(xtest)"
   ]
  },
  {
   "cell_type": "code",
   "execution_count": 15,
   "metadata": {},
   "outputs": [
    {
     "data": {
      "image/png": "[encoded data removed]",
      "text/plain": [
       "<Figure size 600x400 with 1 Axes>"
      ]
     },
     "metadata": {},
     "output_type": "display_data"
    }
   ],
   "source": [
    "plt.figure(figsize=(6,4))\n",
    "plt.scatter(xtrain,ytrain); \n",
    "plt.plot(xtest,pred,'red')\n",
    "plt.ylabel('salario');plt.xlabel('limite')\n",
    "plt.show()"
   ]
  },
  {
   "cell_type": "code",
   "execution_count": 16,
   "metadata": {},
   "outputs": [
    {
     "data": {
      "text/plain": [
       "(107.21189190341178, 10.354317548897743, array([0.94623829]))"
      ]
     },
     "execution_count": 16,
     "metadata": {},
     "output_type": "execute_result"
    }
   ],
   "source": [
    "Mean_Absolute_Error(pred,ytest),Mean_Squared_Error(pred,ytest),R2(pred,ytest)"
   ]
  }
 ],
 "metadata": {
  "kernelspec": {
   "display_name": "pythonVirtual",
   "language": "python",
   "name": "python3"
  },
  "language_info": {
   "codemirror_mode": {
    "name": "ipython",
    "version": 3
   },
   "file_extension": ".py",
   "mimetype": "text/x-python",
   "name": "python",
   "nbconvert_exporter": "python",
   "pygments_lexer": "ipython3",
   "version": "3.11.2"
  }
 },
 "nbformat": 4,
 "nbformat_minor": 2
}
