{
 "cells": [
  {
   "cell_type": "code",
   "execution_count": 12,
   "metadata": {},
   "outputs": [],
   "source": [
    "import keras\n",
    "import numpy as np\n",
    "import tensorflow as tf\n",
    "import datetime\n",
    "from sklearn.datasets import fetch_california_housing\n",
    "from sklearn.model_selection import train_test_split\n",
    "from sklearn.preprocessing   import StandardScaler"
   ]
  },
  {
   "cell_type": "code",
   "execution_count": 2,
   "metadata": {},
   "outputs": [],
   "source": [
    "X, y = fetch_california_housing(return_X_y=True)"
   ]
  },
  {
   "cell_type": "code",
   "execution_count": 3,
   "metadata": {},
   "outputs": [
    {
     "data": {
      "text/plain": [
       "(20640, 8)"
      ]
     },
     "execution_count": 3,
     "metadata": {},
     "output_type": "execute_result"
    }
   ],
   "source": [
    "X = StandardScaler().fit_transform(X)\n",
    "X.shape"
   ]
  },
  {
   "cell_type": "code",
   "execution_count": 4,
   "metadata": {},
   "outputs": [],
   "source": [
    "xtrain, xtest, ytrain, ytest = train_test_split(X, y, random_state=42, train_size=0.75)"
   ]
  },
  {
   "cell_type": "code",
   "execution_count": 5,
   "metadata": {},
   "outputs": [],
   "source": [
    "from functools import partial\n",
    "def Model():\n",
    "    Dense =  partial(\n",
    "        keras.layers.Dense,\n",
    "        activation = keras.activations.selu,\n",
    "        kernel_initializer = keras.initializers.lecun_normal     \n",
    "    )\n",
    "    model = keras.models.Sequential(\n",
    "        layers=[\n",
    "            Dense(16),\n",
    "            Dense(8),\n",
    "            Dense(4),\n",
    "            Dense(2),\n",
    "            keras.layers.Dense(1)\n",
    "        ]\n",
    "    )\n",
    "    return model"
   ]
  },
  {
   "cell_type": "markdown",
   "metadata": {},
   "source": [
    "## customizando modelos"
   ]
  },
  {
   "cell_type": "code",
   "execution_count": 14,
   "metadata": {},
   "outputs": [],
   "source": [
    "def huder_fn(ytrue, ypred):\n",
    "    error = ytrue - ypred\n",
    "    is_small_error = tf.abs(error)<1\n",
    "    squared_loss   = tf.square(error)/2\n",
    "    linear_loss    = tf.abs(error) - 0.5\n",
    "    return tf.where(is_small_error, squared_loss, linear_loss)"
   ]
  },
  {
   "cell_type": "code",
   "execution_count": 16,
   "metadata": {},
   "outputs": [
    {
     "name": "stdout",
     "output_type": "stream",
     "text": [
      "Epoch 1/20\n",
      "484/484 [==============================] - 2s 2ms/step - loss: 0.3428\n",
      "Epoch 2/20\n",
      "484/484 [==============================] - 1s 2ms/step - loss: 0.1968\n",
      "Epoch 3/20\n",
      "484/484 [==============================] - 1s 2ms/step - loss: 0.1856\n",
      "Epoch 4/20\n",
      "484/484 [==============================] - 1s 2ms/step - loss: 0.1790\n",
      "Epoch 5/20\n",
      "484/484 [==============================] - 1s 2ms/step - loss: 0.1738\n",
      "Epoch 6/20\n",
      "484/484 [==============================] - 1s 2ms/step - loss: 0.1700\n",
      "Epoch 7/20\n",
      "484/484 [==============================] - 1s 2ms/step - loss: 0.1668\n",
      "Epoch 8/20\n",
      "484/484 [==============================] - 1s 2ms/step - loss: 0.1637\n",
      "Epoch 9/20\n",
      "484/484 [==============================] - 1s 2ms/step - loss: 0.1607\n",
      "Epoch 10/20\n",
      "484/484 [==============================] - 1s 2ms/step - loss: 0.1591\n",
      "Epoch 11/20\n",
      "484/484 [==============================] - 1s 2ms/step - loss: 0.1573\n",
      "Epoch 12/20\n",
      "484/484 [==============================] - 1s 2ms/step - loss: 0.1555\n",
      "Epoch 13/20\n",
      "484/484 [==============================] - 1s 2ms/step - loss: 0.1549\n",
      "Epoch 14/20\n",
      "484/484 [==============================] - 1s 2ms/step - loss: 0.1534\n",
      "Epoch 15/20\n",
      "484/484 [==============================] - 1s 2ms/step - loss: 0.1523\n",
      "Epoch 16/20\n",
      "484/484 [==============================] - 1s 2ms/step - loss: 0.1516\n",
      "Epoch 17/20\n",
      "484/484 [==============================] - 1s 1ms/step - loss: 0.1506\n",
      "Epoch 18/20\n",
      "484/484 [==============================] - 1s 1ms/step - loss: 0.1501\n",
      "Epoch 19/20\n",
      "484/484 [==============================] - 1s 2ms/step - loss: 0.1489\n",
      "Epoch 20/20\n",
      "484/484 [==============================] - 1s 2ms/step - loss: 0.1484\n"
     ]
    },
    {
     "data": {
      "text/plain": [
       "<keras.src.callbacks.History at 0x7fb786b5c610>"
      ]
     },
     "execution_count": 16,
     "metadata": {},
     "output_type": "execute_result"
    }
   ],
   "source": [
    "model = Model()\n",
    "path  ='logs/fit/'+datetime.datetime.now().strftime(\"%Y_%m_%d - %H_%M_%S\")\n",
    "tensorboard = keras.callbacks.TensorBoard(log_dir=path, histogram_freq=1)\n",
    "model.compile(\n",
    "    loss=huder_fn,\n",
    "    optimizer=keras.optimizers.RMSprop(),\n",
    ")\n",
    "model.fit(xtrain, ytrain, batch_size=32, epochs=20, callbacks=[tensorboard])"
   ]
  },
  {
   "cell_type": "code",
   "execution_count": null,
   "metadata": {},
   "outputs": [],
   "source": [
    "%tensorboard --logdir='logs/fit'"
   ]
  },
  {
   "cell_type": "code",
   "execution_count": 8,
   "metadata": {},
   "outputs": [
    {
     "name": "stdout",
     "output_type": "stream",
     "text": [
      "162/162 [==============================] - 0s 973us/step\n"
     ]
    }
   ],
   "source": [
    "predict = model.predict(xtest)"
   ]
  },
  {
   "cell_type": "code",
   "execution_count": 9,
   "metadata": {},
   "outputs": [
    {
     "name": "stdout",
     "output_type": "stream",
     "text": [
      "tf.Tensor(1.153928204041225, shape=(), dtype=float64)\n",
      "\n",
      "mean_absolute_error = 0.4016058296010809\n",
      "mean_squared_error  = 0.33581306014054385\n",
      "r2_score            = 0.7462148840817187\n",
      "\n",
      "\n"
     ]
    }
   ],
   "source": [
    "from sklearn.metrics import r2_score, mean_absolute_error, mean_squared_error\n",
    "print(tf.math.reduce_std(y))\n",
    "\n",
    "result = f'''\n",
    "mean_absolute_error = {mean_absolute_error(ytest ,predict)}\n",
    "mean_squared_error  = {mean_squared_error(ytest, predict)}\n",
    "r2_score            = {r2_score(ytest, predict)}\n",
    "\n",
    "'''\n",
    "print(result)"
   ]
  },
  {
   "cell_type": "code",
   "execution_count": 10,
   "metadata": {},
   "outputs": [],
   "source": [
    "def create_huber(threshold=1.0):\n",
    "    def huder_fn(ytrue, ypred):\n",
    "        error = ytrue - ypred\n",
    "        is_small_error = tf.abs(error) < threshold\n",
    "        squared_loss   = tf.square(error) / 2\n",
    "        linear_loss    = threshold * tf.abs(error) - threshold**2 /2\n",
    "        return tf.where( is_small_error, squared_loss, linear_loss)\n",
    "    return  huder_fn"
   ]
  },
  {
   "cell_type": "code",
   "execution_count": 11,
   "metadata": {},
   "outputs": [
    {
     "ename": "SyntaxError",
     "evalue": "invalid syntax (2575101267.py, line 7)",
     "output_type": "error",
     "traceback": [
      "\u001b[0;36m  Cell \u001b[0;32mIn[11], line 7\u001b[0;36m\u001b[0m\n\u001b[0;31m    )\u001b[0m\n\u001b[0m    ^\u001b[0m\n\u001b[0;31mSyntaxError\u001b[0m\u001b[0;31m:\u001b[0m invalid syntax\n"
     ]
    }
   ],
   "source": [
    "model = Model()\n",
    "\n",
    "model.compile(\n",
    "    loss=create_huber(2.0),\n",
    "    optimizer=keras.optimizers.RMSprop(),\n",
    "    callbacks=[keras.callbacks.EarlyStopping(monitor='loss', patience=3)]\n",
    ")\n",
    "model.fit(xtrain, ytrain, batch_size=32, epochs=20)"
   ]
  },
  {
   "cell_type": "code",
   "execution_count": null,
   "metadata": {},
   "outputs": [],
   "source": [
    "from sklearn.metrics import r2_score, mean_absolute_error, mean_squared_error\n",
    "print(tf.math.reduce_std(y))\n",
    "\n",
    "result = f'''\n",
    "mean_absolute_error = {mean_absolute_error(ytest ,predict)}\n",
    "mean_squared_error  = {mean_squared_error(ytest, predict)}\n",
    "r2_score            = {r2_score(ytest, predict)}\n",
    "\n",
    "'''\n",
    "print(result)"
   ]
  }
 ],
 "metadata": {
  "kernelspec": {
   "display_name": "venvGlobal",
   "language": "python",
   "name": "python3"
  },
  "language_info": {
   "codemirror_mode": {
    "name": "ipython",
    "version": 3
   },
   "file_extension": ".py",
   "mimetype": "text/x-python",
   "name": "python",
   "nbconvert_exporter": "python",
   "pygments_lexer": "ipython3",
   "version": "3.11.8"
  }
 },
 "nbformat": 4,
 "nbformat_minor": 2
}
