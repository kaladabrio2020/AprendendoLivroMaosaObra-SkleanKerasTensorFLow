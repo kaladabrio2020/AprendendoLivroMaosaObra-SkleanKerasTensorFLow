{
 "cells": [
  {
   "cell_type": "code",
   "execution_count": 11,
   "metadata": {},
   "outputs": [],
   "source": [
    "import keras\n",
    "import numpy as np\n",
    "import tensorflow as tf\n",
    "import datetime\n",
    "from sklearn.datasets import fetch_california_housing\n",
    "from sklearn.model_selection import train_test_split\n",
    "from sklearn.preprocessing   import StandardScaler\n",
    "from functools import partial\n",
    "import os\n",
    "import matplotlib.pyplot as plt\n",
    "import tensorflow as tf\n",
    "os.environ['TF_CPP_MIN_LOG_LEVEL'] = '3'"
   ]
  },
  {
   "cell_type": "code",
   "execution_count": 2,
   "metadata": {},
   "outputs": [],
   "source": [
    "X, y = fetch_california_housing(return_X_y=True)"
   ]
  },
  {
   "cell_type": "code",
   "execution_count": 3,
   "metadata": {},
   "outputs": [
    {
     "data": {
      "text/plain": [
       "(20640, 8)"
      ]
     },
     "execution_count": 3,
     "metadata": {},
     "output_type": "execute_result"
    }
   ],
   "source": [
    "X = StandardScaler().fit_transform(X)\n",
    "X.shape"
   ]
  },
  {
   "cell_type": "code",
   "execution_count": 4,
   "metadata": {},
   "outputs": [],
   "source": [
    "xtrain, xtest, ytrain, ytest = train_test_split(X, y, random_state=42, train_size=0.75)"
   ]
  },
  {
   "cell_type": "code",
   "execution_count": 5,
   "metadata": {},
   "outputs": [],
   "source": [
    "from functools import partial\n",
    "def Model():\n",
    "    Dense =  partial(\n",
    "        keras.layers.Dense,\n",
    "        activation = keras.activations.selu,\n",
    "        kernel_initializer = keras.initializers.lecun_normal     \n",
    "    )\n",
    "    model = keras.models.Sequential(\n",
    "        layers=[\n",
    "            Dense(16),\n",
    "            Dense(8),\n",
    "            Dense(4),\n",
    "            Dense(2),\n",
    "            keras.layers.Dense(1)\n",
    "        ]\n",
    "    )\n",
    "    return model"
   ]
  },
  {
   "cell_type": "markdown",
   "metadata": {},
   "source": [
    "## customizando modelos"
   ]
  },
  {
   "cell_type": "code",
   "execution_count": 6,
   "metadata": {},
   "outputs": [],
   "source": [
    "def huder_fn(ytrue, ypred):\n",
    "    error = ytrue - ypred\n",
    "    is_small_error = tf.abs(error)<1\n",
    "    squared_loss   = tf.square(error)/2\n",
    "    linear_loss    = tf.abs(error) - 0.5\n",
    "    return tf.where(is_small_error, squared_loss, linear_loss)"
   ]
  },
  {
   "cell_type": "code",
   "execution_count": 7,
   "metadata": {},
   "outputs": [
    {
     "name": "stdout",
     "output_type": "stream",
     "text": [
      "Epoch 1/20\n"
     ]
    },
    {
     "name": "stdout",
     "output_type": "stream",
     "text": [
      "484/484 [==============================] - 5s 6ms/step - loss: 0.4340\n",
      "Epoch 2/20\n",
      "484/484 [==============================] - 2s 4ms/step - loss: 0.2193\n",
      "Epoch 3/20\n",
      "484/484 [==============================] - 2s 4ms/step - loss: 0.1953\n",
      "Epoch 4/20\n",
      "484/484 [==============================] - 2s 3ms/step - loss: 0.1854\n",
      "Epoch 5/20\n",
      "484/484 [==============================] - 2s 3ms/step - loss: 0.1794\n",
      "Epoch 6/20\n",
      "484/484 [==============================] - 2s 3ms/step - loss: 0.1752\n",
      "Epoch 7/20\n",
      "484/484 [==============================] - 2s 4ms/step - loss: 0.1713\n",
      "Epoch 8/20\n",
      "484/484 [==============================] - 2s 4ms/step - loss: 0.1677\n",
      "Epoch 9/20\n",
      "484/484 [==============================] - 2s 3ms/step - loss: 0.1647\n",
      "Epoch 10/20\n",
      "484/484 [==============================] - 1s 3ms/step - loss: 0.1615\n",
      "Epoch 11/20\n",
      "484/484 [==============================] - 1s 2ms/step - loss: 0.1582\n",
      "Epoch 12/20\n",
      "484/484 [==============================] - 1s 2ms/step - loss: 0.1551\n",
      "Epoch 13/20\n",
      "484/484 [==============================] - 1s 2ms/step - loss: 0.1521\n",
      "Epoch 14/20\n",
      "484/484 [==============================] - 1s 2ms/step - loss: 0.1508\n",
      "Epoch 15/20\n",
      "484/484 [==============================] - 1s 2ms/step - loss: 0.1496\n",
      "Epoch 16/20\n",
      "484/484 [==============================] - 1s 2ms/step - loss: 0.1488\n",
      "Epoch 17/20\n",
      "484/484 [==============================] - 1s 2ms/step - loss: 0.1476\n",
      "Epoch 18/20\n",
      "484/484 [==============================] - 1s 2ms/step - loss: 0.1467\n",
      "Epoch 19/20\n",
      "484/484 [==============================] - 1s 2ms/step - loss: 0.1459\n",
      "Epoch 20/20\n",
      "484/484 [==============================] - 1s 2ms/step - loss: 0.1452\n"
     ]
    },
    {
     "data": {
      "text/plain": [
       "<keras.src.callbacks.History at 0x7fb24edda050>"
      ]
     },
     "execution_count": 7,
     "metadata": {},
     "output_type": "execute_result"
    }
   ],
   "source": [
    "model = Model()\n",
    "path  ='logs/fit/'+datetime.datetime.now().strftime(\"%Y_%m_%d - %H_%M_%S\")\n",
    "tensorboard = keras.callbacks.TensorBoard(log_dir=path, histogram_freq=1)\n",
    "model.compile(\n",
    "    loss=huder_fn,\n",
    "    optimizer=keras.optimizers.RMSprop(),\n",
    ")\n",
    "model.fit(xtrain, ytrain, batch_size=32, epochs=20, callbacks=[tensorboard])"
   ]
  },
  {
   "cell_type": "code",
   "execution_count": 8,
   "metadata": {},
   "outputs": [
    {
     "name": "stdout",
     "output_type": "stream",
     "text": [
      "162/162 [==============================] - 0s 1ms/step\n"
     ]
    }
   ],
   "source": [
    "predict = model.predict(xtest)"
   ]
  },
  {
   "cell_type": "code",
   "execution_count": 9,
   "metadata": {},
   "outputs": [
    {
     "name": "stdout",
     "output_type": "stream",
     "text": [
      "tf.Tensor(1.153928204041225, shape=(), dtype=float64)\n",
      "\n",
      "mean_absolute_error = 0.40067223891047354\n",
      "mean_squared_error  = 0.3350953113298305\n",
      "r2_score            = 0.7467573107671217\n",
      "\n",
      "\n"
     ]
    }
   ],
   "source": [
    "from sklearn.metrics import r2_score, mean_absolute_error, mean_squared_error\n",
    "print(tf.math.reduce_std(y))\n",
    "\n",
    "result = f'''\n",
    "mean_absolute_error = {mean_absolute_error(ytest ,predict)}\n",
    "mean_squared_error  = {mean_squared_error(ytest, predict)}\n",
    "r2_score            = {r2_score(ytest, predict)}\n",
    "\n",
    "'''\n",
    "print(result)"
   ]
  },
  {
   "cell_type": "code",
   "execution_count": 10,
   "metadata": {},
   "outputs": [],
   "source": [
    "def create_huber(threshold=1.0):\n",
    "    def huder_fn(ytrue, ypred):\n",
    "        error = ytrue - ypred\n",
    "        is_small_error = tf.abs(error) < threshold\n",
    "        squared_loss   = tf.square(error) / 2\n",
    "        linear_loss    = threshold * tf.abs(error) - threshold**2 /2\n",
    "        return tf.where( is_small_error, squared_loss, linear_loss)\n",
    "    return  huder_fn"
   ]
  },
  {
   "cell_type": "code",
   "execution_count": 11,
   "metadata": {},
   "outputs": [
    {
     "name": "stdout",
     "output_type": "stream",
     "text": [
      "Epoch 1/20\n",
      "484/484 [==============================] - 1s 1ms/step - loss: 0.4229\n",
      "Epoch 2/20\n",
      "484/484 [==============================] - 1s 1ms/step - loss: 0.2280\n",
      "Epoch 3/20\n",
      "484/484 [==============================] - 1s 1ms/step - loss: 0.2164\n",
      "Epoch 4/20\n",
      "484/484 [==============================] - 1s 1ms/step - loss: 0.2067\n",
      "Epoch 5/20\n",
      "484/484 [==============================] - 1s 2ms/step - loss: 0.1982\n",
      "Epoch 6/20\n",
      "484/484 [==============================] - 1s 2ms/step - loss: 0.1900\n",
      "Epoch 7/20\n",
      "484/484 [==============================] - 1s 1ms/step - loss: 0.1834\n",
      "Epoch 8/20\n",
      "484/484 [==============================] - 1s 2ms/step - loss: 0.1792\n",
      "Epoch 9/20\n",
      "484/484 [==============================] - 1s 1ms/step - loss: 0.1768\n",
      "Epoch 10/20\n",
      "484/484 [==============================] - 1s 1ms/step - loss: 0.1748\n",
      "Epoch 11/20\n",
      "484/484 [==============================] - 1s 1ms/step - loss: 0.1733\n",
      "Epoch 12/20\n",
      "484/484 [==============================] - 1s 1ms/step - loss: 0.1720\n",
      "Epoch 13/20\n",
      "484/484 [==============================] - 1s 1ms/step - loss: 0.1711\n",
      "Epoch 14/20\n",
      "484/484 [==============================] - 1s 1ms/step - loss: 0.1705\n",
      "Epoch 15/20\n",
      "484/484 [==============================] - 1s 2ms/step - loss: 0.1692\n",
      "Epoch 16/20\n",
      "484/484 [==============================] - 1s 1ms/step - loss: 0.1686\n",
      "Epoch 17/20\n",
      "484/484 [==============================] - 1s 1ms/step - loss: 0.1677\n",
      "Epoch 18/20\n",
      "484/484 [==============================] - 1s 1ms/step - loss: 0.1668\n",
      "Epoch 19/20\n",
      "484/484 [==============================] - 1s 1ms/step - loss: 0.1662\n",
      "Epoch 20/20\n",
      "484/484 [==============================] - 1s 1ms/step - loss: 0.1653\n"
     ]
    },
    {
     "data": {
      "text/plain": [
       "<keras.src.callbacks.History at 0x7fb24c725550>"
      ]
     },
     "execution_count": 11,
     "metadata": {},
     "output_type": "execute_result"
    }
   ],
   "source": [
    "model = Model()\n",
    "\n",
    "model.compile(\n",
    "    loss=create_huber(2.0),\n",
    "    optimizer=keras.optimizers.RMSprop(),\n",
    ")\n",
    "model.fit(xtrain, ytrain, batch_size=32, epochs=20, callbacks=[keras.callbacks.EarlyStopping(monitor='loss', patience=3)])"
   ]
  },
  {
   "cell_type": "code",
   "execution_count": 12,
   "metadata": {},
   "outputs": [
    {
     "name": "stdout",
     "output_type": "stream",
     "text": [
      "tf.Tensor(1.153928204041225, shape=(), dtype=float64)\n",
      "\n",
      "mean_absolute_error = 0.40067223891047354\n",
      "mean_squared_error  = 0.3350953113298305\n",
      "r2_score            = 0.7467573107671217\n",
      "\n",
      "\n"
     ]
    }
   ],
   "source": [
    "from sklearn.metrics import r2_score, mean_absolute_error, mean_squared_error\n",
    "print(tf.math.reduce_std(y))\n",
    "\n",
    "result = f'''\n",
    "mean_absolute_error = {mean_absolute_error(ytest ,predict)}\n",
    "mean_squared_error  = {mean_squared_error(ytest, predict)}\n",
    "r2_score            = {r2_score(ytest, predict)}\n",
    "\n",
    "'''\n",
    "print(result)"
   ]
  },
  {
   "cell_type": "markdown",
   "metadata": {},
   "source": [
    "construindo por meio de class"
   ]
  },
  {
   "cell_type": "code",
   "execution_count": 13,
   "metadata": {},
   "outputs": [],
   "source": [
    "class HuderLoss(keras.losses.Loss):\n",
    "    def __init__(self, threshold=1.0, **kwargs):\n",
    "        self.threshold = threshold\n",
    "        super().__init__(**kwargs)\n",
    "\n",
    "    def call(self, ytrue, ypred):\n",
    "        error = ytrue - ypred\n",
    "        is_small_error = tf.abs(error) < self.threshold\n",
    "        squared_loss   = tf.square(error) / 2\n",
    "        linear_loss    = self.threshold * tf.abs(error) - self.threshold**2 /2\n",
    "        return tf.where( is_small_error, squared_loss, linear_loss)\n",
    "    \n",
    "    def get_config(self):\n",
    "        base_config = super().get_config()\n",
    "        return {**base_config, \"threshold\": self.threshold}\n",
    "        "
   ]
  },
  {
   "cell_type": "code",
   "execution_count": 14,
   "metadata": {},
   "outputs": [
    {
     "name": "stdout",
     "output_type": "stream",
     "text": [
      "Epoch 1/20\n"
     ]
    },
    {
     "name": "stdout",
     "output_type": "stream",
     "text": [
      "484/484 [==============================] - 1s 1ms/step - loss: 0.4439\n",
      "Epoch 2/20\n",
      "484/484 [==============================] - 1s 1ms/step - loss: 0.2406\n",
      "Epoch 3/20\n",
      "484/484 [==============================] - 1s 1ms/step - loss: 0.2250\n",
      "Epoch 4/20\n",
      "484/484 [==============================] - 1s 1ms/step - loss: 0.2163\n",
      "Epoch 5/20\n",
      "484/484 [==============================] - 1s 1ms/step - loss: 0.2108\n",
      "Epoch 6/20\n",
      "484/484 [==============================] - 1s 1ms/step - loss: 0.2072\n",
      "Epoch 7/20\n",
      "484/484 [==============================] - 1s 2ms/step - loss: 0.2042\n",
      "Epoch 8/20\n",
      "484/484 [==============================] - 1s 2ms/step - loss: 0.2015\n",
      "Epoch 9/20\n",
      "484/484 [==============================] - 1s 2ms/step - loss: 0.1997\n",
      "Epoch 10/20\n",
      "484/484 [==============================] - 1s 2ms/step - loss: 0.1978\n",
      "Epoch 11/20\n",
      "484/484 [==============================] - 1s 2ms/step - loss: 0.1961\n",
      "Epoch 12/20\n",
      "484/484 [==============================] - 1s 1ms/step - loss: 0.1939\n",
      "Epoch 13/20\n",
      "484/484 [==============================] - 1s 2ms/step - loss: 0.1925\n",
      "Epoch 14/20\n",
      "484/484 [==============================] - 1s 1ms/step - loss: 0.1908\n",
      "Epoch 15/20\n",
      "484/484 [==============================] - 1s 1ms/step - loss: 0.1893\n",
      "Epoch 16/20\n",
      "484/484 [==============================] - 1s 1ms/step - loss: 0.1874\n",
      "Epoch 17/20\n",
      "484/484 [==============================] - 1s 1ms/step - loss: 0.1864\n",
      "Epoch 18/20\n",
      "484/484 [==============================] - 1s 1ms/step - loss: 0.1844\n",
      "Epoch 19/20\n",
      "484/484 [==============================] - 1s 1ms/step - loss: 0.1832\n",
      "Epoch 20/20\n",
      "484/484 [==============================] - 1s 1ms/step - loss: 0.1816\n"
     ]
    },
    {
     "data": {
      "text/plain": [
       "<keras.src.callbacks.History at 0x7fb247f89f50>"
      ]
     },
     "execution_count": 14,
     "metadata": {},
     "output_type": "execute_result"
    }
   ],
   "source": [
    "model = Model()\n",
    "\n",
    "model.compile(\n",
    "    loss=HuderLoss(2.0),\n",
    "    optimizer=keras.optimizers.RMSprop(),\n",
    ")\n",
    "model.fit(xtrain, ytrain, batch_size=32, epochs=20)"
   ]
  },
  {
   "cell_type": "markdown",
   "metadata": {},
   "source": [
    "### funcoes de ativação customizadas, inicializadores, reguladores e restrição"
   ]
  },
  {
   "cell_type": "code",
   "execution_count": 15,
   "metadata": {},
   "outputs": [],
   "source": [
    "def my_softplus(z):\n",
    "    return tf.math.log(tf.exp(z)+1.0)\n",
    "\n",
    "def my_myglorot_initializer(shape, dtype=tf.float32):\n",
    "    stdev = tf.sqrt(2. / (shape[0]+shape[1]))\n",
    "    return tf.random.normal(shape=shape, stddev=stdev, dtype=dtype)\n",
    "\n",
    "def my_regulirizerL1(weights):\n",
    "    return tf.reduce_sum(tf.abs(0.01 * weights))\n",
    "\n",
    "def my_positive_weights(weights):\n",
    "    return tf.where( weights < 0., tf.zeros_like(weights), weights)\n"
   ]
  },
  {
   "cell_type": "code",
   "execution_count": 12,
   "metadata": {},
   "outputs": [],
   "source": [
    "def Model():\n",
    "    Dense =  partial(\n",
    "        keras.layers.Dense,\n",
    "        activation = my_softplus,\n",
    "        kernel_initializer = my_myglorot_initializer,\n",
    "        kernel_regularizer = my_regulirizerL1,\n",
    "        kernel_constraint  = my_positive_weights \n",
    "    )\n",
    "    model = keras.models.Sequential(\n",
    "        layers=[\n",
    "            Dense(16),\n",
    "            Dense(8),\n",
    "            Dense(4),\n",
    "            Dense(2),\n",
    "            keras.layers.Dense(1)\n",
    "        ]\n",
    "    )\n",
    "    return model"
   ]
  },
  {
   "cell_type": "code",
   "execution_count": 13,
   "metadata": {},
   "outputs": [
    {
     "ename": "NameError",
     "evalue": "name 'xtrain' is not defined",
     "output_type": "error",
     "traceback": [
      "\u001b[0;31m---------------------------------------------------------------------------\u001b[0m",
      "\u001b[0;31mNameError\u001b[0m                                 Traceback (most recent call last)",
      "Cell \u001b[0;32mIn[13], line 1\u001b[0m\n\u001b[0;32m----> 1\u001b[0m \u001b[43mxtrain\u001b[49m\u001b[38;5;241m.\u001b[39mshape[\u001b[38;5;241m0\u001b[39m]\u001b[38;5;241m/\u001b[39m\u001b[38;5;241m32\u001b[39m\n",
      "\u001b[0;31mNameError\u001b[0m: name 'xtrain' is not defined"
     ]
    }
   ],
   "source": [
    "xtrain.shape[0]/32"
   ]
  },
  {
   "cell_type": "code",
   "execution_count": 18,
   "metadata": {},
   "outputs": [
    {
     "name": "stderr",
     "output_type": "stream",
     "text": [
      "UsageError: Line magic function `%tensorboard` not found.\n"
     ]
    }
   ],
   "source": [
    "%tensorboard"
   ]
  },
  {
   "cell_type": "code",
   "execution_count": null,
   "metadata": {},
   "outputs": [
    {
     "name": "stdout",
     "output_type": "stream",
     "text": [
      "Epoch 1/20\n",
      "484/484 [==============================] - 2s 2ms/step - loss: 0.5346\n",
      "Epoch 2/20\n",
      "484/484 [==============================] - 1s 2ms/step - loss: 0.4168\n",
      "Epoch 3/20\n",
      "484/484 [==============================] - 1s 1ms/step - loss: 0.3990\n",
      "Epoch 4/20\n",
      "484/484 [==============================] - 1s 1ms/step - loss: 0.3897\n",
      "Epoch 5/20\n",
      "484/484 [==============================] - 1s 1ms/step - loss: 0.3857\n",
      "Epoch 6/20\n",
      "484/484 [==============================] - 1s 2ms/step - loss: 0.3807\n",
      "Epoch 7/20\n",
      "484/484 [==============================] - 1s 1ms/step - loss: 0.3780\n",
      "Epoch 8/20\n",
      "484/484 [==============================] - 1s 2ms/step - loss: 0.3727\n",
      "Epoch 9/20\n",
      "484/484 [==============================] - 1s 1ms/step - loss: 0.3701\n",
      "Epoch 10/20\n",
      "484/484 [==============================] - 1s 1ms/step - loss: 0.3688\n",
      "Epoch 11/20\n",
      "484/484 [==============================] - 1s 2ms/step - loss: 0.3688\n",
      "Epoch 12/20\n",
      "484/484 [==============================] - 1s 2ms/step - loss: 0.3689\n",
      "Epoch 13/20\n",
      "484/484 [==============================] - 1s 2ms/step - loss: 0.3683\n",
      "Epoch 14/20\n",
      "484/484 [==============================] - 1s 2ms/step - loss: 0.3682\n",
      "Epoch 15/20\n",
      "484/484 [==============================] - 1s 2ms/step - loss: 0.3683\n",
      "Epoch 16/20\n",
      "484/484 [==============================] - 1s 2ms/step - loss: 0.3675\n",
      "Epoch 17/20\n",
      "484/484 [==============================] - 1s 2ms/step - loss: 0.3673\n",
      "Epoch 18/20\n",
      "484/484 [==============================] - 1s 2ms/step - loss: 0.3663\n",
      "Epoch 19/20\n",
      "484/484 [==============================] - 1s 2ms/step - loss: 0.3671\n",
      "Epoch 20/20\n",
      "484/484 [==============================] - 1s 1ms/step - loss: 0.3685\n"
     ]
    },
    {
     "data": {
      "text/plain": [
       "<keras.src.callbacks.History at 0x7fc5deb42e90>"
      ]
     },
     "execution_count": 21,
     "metadata": {},
     "output_type": "execute_result"
    }
   ],
   "source": [
    "model = Model()\n",
    "\n",
    "model.compile(\n",
    "    loss=HuderLoss(2.0),\n",
    "    optimizer=keras.optimizers,\n",
    ")\n",
    "model.fit(xtrain, ytrain, batch_size=32, epochs=20)"
   ]
  },
  {
   "cell_type": "markdown",
   "metadata": {},
   "source": [
    "outro modelo"
   ]
  },
  {
   "cell_type": "code",
   "execution_count": null,
   "metadata": {},
   "outputs": [],
   "source": [
    "*+qwqxda"
   ]
  },
  {
   "cell_type": "code",
   "execution_count": null,
   "metadata": {},
   "outputs": [],
   "source": [
    "from sklearn.datasets import fetch_covtype"
   ]
  },
  {
   "cell_type": "code",
   "execution_count": null,
   "metadata": {},
   "outputs": [],
   "source": [
    "X, y = fetch_covtype(return_X_y=True)"
   ]
  },
  {
   "cell_type": "code",
   "execution_count": null,
   "metadata": {},
   "outputs": [],
   "source": [
    "y = y.reshape(1,-1)[0]-1"
   ]
  },
  {
   "cell_type": "code",
   "execution_count": null,
   "metadata": {},
   "outputs": [],
   "source": [
    "X = StandardScaler().fit_transform(X)"
   ]
  },
  {
   "cell_type": "code",
   "execution_count": null,
   "metadata": {},
   "outputs": [],
   "source": [
    "xtrain, xtest, ytrain, ytest = train_test_split(X, y, random_state=42, train_size=0.75)"
   ]
  },
  {
   "cell_type": "code",
   "execution_count": null,
   "metadata": {},
   "outputs": [],
   "source": [
    "\n",
    "def Model():\n",
    "    Dense =  partial(\n",
    "        keras.layers.Dense,\n",
    "        activation = keras.activations.selu,\n",
    "        kernel_initializer = keras.initializers.lecun_normal     \n",
    "    )\n",
    "    model = keras.models.Sequential(\n",
    "        layers=[\n",
    "            Dense(150),\n",
    "            Dense(120),\n",
    "            Dense(60),\n",
    "            Dense(30),\n",
    "            Dense(15),\n",
    "            Dense( units=7, activation=keras.activations.softmax, kernel_initializer=keras.initializers.glorot_normal),\n",
    "        ]\n",
    "    )\n",
    "    return model"
   ]
  },
  {
   "cell_type": "code",
   "execution_count": null,
   "metadata": {},
   "outputs": [
    {
     "data": {
      "text/plain": [
       "13617.46875"
      ]
     },
     "execution_count": 53,
     "metadata": {},
     "output_type": "execute_result"
    }
   ],
   "source": [
    "xtrain.shape[0]/32"
   ]
  },
  {
   "cell_type": "code",
   "execution_count": null,
   "metadata": {},
   "outputs": [
    {
     "name": "stdout",
     "output_type": "stream",
     "text": [
      "Epoch 1/5\n",
      "8171/8171 [==============================] - 35s 4ms/step - loss: 0.5590 - sparse_categorical_accuracy: 0.7601 - val_loss: 0.4867 - val_sparse_categorical_accuracy: 0.7910\n",
      "Epoch 2/5\n",
      "8171/8171 [==============================] - 33s 4ms/step - loss: 0.4638 - sparse_categorical_accuracy: 0.8040 - val_loss: 0.4258 - val_sparse_categorical_accuracy: 0.8225\n",
      "Epoch 3/5\n",
      "8171/8171 [==============================] - 31s 4ms/step - loss: 0.4225 - sparse_categorical_accuracy: 0.8243 - val_loss: 0.3886 - val_sparse_categorical_accuracy: 0.8409\n",
      "Epoch 4/5\n",
      "8171/8171 [==============================] - 31s 4ms/step - loss: 0.3957 - sparse_categorical_accuracy: 0.8367 - val_loss: 0.3837 - val_sparse_categorical_accuracy: 0.8423\n",
      "Epoch 5/5\n",
      "8171/8171 [==============================] - 34s 4ms/step - loss: 0.3891 - sparse_categorical_accuracy: 0.8414 - val_loss: 0.3683 - val_sparse_categorical_accuracy: 0.8528\n"
     ]
    },
    {
     "data": {
      "text/plain": [
       "<keras.src.callbacks.History at 0x7fc54443b090>"
      ]
     },
     "execution_count": 77,
     "metadata": {},
     "output_type": "execute_result"
    }
   ],
   "source": [
    "model = Model()\n",
    "\n",
    "model.compile(\n",
    "    loss=keras.losses.sparse_categorical_crossentropy,\n",
    "    optimizer=keras.optimizers.SGD(momentum=0.9, nesterov=True),\n",
    "    metrics=[keras.metrics.sparse_categorical_accuracy]\n",
    ")\n",
    "model.fit(xtrain, ytrain, batch_size=40, epochs=5, validation_split=0.25)"
   ]
  },
  {
   "cell_type": "code",
   "execution_count": null,
   "metadata": {},
   "outputs": [
    {
     "name": "stdout",
     "output_type": "stream",
     "text": [
      "4540/4540 [==============================] - 6s 1ms/step\n"
     ]
    }
   ],
   "source": [
    "pred = np.argmax(model.predict(xtest), axis=-1)"
   ]
  },
  {
   "cell_type": "code",
   "execution_count": null,
   "metadata": {},
   "outputs": [],
   "source": [
    "from sklearn.metrics import classification_report, ConfusionMatrixDisplay, confusion_matrix"
   ]
  },
  {
   "cell_type": "code",
   "execution_count": null,
   "metadata": {},
   "outputs": [
    {
     "name": "stdout",
     "output_type": "stream",
     "text": [
      "              precision    recall  f1-score   support\n",
      "\n",
      "           0       0.86      0.85      0.86     53006\n",
      "           1       0.87      0.89      0.88     70776\n",
      "           2       0.87      0.73      0.79      8909\n",
      "           3       0.87      0.54      0.67       651\n",
      "           4       0.63      0.51      0.56      2473\n",
      "           5       0.63      0.76      0.69      4373\n",
      "           6       0.80      0.89      0.84      5065\n",
      "\n",
      "    accuracy                           0.85    145253\n",
      "   macro avg       0.79      0.74      0.76    145253\n",
      "weighted avg       0.85      0.85      0.85    145253\n",
      "\n"
     ]
    }
   ],
   "source": [
    "print(classification_report(ytest, pred))"
   ]
  },
  {
   "cell_type": "code",
   "execution_count": null,
   "metadata": {},
   "outputs": [
    {
     "data": {
      "text/plain": [
       "<sklearn.metrics._plot.confusion_matrix.ConfusionMatrixDisplay at 0x7fc5027182d0>"
      ]
     },
     "execution_count": 85,
     "metadata": {},
     "output_type": "execute_result"
    },
    {
     "data": {
      "image/png": "[encoded data removed]",
      "text/plain": [
       "<Figure size 640x480 with 2 Axes>"
      ]
     },
     "metadata": {},
     "output_type": "display_data"
    }
   ],
   "source": [
    "ConfusionMatrixDisplay(confusion_matrix=confusion_matrix(ytest, pred)).plot()"
   ]
  },
  {
   "cell_type": "code",
   "execution_count": 5,
   "metadata": {},
   "outputs": [],
   "source": [
    "x = tf.random.normal((500,1)  ,seed=10) \n",
    "y = 0.1*x + x + 2 + tf.random.uniform((500,1), minval=1, maxval=2,seed=10)"
   ]
  },
  {
   "cell_type": "code",
   "execution_count": 6,
   "metadata": {},
   "outputs": [
    {
     "data": {
      "text/plain": [
       "<matplotlib.collections.PathCollection at 0x7fa296b17050>"
      ]
     },
     "execution_count": 6,
     "metadata": {},
     "output_type": "execute_result"
    },
    {
     "data": {
      "image/png": "[encoded data removed]",
      "text/plain": [
       "<Figure size 640x480 with 1 Axes>"
      ]
     },
     "metadata": {},
     "output_type": "display_data"
    }
   ],
   "source": [
    "plt.scatter(x,y)"
   ]
  },
  {
   "cell_type": "code",
   "execution_count": 15,
   "metadata": {},
   "outputs": [],
   "source": [
    "\n",
    "def Model():\n",
    "    Dense =  partial(\n",
    "        keras.layers.Dense,\n",
    "        activation = keras.activations.relu,\n",
    "        kernel_initializer = keras.initializers.he_normal   \n",
    "    )\n",
    "    model = keras.models.Sequential(\n",
    "        layers=[\n",
    "            Dense(2),\n",
    "            Dense(2),\n",
    "            Dense(2),\n",
    "            Dense( units=1, kernel_initializer=keras.initializers.he_normal),\n",
    "        ]\n",
    "    )\n",
    "    return model"
   ]
  },
  {
   "cell_type": "code",
   "execution_count": 16,
   "metadata": {},
   "outputs": [
    {
     "data": {
      "text/plain": [
       "TensorShape([500, 1])"
      ]
     },
     "execution_count": 16,
     "metadata": {},
     "output_type": "execute_result"
    }
   ],
   "source": [
    "x.shape"
   ]
  },
  {
   "cell_type": "code",
   "execution_count": 19,
   "metadata": {},
   "outputs": [
    {
     "name": "stdout",
     "output_type": "stream",
     "text": [
      "Epoch 1/10\n",
      "16/16 [==============================] - 2s 4ms/step - loss: 3.4704\n",
      "Epoch 2/10\n",
      "16/16 [==============================] - 0s 4ms/step - loss: 3.4704\n",
      "Epoch 3/10\n",
      "16/16 [==============================] - 0s 4ms/step - loss: 3.4704\n",
      "Epoch 4/10\n",
      "16/16 [==============================] - 0s 4ms/step - loss: 3.4704\n",
      "Epoch 5/10\n",
      "16/16 [==============================] - 0s 5ms/step - loss: 3.4704\n",
      "Epoch 6/10\n",
      "16/16 [==============================] - 0s 4ms/step - loss: 3.4704\n",
      "Epoch 7/10\n",
      "16/16 [==============================] - 0s 4ms/step - loss: 3.4704\n",
      "Epoch 8/10\n",
      "16/16 [==============================] - 0s 9ms/step - loss: 3.4704\n",
      "Epoch 9/10\n",
      "16/16 [==============================] - 0s 5ms/step - loss: 3.4704\n",
      "Epoch 10/10\n",
      "16/16 [==============================] - 0s 4ms/step - loss: 3.4704\n"
     ]
    },
    {
     "data": {
      "text/plain": [
       "<keras.src.callbacks.History at 0x7fa294177dd0>"
      ]
     },
     "execution_count": 19,
     "metadata": {},
     "output_type": "execute_result"
    }
   ],
   "source": [
    "model = Model()\n",
    "model.compile(\n",
    "    optimizer=keras.optimizers.RMSprop(momentum=0.9),\n",
    "    loss     =keras.losses.mean_absolute_error\n",
    ")\n",
    "model.fit(x, y, batch_size=32, epochs=10,)"
   ]
  },
  {
   "cell_type": "code",
   "execution_count": 20,
   "metadata": {},
   "outputs": [
    {
     "data": {
      "text/plain": [
       "[<matplotlib.lines.Line2D at 0x7fa28ff0d790>,\n",
       " <matplotlib.lines.Line2D at 0x7fa2941f6ed0>]"
      ]
     },
     "execution_count": 20,
     "metadata": {},
     "output_type": "execute_result"
    },
    {
     "data": {
      "image/png": "[encoded data removed]",
      "text/plain": [
       "<Figure size 640x480 with 1 Axes>"
      ]
     },
     "metadata": {},
     "output_type": "display_data"
    }
   ],
   "source": [
    "plt.scatter(x,y)\n",
    "plt.plot(x,(model.get_weights()[3] * x))"
   ]
  },
  {
   "cell_type": "code",
   "execution_count": 144,
   "metadata": {},
   "outputs": [
    {
     "data": {
      "text/plain": [
       "array([0.07771023], dtype=float32)"
      ]
     },
     "execution_count": 144,
     "metadata": {},
     "output_type": "execute_result"
    }
   ],
   "source": [
    "model.get_weights()[3]"
   ]
  }
 ],
 "metadata": {
  "kernelspec": {
   "display_name": "venvGlobal",
   "language": "python",
   "name": "python3"
  },
  "language_info": {
   "codemirror_mode": {
    "name": "ipython",
    "version": 3
   },
   "file_extension": ".py",
   "mimetype": "text/x-python",
   "name": "python",
   "nbconvert_exporter": "python",
   "pygments_lexer": "ipython3",
   "version": "3.11.8"
  }
 },
 "nbformat": 4,
 "nbformat_minor": 2
}
