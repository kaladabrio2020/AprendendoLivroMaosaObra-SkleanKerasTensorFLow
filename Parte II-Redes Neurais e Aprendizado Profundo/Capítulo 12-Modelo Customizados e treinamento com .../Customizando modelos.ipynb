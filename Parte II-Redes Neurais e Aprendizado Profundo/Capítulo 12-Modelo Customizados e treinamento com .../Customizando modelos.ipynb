{
 "cells": [
  {
   "cell_type": "code",
   "execution_count": 1,
   "metadata": {},
   "outputs": [
    {
     "name": "stderr",
     "output_type": "stream",
     "text": [
      "2024-04-23 18:09:16.192695: I external/local_tsl/tsl/cuda/cudart_stub.cc:31] Could not find cuda drivers on your machine, GPU will not be used.\n",
      "2024-04-23 18:09:16.233611: E external/local_xla/xla/stream_executor/cuda/cuda_dnn.cc:9261] Unable to register cuDNN factory: Attempting to register factory for plugin cuDNN when one has already been registered\n",
      "2024-04-23 18:09:16.233639: E external/local_xla/xla/stream_executor/cuda/cuda_fft.cc:607] Unable to register cuFFT factory: Attempting to register factory for plugin cuFFT when one has already been registered\n",
      "2024-04-23 18:09:16.234606: E external/local_xla/xla/stream_executor/cuda/cuda_blas.cc:1515] Unable to register cuBLAS factory: Attempting to register factory for plugin cuBLAS when one has already been registered\n",
      "2024-04-23 18:09:16.241449: I external/local_tsl/tsl/cuda/cudart_stub.cc:31] Could not find cuda drivers on your machine, GPU will not be used.\n",
      "2024-04-23 18:09:16.242256: I tensorflow/core/platform/cpu_feature_guard.cc:182] This TensorFlow binary is optimized to use available CPU instructions in performance-critical operations.\n",
      "To enable the following instructions: AVX2 FMA, in other operations, rebuild TensorFlow with the appropriate compiler flags.\n",
      "2024-04-23 18:09:17.114589: W tensorflow/compiler/tf2tensorrt/utils/py_utils.cc:38] TF-TRT Warning: Could not find TensorRT\n"
     ]
    }
   ],
   "source": [
    "import keras\n",
    "import numpy as np\n",
    "import tensorflow as tf\n",
    "import datetime\n",
    "from sklearn.datasets import fetch_california_housing\n",
    "from sklearn.model_selection import train_test_split\n",
    "from sklearn.preprocessing   import StandardScaler"
   ]
  },
  {
   "cell_type": "code",
   "execution_count": 2,
   "metadata": {},
   "outputs": [],
   "source": [
    "X, y = fetch_california_housing(return_X_y=True)"
   ]
  },
  {
   "cell_type": "code",
   "execution_count": 3,
   "metadata": {},
   "outputs": [
    {
     "data": {
      "text/plain": [
       "(20640, 8)"
      ]
     },
     "execution_count": 3,
     "metadata": {},
     "output_type": "execute_result"
    }
   ],
   "source": [
    "X = StandardScaler().fit_transform(X)\n",
    "X.shape"
   ]
  },
  {
   "cell_type": "code",
   "execution_count": 4,
   "metadata": {},
   "outputs": [],
   "source": [
    "xtrain, xtest, ytrain, ytest = train_test_split(X, y, random_state=42, train_size=0.75)"
   ]
  },
  {
   "cell_type": "code",
   "execution_count": 5,
   "metadata": {},
   "outputs": [],
   "source": [
    "from functools import partial\n",
    "def Model():\n",
    "    Dense =  partial(\n",
    "        keras.layers.Dense,\n",
    "        activation = keras.activations.selu,\n",
    "        kernel_initializer = keras.initializers.lecun_normal     \n",
    "    )\n",
    "    model = keras.models.Sequential(\n",
    "        layers=[\n",
    "            Dense(16),\n",
    "            Dense(8),\n",
    "            Dense(4),\n",
    "            Dense(2),\n",
    "            keras.layers.Dense(1)\n",
    "        ]\n",
    "    )\n",
    "    return model"
   ]
  },
  {
   "cell_type": "markdown",
   "metadata": {},
   "source": [
    "## customizando modelos"
   ]
  },
  {
   "cell_type": "code",
   "execution_count": 6,
   "metadata": {},
   "outputs": [],
   "source": [
    "def huder_fn(ytrue, ypred):\n",
    "    error = ytrue - ypred\n",
    "    is_small_error = tf.abs(error)<1\n",
    "    squared_loss   = tf.square(error)/2\n",
    "    linear_loss    = tf.abs(error) - 0.5\n",
    "    return tf.where(is_small_error, squared_loss, linear_loss)"
   ]
  },
  {
   "cell_type": "code",
   "execution_count": 7,
   "metadata": {},
   "outputs": [
    {
     "name": "stdout",
     "output_type": "stream",
     "text": [
      "Epoch 1/20\n",
      "484/484 [==============================] - 4s 4ms/step - loss: 0.6533\n",
      "Epoch 2/20\n",
      "484/484 [==============================] - 2s 4ms/step - loss: 0.2549\n",
      "Epoch 3/20\n",
      "484/484 [==============================] - 2s 4ms/step - loss: 0.1951\n",
      "Epoch 4/20\n",
      "484/484 [==============================] - 2s 3ms/step - loss: 0.1733\n",
      "Epoch 5/20\n",
      "484/484 [==============================] - 2s 3ms/step - loss: 0.1653\n",
      "Epoch 6/20\n",
      "484/484 [==============================] - 2s 3ms/step - loss: 0.1607\n",
      "Epoch 7/20\n",
      "484/484 [==============================] - 2s 3ms/step - loss: 0.1583\n",
      "Epoch 8/20\n",
      "484/484 [==============================] - 2s 3ms/step - loss: 0.1564\n",
      "Epoch 9/20\n",
      "484/484 [==============================] - 2s 4ms/step - loss: 0.1542\n",
      "Epoch 10/20\n",
      "484/484 [==============================] - 2s 4ms/step - loss: 0.1531\n",
      "Epoch 11/20\n",
      "484/484 [==============================] - 1s 3ms/step - loss: 0.1515\n",
      "Epoch 12/20\n",
      "484/484 [==============================] - 1s 3ms/step - loss: 0.1511\n",
      "Epoch 13/20\n",
      "484/484 [==============================] - 2s 3ms/step - loss: 0.1498\n",
      "Epoch 14/20\n",
      "484/484 [==============================] - 2s 4ms/step - loss: 0.1484\n",
      "Epoch 15/20\n",
      "484/484 [==============================] - 2s 4ms/step - loss: 0.1475\n",
      "Epoch 16/20\n",
      "484/484 [==============================] - 2s 4ms/step - loss: 0.1467\n",
      "Epoch 17/20\n",
      "484/484 [==============================] - 2s 3ms/step - loss: 0.1457\n",
      "Epoch 18/20\n",
      "484/484 [==============================] - 2s 4ms/step - loss: 0.1449\n",
      "Epoch 19/20\n",
      "484/484 [==============================] - 2s 3ms/step - loss: 0.1439\n",
      "Epoch 20/20\n",
      "484/484 [==============================] - 2s 3ms/step - loss: 0.1431\n"
     ]
    },
    {
     "data": {
      "text/plain": [
       "<keras.src.callbacks.History at 0x7f5462502010>"
      ]
     },
     "execution_count": 7,
     "metadata": {},
     "output_type": "execute_result"
    }
   ],
   "source": [
    "model = Model()\n",
    "path  ='logs/fit/'+datetime.datetime.now().strftime(\"%Y_%m_%d - %H_%M_%S\")\n",
    "tensorboard = keras.callbacks.TensorBoard(log_dir=path, histogram_freq=1)\n",
    "model.compile(\n",
    "    loss=huder_fn,\n",
    "    optimizer=keras.optimizers.RMSprop(),\n",
    ")\n",
    "model.fit(xtrain, ytrain, batch_size=32, epochs=20, callbacks=[tensorboard])"
   ]
  },
  {
   "cell_type": "code",
   "execution_count": 8,
   "metadata": {},
   "outputs": [
    {
     "name": "stdout",
     "output_type": "stream",
     "text": [
      "162/162 [==============================] - 1s 2ms/step\n"
     ]
    }
   ],
   "source": [
    "predict = model.predict(xtest)"
   ]
  },
  {
   "cell_type": "code",
   "execution_count": 9,
   "metadata": {},
   "outputs": [
    {
     "name": "stdout",
     "output_type": "stream",
     "text": [
      "tf.Tensor(1.153928204041225, shape=(), dtype=float64)\n",
      "\n",
      "mean_absolute_error = 0.3927523056996257\n",
      "mean_squared_error  = 0.33517803535921464\n",
      "r2_score            = 0.746694793462471\n",
      "\n",
      "\n"
     ]
    }
   ],
   "source": [
    "from sklearn.metrics import r2_score, mean_absolute_error, mean_squared_error\n",
    "print(tf.math.reduce_std(y))\n",
    "\n",
    "result = f'''\n",
    "mean_absolute_error = {mean_absolute_error(ytest ,predict)}\n",
    "mean_squared_error  = {mean_squared_error(ytest, predict)}\n",
    "r2_score            = {r2_score(ytest, predict)}\n",
    "\n",
    "'''\n",
    "print(result)"
   ]
  },
  {
   "cell_type": "code",
   "execution_count": 10,
   "metadata": {},
   "outputs": [],
   "source": [
    "def create_huber(threshold=1.0):\n",
    "    def huder_fn(ytrue, ypred):\n",
    "        error = ytrue - ypred\n",
    "        is_small_error = tf.abs(error) < threshold\n",
    "        squared_loss   = tf.square(error) / 2\n",
    "        linear_loss    = threshold * tf.abs(error) - threshold**2 /2\n",
    "        return tf.where( is_small_error, squared_loss, linear_loss)\n",
    "    return  huder_fn"
   ]
  },
  {
   "cell_type": "code",
   "execution_count": 11,
   "metadata": {},
   "outputs": [
    {
     "name": "stdout",
     "output_type": "stream",
     "text": [
      "Epoch 1/20\n",
      "484/484 [==============================] - 3s 3ms/step - loss: 0.4061\n",
      "Epoch 2/20\n",
      "484/484 [==============================] - 1s 3ms/step - loss: 0.2227\n",
      "Epoch 3/20\n",
      "484/484 [==============================] - 1s 2ms/step - loss: 0.2099\n",
      "Epoch 4/20\n",
      "484/484 [==============================] - 1s 2ms/step - loss: 0.2025\n",
      "Epoch 5/20\n",
      "484/484 [==============================] - 1s 2ms/step - loss: 0.1972\n",
      "Epoch 6/20\n",
      "484/484 [==============================] - 1s 2ms/step - loss: 0.1930\n",
      "Epoch 7/20\n",
      "484/484 [==============================] - 1s 2ms/step - loss: 0.1888\n",
      "Epoch 8/20\n",
      "484/484 [==============================] - 1s 2ms/step - loss: 0.1838\n",
      "Epoch 9/20\n",
      "484/484 [==============================] - 1s 2ms/step - loss: 0.1792\n",
      "Epoch 10/20\n",
      "484/484 [==============================] - 1s 2ms/step - loss: 0.1752\n",
      "Epoch 11/20\n",
      "484/484 [==============================] - 1s 2ms/step - loss: 0.1733\n",
      "Epoch 12/20\n",
      "484/484 [==============================] - 1s 2ms/step - loss: 0.1702\n",
      "Epoch 13/20\n",
      "484/484 [==============================] - 1s 2ms/step - loss: 0.1684\n",
      "Epoch 14/20\n",
      "484/484 [==============================] - 1s 2ms/step - loss: 0.1668\n",
      "Epoch 15/20\n",
      "484/484 [==============================] - 1s 2ms/step - loss: 0.1658\n",
      "Epoch 16/20\n",
      "484/484 [==============================] - 1s 2ms/step - loss: 0.1647\n",
      "Epoch 17/20\n",
      "484/484 [==============================] - 1s 3ms/step - loss: 0.1641\n",
      "Epoch 18/20\n",
      "484/484 [==============================] - 1s 3ms/step - loss: 0.1627\n",
      "Epoch 19/20\n",
      "484/484 [==============================] - 1s 2ms/step - loss: 0.1625\n",
      "Epoch 20/20\n",
      "484/484 [==============================] - 1s 2ms/step - loss: 0.1617\n"
     ]
    },
    {
     "data": {
      "text/plain": [
       "<keras.src.callbacks.History at 0x7f5461183f50>"
      ]
     },
     "execution_count": 11,
     "metadata": {},
     "output_type": "execute_result"
    }
   ],
   "source": [
    "model = Model()\n",
    "\n",
    "model.compile(\n",
    "    loss=create_huber(2.0),\n",
    "    optimizer=keras.optimizers.RMSprop(),\n",
    ")\n",
    "model.fit(xtrain, ytrain, batch_size=32, epochs=20, callbacks=[keras.callbacks.EarlyStopping(monitor='loss', patience=3)])"
   ]
  },
  {
   "cell_type": "code",
   "execution_count": 12,
   "metadata": {},
   "outputs": [
    {
     "name": "stdout",
     "output_type": "stream",
     "text": [
      "tf.Tensor(1.153928204041225, shape=(), dtype=float64)\n",
      "\n",
      "mean_absolute_error = 0.3927523056996257\n",
      "mean_squared_error  = 0.33517803535921464\n",
      "r2_score            = 0.746694793462471\n",
      "\n",
      "\n"
     ]
    }
   ],
   "source": [
    "from sklearn.metrics import r2_score, mean_absolute_error, mean_squared_error\n",
    "print(tf.math.reduce_std(y))\n",
    "\n",
    "result = f'''\n",
    "mean_absolute_error = {mean_absolute_error(ytest ,predict)}\n",
    "mean_squared_error  = {mean_squared_error(ytest, predict)}\n",
    "r2_score            = {r2_score(ytest, predict)}\n",
    "\n",
    "'''\n",
    "print(result)"
   ]
  },
  {
   "cell_type": "markdown",
   "metadata": {},
   "source": [
    "construindo por meio de class"
   ]
  },
  {
   "cell_type": "code",
   "execution_count": 13,
   "metadata": {},
   "outputs": [],
   "source": [
    "class HuderLoss(keras.losses.Loss):\n",
    "    def __init__(self, threshold=1.0, **kwargs):\n",
    "        self.threshold = threshold\n",
    "        super().__init__(**kwargs)\n",
    "\n",
    "    def call(self, ytrue, ypred):\n",
    "        error = ytrue - ypred\n",
    "        is_small_error = tf.abs(error) < self.threshold\n",
    "        squared_loss   = tf.square(error) / 2\n",
    "        linear_loss    = self.threshold * tf.abs(error) - self.threshold**2 /2\n",
    "        return tf.where( is_small_error, squared_loss, linear_loss)\n",
    "    \n",
    "    def get_config(self):\n",
    "        base_config = super().get_config()\n",
    "        return {**base_config, \"threshold\": self.threshold}\n",
    "        "
   ]
  },
  {
   "cell_type": "code",
   "execution_count": 16,
   "metadata": {},
   "outputs": [
    {
     "name": "stdout",
     "output_type": "stream",
     "text": [
      "Epoch 1/20\n",
      "484/484 [==============================] - 1s 1ms/step - loss: 0.5805 - huder_fn: 0.5805\n",
      "Epoch 2/20\n",
      "484/484 [==============================] - 1s 1ms/step - loss: 0.2514 - huder_fn: 0.2514\n",
      "Epoch 3/20\n",
      "484/484 [==============================] - 1s 1ms/step - loss: 0.2149 - huder_fn: 0.2149\n",
      "Epoch 4/20\n",
      "484/484 [==============================] - 1s 1ms/step - loss: 0.2007 - huder_fn: 0.2007\n",
      "Epoch 5/20\n",
      "484/484 [==============================] - 1s 1ms/step - loss: 0.1935 - huder_fn: 0.1935\n",
      "Epoch 6/20\n",
      "484/484 [==============================] - 1s 1ms/step - loss: 0.1886 - huder_fn: 0.1886\n",
      "Epoch 7/20\n",
      "484/484 [==============================] - 1s 1ms/step - loss: 0.1849 - huder_fn: 0.1849\n",
      "Epoch 8/20\n",
      "484/484 [==============================] - 1s 1ms/step - loss: 0.1823 - huder_fn: 0.1823\n",
      "Epoch 9/20\n",
      "484/484 [==============================] - 1s 1ms/step - loss: 0.1793 - huder_fn: 0.1793\n",
      "Epoch 10/20\n",
      "484/484 [==============================] - 1s 1ms/step - loss: 0.1778 - huder_fn: 0.1778\n",
      "Epoch 11/20\n",
      "484/484 [==============================] - 1s 1ms/step - loss: 0.1758 - huder_fn: 0.1758\n",
      "Epoch 12/20\n",
      "484/484 [==============================] - 1s 1ms/step - loss: 0.1745 - huder_fn: 0.1745\n",
      "Epoch 13/20\n",
      "484/484 [==============================] - 1s 1ms/step - loss: 0.1725 - huder_fn: 0.1725\n",
      "Epoch 14/20\n",
      "484/484 [==============================] - 1s 1ms/step - loss: 0.1703 - huder_fn: 0.1703\n",
      "Epoch 15/20\n",
      "484/484 [==============================] - 1s 1ms/step - loss: 0.1695 - huder_fn: 0.1695\n",
      "Epoch 16/20\n",
      "484/484 [==============================] - 1s 1ms/step - loss: 0.1710 - huder_fn: 0.1710\n",
      "Epoch 17/20\n",
      "484/484 [==============================] - 1s 1ms/step - loss: 0.1671 - huder_fn: 0.1671\n",
      "Epoch 18/20\n",
      "484/484 [==============================] - 1s 2ms/step - loss: 0.1658 - huder_fn: 0.1658\n",
      "Epoch 19/20\n",
      "484/484 [==============================] - 1s 2ms/step - loss: 0.1648 - huder_fn: 0.1648\n",
      "Epoch 20/20\n",
      "484/484 [==============================] - 1s 1ms/step - loss: 0.1635 - huder_fn: 0.1635\n"
     ]
    },
    {
     "data": {
      "text/plain": [
       "<keras.src.callbacks.History at 0x7f54580d3410>"
      ]
     },
     "execution_count": 16,
     "metadata": {},
     "output_type": "execute_result"
    }
   ],
   "source": [
    "model = Model()\n",
    "\n",
    "model.compile(\n",
    "    loss=HuderLoss(2.0),\n",
    "    optimizer=keras.optimizers.RMSprop(),\n",
    ")\n",
    "model.fit(xtrain, ytrain, batch_size=32, epochs=20)"
   ]
  }
 ],
 "metadata": {
  "kernelspec": {
   "display_name": "venvGlobal",
   "language": "python",
   "name": "python3"
  },
  "language_info": {
   "codemirror_mode": {
    "name": "ipython",
    "version": 3
   },
   "file_extension": ".py",
   "mimetype": "text/x-python",
   "name": "python",
   "nbconvert_exporter": "python",
   "pygments_lexer": "ipython3",
   "version": "3.11.8"
  }
 },
 "nbformat": 4,
 "nbformat_minor": 2
}
