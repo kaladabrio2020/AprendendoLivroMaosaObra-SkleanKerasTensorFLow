{
 "cells": [
  {
   "cell_type": "code",
   "execution_count": 2,
   "metadata": {},
   "outputs": [
    {
     "name": "stderr",
     "output_type": "stream",
     "text": [
      "2024-04-19 13:39:19.245648: I external/local_tsl/tsl/cuda/cudart_stub.cc:31] Could not find cuda drivers on your machine, GPU will not be used.\n",
      "2024-04-19 13:39:19.429518: E external/local_xla/xla/stream_executor/cuda/cuda_dnn.cc:9261] Unable to register cuDNN factory: Attempting to register factory for plugin cuDNN when one has already been registered\n",
      "2024-04-19 13:39:19.429567: E external/local_xla/xla/stream_executor/cuda/cuda_fft.cc:607] Unable to register cuFFT factory: Attempting to register factory for plugin cuFFT when one has already been registered\n",
      "2024-04-19 13:39:19.440098: E external/local_xla/xla/stream_executor/cuda/cuda_blas.cc:1515] Unable to register cuBLAS factory: Attempting to register factory for plugin cuBLAS when one has already been registered\n",
      "2024-04-19 13:39:19.469473: I external/local_tsl/tsl/cuda/cudart_stub.cc:31] Could not find cuda drivers on your machine, GPU will not be used.\n",
      "2024-04-19 13:39:19.469945: I tensorflow/core/platform/cpu_feature_guard.cc:182] This TensorFlow binary is optimized to use available CPU instructions in performance-critical operations.\n",
      "To enable the following instructions: AVX2 FMA, in other operations, rebuild TensorFlow with the appropriate compiler flags.\n",
      "2024-04-19 13:39:20.554842: W tensorflow/compiler/tf2tensorrt/utils/py_utils.cc:38] TF-TRT Warning: Could not find TensorRT\n"
     ]
    }
   ],
   "source": [
    "import keras\n",
    "from sklearn.metrics import classification_report\n",
    "from sklearn.datasets import load_breast_cancer\n",
    "from sklearn.utils.class_weight import compute_class_weight\n",
    "from sklearn.model_selection import train_test_split\n",
    "from sklearn.preprocessing   import StandardScaler"
   ]
  },
  {
   "cell_type": "code",
   "execution_count": 3,
   "metadata": {},
   "outputs": [],
   "source": [
    "X, y = load_breast_cancer(return_X_y=True )\n",
    "xtrainF, xtestF, ytrainF, ytestF = train_test_split(X, y, random_state=42 ,test_size=0.20)"
   ]
  },
  {
   "cell_type": "markdown",
   "metadata": {},
   "source": [
    "## l2"
   ]
  },
  {
   "cell_type": "code",
   "execution_count": 4,
   "metadata": {},
   "outputs": [],
   "source": [
    "from functools import partial\n",
    "def Model(regularizer):\n",
    "    \n",
    "    #initalizaer = keras.initializers.VarianceScaling(scale=1., mode='fan_in', distribution='normal',seed=32)\n",
    "    regularizedDense = partial(\n",
    "        keras.layers.Dense,\n",
    "        activation=keras.activations.selu, \n",
    "        kernel_initializer=keras.initializers.lecun_normal,\n",
    "        kernel_regularizer=regularizer\n",
    "    )\n",
    "    model = keras.models.Sequential(\n",
    "        layers = [\n",
    "            keras.layers.BatchNormalization(),\n",
    "            regularizedDense(30),\n",
    "            keras.layers.BatchNormalization(),\n",
    "            regularizedDense(15),\n",
    "            keras.layers.BatchNormalization(),\n",
    "            regularizedDense(10),\n",
    "            keras.layers.BatchNormalization(),\n",
    "            keras.layers.Dense(1,activation=keras.activations.selu ,kernel_initializer=keras.initializers.lecun_normal)\n",
    "        ]\n",
    "    )\n",
    "    return model"
   ]
  },
  {
   "cell_type": "code",
   "execution_count": 5,
   "metadata": {},
   "outputs": [
    {
     "name": "stdout",
     "output_type": "stream",
     "text": [
      "Epoch 1/32\n",
      "15/15 [==============================] - 2s 3ms/step - loss: 8.5814 - binary_accuracy: 0.3385\n",
      "Epoch 2/32\n",
      "15/15 [==============================] - 0s 2ms/step - loss: 8.3222 - binary_accuracy: 0.3473\n",
      "Epoch 3/32\n",
      "15/15 [==============================] - 0s 2ms/step - loss: 7.4018 - binary_accuracy: 0.4044\n",
      "Epoch 4/32\n",
      "15/15 [==============================] - 0s 2ms/step - loss: 6.8729 - binary_accuracy: 0.4659\n",
      "Epoch 5/32\n",
      "15/15 [==============================] - 0s 2ms/step - loss: 5.8505 - binary_accuracy: 0.5560\n",
      "Epoch 6/32\n",
      "15/15 [==============================] - 0s 3ms/step - loss: 5.4587 - binary_accuracy: 0.5560\n",
      "Epoch 7/32\n",
      "15/15 [==============================] - 0s 3ms/step - loss: 4.7335 - binary_accuracy: 0.6176\n",
      "Epoch 8/32\n",
      "15/15 [==============================] - 0s 2ms/step - loss: 4.2658 - binary_accuracy: 0.6462\n",
      "Epoch 9/32\n",
      "15/15 [==============================] - 0s 2ms/step - loss: 4.1540 - binary_accuracy: 0.6835\n",
      "Epoch 10/32\n",
      "15/15 [==============================] - 0s 2ms/step - loss: 3.4797 - binary_accuracy: 0.7121\n",
      "Epoch 11/32\n",
      "15/15 [==============================] - 0s 2ms/step - loss: 3.5172 - binary_accuracy: 0.7077\n",
      "Epoch 12/32\n",
      "15/15 [==============================] - 0s 2ms/step - loss: 2.9667 - binary_accuracy: 0.7473\n",
      "Epoch 13/32\n",
      "15/15 [==============================] - 0s 2ms/step - loss: 2.8226 - binary_accuracy: 0.7626\n",
      "Epoch 14/32\n",
      "15/15 [==============================] - 0s 2ms/step - loss: 2.5285 - binary_accuracy: 0.7714\n",
      "Epoch 15/32\n",
      "15/15 [==============================] - 0s 2ms/step - loss: 2.2464 - binary_accuracy: 0.7890\n",
      "Epoch 16/32\n",
      "15/15 [==============================] - 0s 3ms/step - loss: 2.3834 - binary_accuracy: 0.8132\n",
      "Epoch 17/32\n",
      "15/15 [==============================] - 0s 4ms/step - loss: 1.7539 - binary_accuracy: 0.8198\n",
      "Epoch 18/32\n",
      "15/15 [==============================] - 0s 2ms/step - loss: 1.6957 - binary_accuracy: 0.8374\n",
      "Epoch 19/32\n",
      "15/15 [==============================] - 0s 2ms/step - loss: 1.4363 - binary_accuracy: 0.8725\n",
      "Epoch 20/32\n",
      "15/15 [==============================] - 0s 2ms/step - loss: 1.2737 - binary_accuracy: 0.8813\n",
      "Epoch 21/32\n",
      "15/15 [==============================] - 0s 2ms/step - loss: 1.2764 - binary_accuracy: 0.8901\n",
      "Epoch 22/32\n",
      "15/15 [==============================] - 0s 2ms/step - loss: 1.2934 - binary_accuracy: 0.8923\n",
      "Epoch 23/32\n",
      "15/15 [==============================] - 0s 2ms/step - loss: 1.2351 - binary_accuracy: 0.8989\n",
      "Epoch 24/32\n",
      "15/15 [==============================] - 0s 2ms/step - loss: 1.1781 - binary_accuracy: 0.9033\n",
      "Epoch 25/32\n",
      "15/15 [==============================] - 0s 2ms/step - loss: 1.2158 - binary_accuracy: 0.9121\n",
      "Epoch 26/32\n",
      "15/15 [==============================] - 0s 2ms/step - loss: 1.2031 - binary_accuracy: 0.9275\n",
      "Epoch 27/32\n",
      "15/15 [==============================] - 0s 3ms/step - loss: 1.0595 - binary_accuracy: 0.9231\n",
      "Epoch 28/32\n",
      "15/15 [==============================] - 0s 2ms/step - loss: 1.1668 - binary_accuracy: 0.9077\n",
      "Epoch 29/32\n",
      "15/15 [==============================] - 0s 2ms/step - loss: 1.2258 - binary_accuracy: 0.9231\n",
      "Epoch 30/32\n",
      "15/15 [==============================] - 0s 2ms/step - loss: 1.1342 - binary_accuracy: 0.9231\n",
      "Epoch 31/32\n",
      "15/15 [==============================] - 0s 2ms/step - loss: 1.1139 - binary_accuracy: 0.9275\n",
      "Epoch 32/32\n",
      "15/15 [==============================] - 0s 2ms/step - loss: 0.9895 - binary_accuracy: 0.9407\n"
     ]
    },
    {
     "data": {
      "text/plain": [
       "<keras.src.callbacks.History at 0x7f39633de790>"
      ]
     },
     "execution_count": 5,
     "metadata": {},
     "output_type": "execute_result"
    }
   ],
   "source": [
    "model = Model(keras.regularizers.l2(l2=0.01))\n",
    "model.compile(\n",
    "    optimizer = keras.optimizers.SGD(learning_rate=0.001,momentum=0.9, nesterov=True, clipnorm=0.1),\n",
    "    loss      = keras.losses.binary_crossentropy,\n",
    "    metrics   = [keras.metrics.binary_accuracy]\n",
    ")\n",
    "\n",
    "\n",
    "model.fit( xtrainF, ytrainF, epochs=32, batch_size=32)\n"
   ]
  },
  {
   "cell_type": "code",
   "execution_count": 6,
   "metadata": {},
   "outputs": [
    {
     "name": "stdout",
     "output_type": "stream",
     "text": [
      "4/4 [==============================] - 0s 2ms/step\n"
     ]
    }
   ],
   "source": [
    "pred = model.predict(xtestF)>0.5"
   ]
  },
  {
   "cell_type": "code",
   "execution_count": 7,
   "metadata": {},
   "outputs": [
    {
     "name": "stdout",
     "output_type": "stream",
     "text": [
      "              precision    recall  f1-score   support\n",
      "\n",
      "           0       1.00      0.95      0.98        43\n",
      "           1       0.97      1.00      0.99        71\n",
      "\n",
      "    accuracy                           0.98       114\n",
      "   macro avg       0.99      0.98      0.98       114\n",
      "weighted avg       0.98      0.98      0.98       114\n",
      "\n"
     ]
    }
   ],
   "source": [
    "print(classification_report(ytestF,pred))"
   ]
  },
  {
   "cell_type": "markdown",
   "metadata": {},
   "source": [
    "## l1"
   ]
  },
  {
   "cell_type": "code",
   "execution_count": 8,
   "metadata": {},
   "outputs": [
    {
     "name": "stdout",
     "output_type": "stream",
     "text": [
      "Epoch 1/32\n",
      "15/15 [==============================] - 2s 2ms/step - loss: 7.0591 - binary_accuracy: 0.5868\n",
      "Epoch 2/32\n",
      "15/15 [==============================] - 0s 2ms/step - loss: 6.7469 - binary_accuracy: 0.6220\n",
      "Epoch 3/32\n",
      "15/15 [==============================] - 0s 2ms/step - loss: 6.3028 - binary_accuracy: 0.6484\n",
      "Epoch 4/32\n",
      "15/15 [==============================] - 0s 3ms/step - loss: 6.0723 - binary_accuracy: 0.6549\n",
      "Epoch 5/32\n",
      "15/15 [==============================] - 0s 3ms/step - loss: 5.5540 - binary_accuracy: 0.6945\n",
      "Epoch 6/32\n",
      "15/15 [==============================] - 0s 2ms/step - loss: 5.1504 - binary_accuracy: 0.7077\n",
      "Epoch 7/32\n",
      "15/15 [==============================] - 0s 3ms/step - loss: 4.9489 - binary_accuracy: 0.7297\n",
      "Epoch 8/32\n",
      "15/15 [==============================] - 0s 3ms/step - loss: 4.5854 - binary_accuracy: 0.7429\n",
      "Epoch 9/32\n",
      "15/15 [==============================] - 0s 2ms/step - loss: 4.1040 - binary_accuracy: 0.7868\n",
      "Epoch 10/32\n",
      "15/15 [==============================] - 0s 2ms/step - loss: 4.2205 - binary_accuracy: 0.8132\n",
      "Epoch 11/32\n",
      "15/15 [==============================] - 0s 2ms/step - loss: 3.7811 - binary_accuracy: 0.8286\n",
      "Epoch 12/32\n",
      "15/15 [==============================] - 0s 2ms/step - loss: 3.6912 - binary_accuracy: 0.8484\n",
      "Epoch 13/32\n",
      "15/15 [==============================] - 0s 2ms/step - loss: 3.3797 - binary_accuracy: 0.8505\n",
      "Epoch 14/32\n",
      "15/15 [==============================] - 0s 3ms/step - loss: 3.3905 - binary_accuracy: 0.8637\n",
      "Epoch 15/32\n",
      "15/15 [==============================] - 0s 3ms/step - loss: 3.1333 - binary_accuracy: 0.8791\n",
      "Epoch 16/32\n",
      "15/15 [==============================] - 0s 3ms/step - loss: 3.1917 - binary_accuracy: 0.8901\n",
      "Epoch 17/32\n",
      "15/15 [==============================] - 0s 3ms/step - loss: 2.8881 - binary_accuracy: 0.9099\n",
      "Epoch 18/32\n",
      "15/15 [==============================] - 0s 5ms/step - loss: 2.8885 - binary_accuracy: 0.9077\n",
      "Epoch 19/32\n",
      "15/15 [==============================] - 0s 2ms/step - loss: 2.9079 - binary_accuracy: 0.9341\n",
      "Epoch 20/32\n",
      "15/15 [==============================] - 0s 2ms/step - loss: 2.6597 - binary_accuracy: 0.9297\n",
      "Epoch 21/32\n",
      "15/15 [==============================] - 0s 3ms/step - loss: 2.7501 - binary_accuracy: 0.9275\n",
      "Epoch 22/32\n",
      "15/15 [==============================] - 0s 2ms/step - loss: 2.7900 - binary_accuracy: 0.9143\n",
      "Epoch 23/32\n",
      "15/15 [==============================] - 0s 2ms/step - loss: 2.6337 - binary_accuracy: 0.9385\n",
      "Epoch 24/32\n",
      "15/15 [==============================] - 0s 2ms/step - loss: 2.7722 - binary_accuracy: 0.9209\n",
      "Epoch 25/32\n",
      "15/15 [==============================] - 0s 2ms/step - loss: 2.6421 - binary_accuracy: 0.9319\n",
      "Epoch 26/32\n",
      "15/15 [==============================] - 0s 2ms/step - loss: 2.7384 - binary_accuracy: 0.9429\n",
      "Epoch 27/32\n",
      "15/15 [==============================] - 0s 2ms/step - loss: 2.5733 - binary_accuracy: 0.9473\n",
      "Epoch 28/32\n",
      "15/15 [==============================] - 0s 3ms/step - loss: 2.6369 - binary_accuracy: 0.9538\n",
      "Epoch 29/32\n",
      "15/15 [==============================] - 0s 3ms/step - loss: 2.6672 - binary_accuracy: 0.9495\n",
      "Epoch 30/32\n",
      "15/15 [==============================] - 0s 3ms/step - loss: 2.5318 - binary_accuracy: 0.9429\n",
      "Epoch 31/32\n",
      "15/15 [==============================] - 0s 3ms/step - loss: 2.6522 - binary_accuracy: 0.9516\n",
      "Epoch 32/32\n",
      "15/15 [==============================] - 0s 3ms/step - loss: 2.5983 - binary_accuracy: 0.9560\n"
     ]
    },
    {
     "data": {
      "text/plain": [
       "<keras.src.callbacks.History at 0x7f3960bf85d0>"
      ]
     },
     "execution_count": 8,
     "metadata": {},
     "output_type": "execute_result"
    }
   ],
   "source": [
    "model = Model(keras.regularizers.l1(l1=0.01))\n",
    "model.compile(\n",
    "    optimizer = keras.optimizers.SGD(learning_rate=0.001,momentum=0.9, nesterov=True, clipnorm=0.1),\n",
    "    loss      = keras.losses.binary_crossentropy,\n",
    "    metrics   = [keras.metrics.binary_accuracy]\n",
    ")\n",
    "\n",
    "\n",
    "model.fit( xtrainF, ytrainF, epochs=32, batch_size=32)\n"
   ]
  },
  {
   "cell_type": "code",
   "execution_count": 9,
   "metadata": {},
   "outputs": [
    {
     "name": "stdout",
     "output_type": "stream",
     "text": [
      "4/4 [==============================] - 0s 1ms/step\n",
      "              precision    recall  f1-score   support\n",
      "\n",
      "           0       0.95      0.95      0.95        43\n",
      "           1       0.97      0.97      0.97        71\n",
      "\n",
      "    accuracy                           0.96       114\n",
      "   macro avg       0.96      0.96      0.96       114\n",
      "weighted avg       0.96      0.96      0.96       114\n",
      "\n"
     ]
    }
   ],
   "source": [
    "pred = model.predict(xtestF)>0.5\n",
    "print(classification_report(ytestF,pred))"
   ]
  },
  {
   "cell_type": "markdown",
   "metadata": {},
   "source": [
    "## Dropout"
   ]
  },
  {
   "cell_type": "code",
   "execution_count": 10,
   "metadata": {},
   "outputs": [],
   "source": [
    "from functools import partial\n",
    "def Model(regularizer):\n",
    "    \n",
    "    #initalizaer = keras.initializers.VarianceScaling(scale=1., mode='fan_in', distribution='normal',seed=32)\n",
    "    regularizedDense = partial(\n",
    "        keras.layers.Dense,\n",
    "        activation=keras.activations.selu, \n",
    "        kernel_initializer=keras.initializers.lecun_normal,\n",
    "    )\n",
    "    model = keras.models.Sequential(\n",
    "        layers = [\n",
    "            keras.layers.BatchNormalization(),\n",
    "            regularizedDense(30),\n",
    "            keras.layers.BatchNormalization(),\n",
    "            regularizedDense(15),\n",
    "            keras.layers.Dropout(0.1),\n",
    "            keras.layers.BatchNormalization(),\n",
    "            regularizedDense(10),\n",
    "            keras.layers.Dropout(0.1),\n",
    "            keras.layers.BatchNormalization(),\n",
    "            keras.layers.Dense(1,activation=keras.activations.selu ,kernel_initializer=keras.initializers.lecun_normal)\n",
    "        ]\n",
    "    )\n",
    "    return model"
   ]
  },
  {
   "cell_type": "code",
   "execution_count": 18,
   "metadata": {},
   "outputs": [
    {
     "name": "stdout",
     "output_type": "stream",
     "text": [
      "Epoch 1/32\n",
      "15/15 [==============================] - 2s 2ms/step - loss: 4.4734 - binary_accuracy: 0.5516\n",
      "Epoch 2/32\n",
      "15/15 [==============================] - 0s 2ms/step - loss: 1.8108 - binary_accuracy: 0.7626\n",
      "Epoch 3/32\n",
      "15/15 [==============================] - 0s 2ms/step - loss: 0.8152 - binary_accuracy: 0.8747\n",
      "Epoch 4/32\n",
      "15/15 [==============================] - 0s 2ms/step - loss: 0.7214 - binary_accuracy: 0.9143\n",
      "Epoch 5/32\n",
      "15/15 [==============================] - 0s 2ms/step - loss: 0.6447 - binary_accuracy: 0.9099\n",
      "Epoch 6/32\n",
      "15/15 [==============================] - 0s 2ms/step - loss: 0.6917 - binary_accuracy: 0.9275\n",
      "Epoch 7/32\n",
      "15/15 [==============================] - 0s 2ms/step - loss: 0.3362 - binary_accuracy: 0.9451\n",
      "Epoch 8/32\n",
      "15/15 [==============================] - 0s 3ms/step - loss: 0.2695 - binary_accuracy: 0.9495\n",
      "Epoch 9/32\n",
      "15/15 [==============================] - 0s 3ms/step - loss: 0.3386 - binary_accuracy: 0.9407\n",
      "Epoch 10/32\n",
      "15/15 [==============================] - 0s 3ms/step - loss: 0.2613 - binary_accuracy: 0.9670\n",
      "Epoch 11/32\n",
      "15/15 [==============================] - 0s 2ms/step - loss: 0.5534 - binary_accuracy: 0.9429\n",
      "Epoch 12/32\n",
      "15/15 [==============================] - 0s 2ms/step - loss: 0.2929 - binary_accuracy: 0.9582\n",
      "Epoch 13/32\n",
      "15/15 [==============================] - 0s 2ms/step - loss: 0.5725 - binary_accuracy: 0.9319\n",
      "Epoch 14/32\n",
      "15/15 [==============================] - 0s 2ms/step - loss: 0.7217 - binary_accuracy: 0.9187\n",
      "Epoch 15/32\n",
      "15/15 [==============================] - 0s 2ms/step - loss: 0.3706 - binary_accuracy: 0.9429\n",
      "Epoch 16/32\n",
      "15/15 [==============================] - 0s 3ms/step - loss: 0.3281 - binary_accuracy: 0.9538\n",
      "Epoch 17/32\n",
      "15/15 [==============================] - 0s 3ms/step - loss: 0.2983 - binary_accuracy: 0.9560\n",
      "Epoch 18/32\n",
      "15/15 [==============================] - 0s 3ms/step - loss: 0.3766 - binary_accuracy: 0.9451\n",
      "Epoch 19/32\n",
      "15/15 [==============================] - 0s 3ms/step - loss: 0.3672 - binary_accuracy: 0.9626\n"
     ]
    },
    {
     "data": {
      "text/plain": [
       "<keras.src.callbacks.History at 0x7f395ab01a10>"
      ]
     },
     "execution_count": 18,
     "metadata": {},
     "output_type": "execute_result"
    }
   ],
   "source": [
    "model = Model(keras.regularizers.l1(l1=0.01))\n",
    "lr = keras.optimizers.schedules.ExponentialDecay(initial_learning_rate=0.01,decay_steps=32*len(xtrainF),decay_rate=0.1)\n",
    "\n",
    "call = keras.callbacks.EarlyStopping(monitor='loss', patience=9)\n",
    "model.compile(\n",
    "    optimizer = keras.optimizers.SGD(learning_rate=lr,momentum=0.9, nesterov=True, clipnorm=0.1),\n",
    "    loss      = keras.losses.binary_crossentropy,\n",
    "    metrics   = [keras.metrics.binary_accuracy]\n",
    "    \n",
    ")\n",
    "\n",
    "model.fit( xtrainF, ytrainF, epochs=32, batch_size=32, callbacks=[call])\n"
   ]
  },
  {
   "cell_type": "code",
   "execution_count": 19,
   "metadata": {},
   "outputs": [
    {
     "name": "stdout",
     "output_type": "stream",
     "text": [
      "4/4 [==============================] - 0s 2ms/step\n",
      "              precision    recall  f1-score   support\n",
      "\n",
      "           0       0.88      0.98      0.92        43\n",
      "           1       0.98      0.92      0.95        71\n",
      "\n",
      "    accuracy                           0.94       114\n",
      "   macro avg       0.93      0.95      0.94       114\n",
      "weighted avg       0.94      0.94      0.94       114\n",
      "\n"
     ]
    }
   ],
   "source": [
    "pred = model.predict(xtestF)>0.5\n",
    "print(classification_report(ytestF,pred))"
   ]
  },
  {
   "cell_type": "code",
   "execution_count": null,
   "metadata": {},
   "outputs": [],
   "source": []
  },
  {
   "cell_type": "code",
   "execution_count": null,
   "metadata": {},
   "outputs": [],
   "source": []
  }
 ],
 "metadata": {
  "kernelspec": {
   "display_name": "venvGlobal",
   "language": "python",
   "name": "python3"
  },
  "language_info": {
   "codemirror_mode": {
    "name": "ipython",
    "version": 3
   },
   "file_extension": ".py",
   "mimetype": "text/x-python",
   "name": "python",
   "nbconvert_exporter": "python",
   "pygments_lexer": "ipython3",
   "version": "3.11.8"
  }
 },
 "nbformat": 4,
 "nbformat_minor": 2
}
