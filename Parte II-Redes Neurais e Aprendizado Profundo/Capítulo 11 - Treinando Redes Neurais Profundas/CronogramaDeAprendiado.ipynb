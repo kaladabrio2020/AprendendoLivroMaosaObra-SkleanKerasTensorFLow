{
 "cells": [
  {
   "cell_type": "code",
   "execution_count": 210,
   "metadata": {},
   "outputs": [],
   "source": [
    "import pandas as pd\n",
    "import numpy as np\n",
    "import matplotlib.pyplot as plt"
   ]
  },
  {
   "cell_type": "markdown",
   "metadata": {},
   "source": [
    "## PowerScheduling"
   ]
  },
  {
   "cell_type": "markdown",
   "metadata": {},
   "source": [
    "$$\n",
    "n(t) = \\frac{\\eta_0}{\n",
    "    (1 + \\frac{t}{s})^{c}\n",
    "    }\n",
    "$$\n",
    "> $t$ e o numero da iteração"
   ]
  },
  {
   "cell_type": "code",
   "execution_count": 211,
   "metadata": {},
   "outputs": [],
   "source": [
    "def etaPower(eta_0 , iter=10, c=1, s=1):\n",
    "    listEta = []\n",
    "    for t in range(iter):\n",
    "        listEta.append(eta_0 / ((1+(t/s))**c))\n",
    "    return listEta"
   ]
  },
  {
   "cell_type": "code",
   "execution_count": 212,
   "metadata": {},
   "outputs": [
    {
     "data": {
      "text/html": [
       "<div>\n",
       "<style scoped>\n",
       "    .dataframe tbody tr th:only-of-type {\n",
       "        vertical-align: middle;\n",
       "    }\n",
       "\n",
       "    .dataframe tbody tr th {\n",
       "        vertical-align: top;\n",
       "    }\n",
       "\n",
       "    .dataframe thead th {\n",
       "        text-align: right;\n",
       "    }\n",
       "</style>\n",
       "<table border=\"1\" class=\"dataframe\">\n",
       "  <thead>\n",
       "    <tr style=\"text-align: right;\">\n",
       "      <th></th>\n",
       "      <th>etai_c2</th>\n",
       "      <th>iter</th>\n",
       "      <th>etai_c2_s10</th>\n",
       "      <th>iter</th>\n",
       "    </tr>\n",
       "  </thead>\n",
       "  <tbody>\n",
       "    <tr>\n",
       "      <th>0</th>\n",
       "      <td>0.001000</td>\n",
       "      <td>0</td>\n",
       "      <td>0.001000</td>\n",
       "      <td>0</td>\n",
       "    </tr>\n",
       "    <tr>\n",
       "      <th>1</th>\n",
       "      <td>0.000250</td>\n",
       "      <td>1</td>\n",
       "      <td>0.000826</td>\n",
       "      <td>1</td>\n",
       "    </tr>\n",
       "    <tr>\n",
       "      <th>2</th>\n",
       "      <td>0.000111</td>\n",
       "      <td>2</td>\n",
       "      <td>0.000694</td>\n",
       "      <td>2</td>\n",
       "    </tr>\n",
       "    <tr>\n",
       "      <th>3</th>\n",
       "      <td>0.000063</td>\n",
       "      <td>3</td>\n",
       "      <td>0.000592</td>\n",
       "      <td>3</td>\n",
       "    </tr>\n",
       "    <tr>\n",
       "      <th>4</th>\n",
       "      <td>0.000040</td>\n",
       "      <td>4</td>\n",
       "      <td>0.000510</td>\n",
       "      <td>4</td>\n",
       "    </tr>\n",
       "    <tr>\n",
       "      <th>5</th>\n",
       "      <td>0.000028</td>\n",
       "      <td>5</td>\n",
       "      <td>0.000444</td>\n",
       "      <td>5</td>\n",
       "    </tr>\n",
       "    <tr>\n",
       "      <th>6</th>\n",
       "      <td>0.000020</td>\n",
       "      <td>6</td>\n",
       "      <td>0.000391</td>\n",
       "      <td>6</td>\n",
       "    </tr>\n",
       "    <tr>\n",
       "      <th>7</th>\n",
       "      <td>0.000016</td>\n",
       "      <td>7</td>\n",
       "      <td>0.000346</td>\n",
       "      <td>7</td>\n",
       "    </tr>\n",
       "    <tr>\n",
       "      <th>8</th>\n",
       "      <td>0.000012</td>\n",
       "      <td>8</td>\n",
       "      <td>0.000309</td>\n",
       "      <td>8</td>\n",
       "    </tr>\n",
       "    <tr>\n",
       "      <th>9</th>\n",
       "      <td>0.000010</td>\n",
       "      <td>9</td>\n",
       "      <td>0.000277</td>\n",
       "      <td>9</td>\n",
       "    </tr>\n",
       "  </tbody>\n",
       "</table>\n",
       "</div>"
      ],
      "text/plain": [
       "    etai_c2  iter  etai_c2_s10  iter\n",
       "0  0.001000     0     0.001000     0\n",
       "1  0.000250     1     0.000826     1\n",
       "2  0.000111     2     0.000694     2\n",
       "3  0.000063     3     0.000592     3\n",
       "4  0.000040     4     0.000510     4\n",
       "5  0.000028     5     0.000444     5\n",
       "6  0.000020     6     0.000391     6\n",
       "7  0.000016     7     0.000346     7\n",
       "8  0.000012     8     0.000309     8\n",
       "9  0.000010     9     0.000277     9"
      ]
     },
     "execution_count": 212,
     "metadata": {},
     "output_type": "execute_result"
    }
   ],
   "source": [
    "pd.concat(\n",
    "    [pd.DataFrame( dict( etai_c2 = etaPower(1e-3,c=2), iter = range(10) )),\n",
    "    pd.DataFrame( dict( etai_c2_s10 = etaPower(1e-3,c=2,s=10), iter = range(10) ))]\n",
    "    ,axis=1\n",
    ")"
   ]
  },
  {
   "cell_type": "code",
   "execution_count": 213,
   "metadata": {},
   "outputs": [
    {
     "data": {
      "image/png": "[encoded data removed]",
      "text/plain": [
       "<Figure size 640x480 with 1 Axes>"
      ]
     },
     "metadata": {},
     "output_type": "display_data"
    }
   ],
   "source": [
    "plt.plot(range(10),etaPower(1e-3,c=1,s=1),'-*',label='0.001 | c=1')\n",
    "plt.plot(range(10),etaPower(1e-3,c=2),'-.',label='0.001 | c=2')\n",
    "plt.plot(range(10),etaPower(1e-3,c=4),'-o',label='0.001 | c=4')\n",
    "plt.plot(range(10),etaPower(1e-3,s=10),'-o',label='0.001 | s=10')\n",
    "\n",
    "plt.legend(title = \"Legend Title\") \n",
    "plt.show()"
   ]
  },
  {
   "cell_type": "markdown",
   "metadata": {},
   "source": [
    "&nbsp;"
   ]
  },
  {
   "cell_type": "markdown",
   "metadata": {},
   "source": [
    "## Exponencial Scheduling"
   ]
  },
  {
   "cell_type": "code",
   "execution_count": 214,
   "metadata": {},
   "outputs": [],
   "source": [
    "def etaExpo(eta_0, iter=10, s=1):\n",
    "    listEta = []\n",
    "    for t in range(iter):\n",
    "        listEta.append(eta_0*((0.1)**(t/s)))\n",
    "    return listEta"
   ]
  },
  {
   "cell_type": "code",
   "execution_count": 215,
   "metadata": {},
   "outputs": [
    {
     "data": {
      "text/html": [
       "<div>\n",
       "<style scoped>\n",
       "    .dataframe tbody tr th:only-of-type {\n",
       "        vertical-align: middle;\n",
       "    }\n",
       "\n",
       "    .dataframe tbody tr th {\n",
       "        vertical-align: top;\n",
       "    }\n",
       "\n",
       "    .dataframe thead th {\n",
       "        text-align: right;\n",
       "    }\n",
       "</style>\n",
       "<table border=\"1\" class=\"dataframe\">\n",
       "  <thead>\n",
       "    <tr style=\"text-align: right;\">\n",
       "      <th></th>\n",
       "      <th>etai_c2</th>\n",
       "      <th>iter</th>\n",
       "      <th>etai_c2_s10</th>\n",
       "      <th>iter</th>\n",
       "    </tr>\n",
       "  </thead>\n",
       "  <tbody>\n",
       "    <tr>\n",
       "      <th>0</th>\n",
       "      <td>1.000000e-01</td>\n",
       "      <td>0</td>\n",
       "      <td>0.100000</td>\n",
       "      <td>0</td>\n",
       "    </tr>\n",
       "    <tr>\n",
       "      <th>1</th>\n",
       "      <td>1.000000e-02</td>\n",
       "      <td>1</td>\n",
       "      <td>0.079433</td>\n",
       "      <td>1</td>\n",
       "    </tr>\n",
       "    <tr>\n",
       "      <th>2</th>\n",
       "      <td>1.000000e-03</td>\n",
       "      <td>2</td>\n",
       "      <td>0.063096</td>\n",
       "      <td>2</td>\n",
       "    </tr>\n",
       "    <tr>\n",
       "      <th>3</th>\n",
       "      <td>1.000000e-04</td>\n",
       "      <td>3</td>\n",
       "      <td>0.050119</td>\n",
       "      <td>3</td>\n",
       "    </tr>\n",
       "    <tr>\n",
       "      <th>4</th>\n",
       "      <td>1.000000e-05</td>\n",
       "      <td>4</td>\n",
       "      <td>0.039811</td>\n",
       "      <td>4</td>\n",
       "    </tr>\n",
       "    <tr>\n",
       "      <th>5</th>\n",
       "      <td>1.000000e-06</td>\n",
       "      <td>5</td>\n",
       "      <td>0.031623</td>\n",
       "      <td>5</td>\n",
       "    </tr>\n",
       "    <tr>\n",
       "      <th>6</th>\n",
       "      <td>1.000000e-07</td>\n",
       "      <td>6</td>\n",
       "      <td>0.025119</td>\n",
       "      <td>6</td>\n",
       "    </tr>\n",
       "    <tr>\n",
       "      <th>7</th>\n",
       "      <td>1.000000e-08</td>\n",
       "      <td>7</td>\n",
       "      <td>0.019953</td>\n",
       "      <td>7</td>\n",
       "    </tr>\n",
       "    <tr>\n",
       "      <th>8</th>\n",
       "      <td>1.000000e-09</td>\n",
       "      <td>8</td>\n",
       "      <td>0.015849</td>\n",
       "      <td>8</td>\n",
       "    </tr>\n",
       "    <tr>\n",
       "      <th>9</th>\n",
       "      <td>1.000000e-10</td>\n",
       "      <td>9</td>\n",
       "      <td>0.012589</td>\n",
       "      <td>9</td>\n",
       "    </tr>\n",
       "  </tbody>\n",
       "</table>\n",
       "</div>"
      ],
      "text/plain": [
       "        etai_c2  iter  etai_c2_s10  iter\n",
       "0  1.000000e-01     0     0.100000     0\n",
       "1  1.000000e-02     1     0.079433     1\n",
       "2  1.000000e-03     2     0.063096     2\n",
       "3  1.000000e-04     3     0.050119     3\n",
       "4  1.000000e-05     4     0.039811     4\n",
       "5  1.000000e-06     5     0.031623     5\n",
       "6  1.000000e-07     6     0.025119     6\n",
       "7  1.000000e-08     7     0.019953     7\n",
       "8  1.000000e-09     8     0.015849     8\n",
       "9  1.000000e-10     9     0.012589     9"
      ]
     },
     "execution_count": 215,
     "metadata": {},
     "output_type": "execute_result"
    }
   ],
   "source": [
    "pd.concat(\n",
    "    [pd.DataFrame( dict( etai_c2 = etaExpo(1e-1,s=1), iter = range(10) )),\n",
    "    pd.DataFrame( dict( etai_c2_s10 = etaExpo(1e-1,s=10), iter = range(10) ))]\n",
    "    ,axis=1\n",
    ")"
   ]
  },
  {
   "cell_type": "code",
   "execution_count": 216,
   "metadata": {},
   "outputs": [
    {
     "data": {
      "image/png": "[encoded data removed]",
      "text/plain": [
       "<Figure size 640x480 with 1 Axes>"
      ]
     },
     "metadata": {},
     "output_type": "display_data"
    }
   ],
   "source": [
    "plt.plot(range(10),etaExpo(1e-2,s=1),'-*',label='0.01 | s=1')\n",
    "plt.plot(range(10),etaExpo(1e-2,s=2),'-.',label='0.01 | s=2')\n",
    "plt.plot(range(10),etaExpo(1e-2,s=4),'-o',label='0.01 | s=4')\n",
    "plt.plot(range(10),etaExpo(1e-2,s=10),'-o',label='0.01 | s=10')\n",
    "\n",
    "plt.legend(title = \"Legend Title\") \n",
    "plt.show()"
   ]
  },
  {
   "cell_type": "markdown",
   "metadata": {},
   "source": [
    "&nbsp;"
   ]
  },
  {
   "cell_type": "code",
   "execution_count": 217,
   "metadata": {},
   "outputs": [],
   "source": [
    "import keras\n",
    "from sklearn.metrics import classification_report\n",
    "from sklearn.datasets import load_breast_cancer\n",
    "from sklearn.utils.class_weight import compute_class_weight\n",
    "from sklearn.model_selection import train_test_split\n",
    "from sklearn.preprocessing   import StandardScaler"
   ]
  },
  {
   "cell_type": "code",
   "execution_count": 218,
   "metadata": {},
   "outputs": [],
   "source": [
    "X, y = load_breast_cancer(return_X_y=True )\n",
    "xtrainF, xtestF, ytrainF, ytestF = train_test_split(X, y, random_state=42 ,test_size=0.20)"
   ]
  },
  {
   "cell_type": "code",
   "execution_count": 219,
   "metadata": {},
   "outputs": [
    {
     "data": {
      "text/plain": [
       "((455, 30), (114, 30))"
      ]
     },
     "execution_count": 219,
     "metadata": {},
     "output_type": "execute_result"
    }
   ],
   "source": [
    "xtrainF.shape,xtestF.shape"
   ]
  },
  {
   "cell_type": "code",
   "execution_count": 220,
   "metadata": {},
   "outputs": [],
   "source": [
    "def Model():\n",
    "    initalizaer = keras.initializers.VarianceScaling(scale=2., mode='fan_in', distribution='normal',seed=32)\n",
    "\n",
    "    model = keras.models.Sequential(\n",
    "        layers = [\n",
    "            keras.layers.BatchNormalization(),\n",
    "            keras.layers.Dense(30, activation=keras.activations.relu, kernel_initializer=initalizaer),\n",
    "            keras.layers.BatchNormalization(),\n",
    "            keras.layers.Dense(15, activation=keras.activations.relu, kernel_initializer=initalizaer),\n",
    "            keras.layers.BatchNormalization(),\n",
    "            keras.layers.Dense(10, activation=keras.activations.relu, kernel_initializer=initalizaer),\n",
    "            keras.layers.BatchNormalization(),\n",
    "            keras.layers.Dense(1, activation=keras.activations.relu)\n",
    "        ]\n",
    "    )\n",
    "    return model"
   ]
  },
  {
   "cell_type": "code",
   "execution_count": 221,
   "metadata": {},
   "outputs": [
    {
     "name": "stdout",
     "output_type": "stream",
     "text": [
      "Epoch 1/32\n"
     ]
    },
    {
     "name": "stdout",
     "output_type": "stream",
     "text": [
      "15/15 [==============================] - 1s 2ms/step - loss: 5.8538 - binary_accuracy: 0.5187\n",
      "Epoch 2/32\n",
      "15/15 [==============================] - 0s 3ms/step - loss: 2.9411 - binary_accuracy: 0.7297\n",
      "Epoch 3/32\n",
      "15/15 [==============================] - 0s 2ms/step - loss: 1.1892 - binary_accuracy: 0.8791\n",
      "Epoch 4/32\n",
      "15/15 [==============================] - 0s 2ms/step - loss: 1.2452 - binary_accuracy: 0.8857\n",
      "Epoch 5/32\n",
      "15/15 [==============================] - 0s 3ms/step - loss: 4.1265 - binary_accuracy: 0.6945\n",
      "Epoch 6/32\n",
      "15/15 [==============================] - 0s 2ms/step - loss: 4.5840 - binary_accuracy: 0.6593\n",
      "Epoch 7/32\n",
      "15/15 [==============================] - 0s 2ms/step - loss: 3.4014 - binary_accuracy: 0.7319\n",
      "Epoch 8/32\n",
      "15/15 [==============================] - 0s 2ms/step - loss: 2.9229 - binary_accuracy: 0.7736\n"
     ]
    },
    {
     "data": {
      "text/plain": [
       "<keras.src.callbacks.History at 0x7f3ef68018d0>"
      ]
     },
     "execution_count": 221,
     "metadata": {},
     "output_type": "execute_result"
    }
   ],
   "source": [
    "model = Model()\n",
    "model.compile(\n",
    "    optimizer = keras.optimizers.SGD(learning_rate=0.001,momentum=0.9, nesterov=True),\n",
    "    loss      = keras.losses.binary_crossentropy,\n",
    "    metrics   = [keras.metrics.binary_accuracy]\n",
    ")\n",
    "call = keras.callbacks.EarlyStopping(monitor='loss', patience=5)\n",
    "model.fit( xtrainF, ytrainF, epochs=32, batch_size=32, callbacks=[call])"
   ]
  },
  {
   "cell_type": "code",
   "execution_count": 222,
   "metadata": {},
   "outputs": [
    {
     "name": "stdout",
     "output_type": "stream",
     "text": [
      "4/4 [==============================] - 0s 2ms/step\n"
     ]
    }
   ],
   "source": [
    "pred = model.predict(xtestF)>0.5"
   ]
  },
  {
   "cell_type": "code",
   "execution_count": 223,
   "metadata": {},
   "outputs": [
    {
     "name": "stdout",
     "output_type": "stream",
     "text": [
      "              precision    recall  f1-score   support\n",
      "\n",
      "           0       0.43      1.00      0.61        43\n",
      "           1       1.00      0.21      0.35        71\n",
      "\n",
      "    accuracy                           0.51       114\n",
      "   macro avg       0.72      0.61      0.48       114\n",
      "weighted avg       0.79      0.51      0.45       114\n",
      "\n"
     ]
    }
   ],
   "source": [
    "print(classification_report(ytestF,pred))"
   ]
  },
  {
   "cell_type": "markdown",
   "metadata": {},
   "source": [
    "&nbsp;"
   ]
  },
  {
   "cell_type": "markdown",
   "metadata": {},
   "source": [
    "### Implementando"
   ]
  },
  {
   "cell_type": "code",
   "execution_count": 237,
   "metadata": {},
   "outputs": [
    {
     "data": {
      "text/plain": [
       "0"
      ]
     },
     "execution_count": 237,
     "metadata": {},
     "output_type": "execute_result"
    }
   ],
   "source": [
    "def exponencialScheduling(eta_0, s=1):\n",
    "    def exponencialScheduling_fn(epoch):\n",
    "        return eta_0 * ((0.1)**(epoch/s))\n",
    "    return exponencialScheduling_fn\n",
    "\n",
    "expo = keras.callbacks.LearningRateScheduler(\n",
    "    schedule=exponencialScheduling(eta_0=0.01, s=1)\n",
    ")\n",
    "15*len(xtrainF.shape)//32"
   ]
  },
  {
   "cell_type": "code",
   "execution_count": 238,
   "metadata": {},
   "outputs": [
    {
     "name": "stdout",
     "output_type": "stream",
     "text": [
      "Epoch 1/32\n",
      "15/15 [==============================] - 1s 3ms/step - loss: 2.1055 - binary_accuracy: 0.8396 - lr: 0.0100\n",
      "Epoch 2/32\n",
      "15/15 [==============================] - 0s 2ms/step - loss: 1.4153 - binary_accuracy: 0.8967 - lr: 0.0010\n",
      "Epoch 3/32\n",
      "15/15 [==============================] - 0s 2ms/step - loss: 1.2648 - binary_accuracy: 0.8989 - lr: 1.0000e-04\n",
      "Epoch 4/32\n",
      "15/15 [==============================] - 0s 2ms/step - loss: 1.2104 - binary_accuracy: 0.9099 - lr: 1.0000e-05\n",
      "Epoch 5/32\n",
      "15/15 [==============================] - 0s 2ms/step - loss: 1.2839 - binary_accuracy: 0.9033 - lr: 1.0000e-06\n",
      "Epoch 6/32\n",
      "15/15 [==============================] - 0s 3ms/step - loss: 1.3144 - binary_accuracy: 0.8923 - lr: 1.0000e-07\n",
      "Epoch 7/32\n",
      "15/15 [==============================] - 0s 2ms/step - loss: 1.3863 - binary_accuracy: 0.8989 - lr: 1.0000e-08\n",
      "Epoch 8/32\n",
      "15/15 [==============================] - 0s 3ms/step - loss: 1.1972 - binary_accuracy: 0.9033 - lr: 1.0000e-09\n",
      "Epoch 9/32\n",
      "15/15 [==============================] - 0s 2ms/step - loss: 1.2130 - binary_accuracy: 0.9099 - lr: 1.0000e-10\n",
      "Epoch 10/32\n",
      "15/15 [==============================] - 0s 3ms/step - loss: 1.7775 - binary_accuracy: 0.8549 - lr: 1.0000e-11\n",
      "Epoch 11/32\n",
      "15/15 [==============================] - 0s 2ms/step - loss: 1.3661 - binary_accuracy: 0.8945 - lr: 1.0000e-12\n",
      "Epoch 12/32\n",
      "15/15 [==============================] - 0s 2ms/step - loss: 1.2893 - binary_accuracy: 0.9033 - lr: 1.0000e-13\n",
      "Epoch 13/32\n",
      "15/15 [==============================] - 0s 2ms/step - loss: 1.1399 - binary_accuracy: 0.9099 - lr: 1.0000e-14\n",
      "Epoch 14/32\n",
      "15/15 [==============================] - 0s 2ms/step - loss: 1.1034 - binary_accuracy: 0.9121 - lr: 1.0000e-15\n",
      "Epoch 15/32\n",
      "15/15 [==============================] - 0s 2ms/step - loss: 1.1769 - binary_accuracy: 0.9165 - lr: 1.0000e-16\n",
      "Epoch 16/32\n",
      "15/15 [==============================] - 0s 2ms/step - loss: 1.3461 - binary_accuracy: 0.8989 - lr: 1.0000e-17\n",
      "Epoch 17/32\n",
      "15/15 [==============================] - 0s 2ms/step - loss: 1.1418 - binary_accuracy: 0.9187 - lr: 1.0000e-18\n",
      "Epoch 18/32\n",
      "15/15 [==============================] - 0s 2ms/step - loss: 1.2464 - binary_accuracy: 0.8967 - lr: 1.0000e-19\n",
      "Epoch 19/32\n",
      "15/15 [==============================] - 0s 2ms/step - loss: 1.2469 - binary_accuracy: 0.9077 - lr: 1.0000e-20\n",
      "Epoch 20/32\n",
      "15/15 [==============================] - 0s 2ms/step - loss: 1.5897 - binary_accuracy: 0.8703 - lr: 1.0000e-21\n",
      "Epoch 21/32\n",
      "15/15 [==============================] - 0s 2ms/step - loss: 1.2840 - binary_accuracy: 0.9033 - lr: 1.0000e-22\n",
      "Epoch 22/32\n",
      "15/15 [==============================] - 0s 3ms/step - loss: 1.4556 - binary_accuracy: 0.8901 - lr: 1.0000e-23\n",
      "Epoch 23/32\n",
      "15/15 [==============================] - 0s 3ms/step - loss: 1.3017 - binary_accuracy: 0.8923 - lr: 1.0000e-24\n",
      "Epoch 24/32\n",
      "15/15 [==============================] - 0s 3ms/step - loss: 1.3187 - binary_accuracy: 0.8835 - lr: 1.0000e-25\n",
      "Epoch 25/32\n",
      "15/15 [==============================] - 0s 2ms/step - loss: 1.2581 - binary_accuracy: 0.9011 - lr: 1.0000e-26\n",
      "Epoch 26/32\n",
      "15/15 [==============================] - 0s 2ms/step - loss: 1.3210 - binary_accuracy: 0.8967 - lr: 1.0000e-27\n",
      "Epoch 27/32\n",
      "15/15 [==============================] - 0s 2ms/step - loss: 1.1464 - binary_accuracy: 0.9033 - lr: 1.0000e-28\n",
      "Epoch 28/32\n",
      "15/15 [==============================] - 0s 3ms/step - loss: 1.1586 - binary_accuracy: 0.9077 - lr: 1.0000e-29\n",
      "Epoch 29/32\n",
      "15/15 [==============================] - 0s 3ms/step - loss: 1.4091 - binary_accuracy: 0.8879 - lr: 1.0000e-30\n",
      "Epoch 30/32\n",
      "15/15 [==============================] - 0s 3ms/step - loss: 1.3975 - binary_accuracy: 0.8923 - lr: 1.0000e-31\n",
      "Epoch 31/32\n",
      "15/15 [==============================] - 0s 2ms/step - loss: 1.3510 - binary_accuracy: 0.8989 - lr: 1.0000e-32\n",
      "Epoch 32/32\n",
      "15/15 [==============================] - 0s 2ms/step - loss: 1.4162 - binary_accuracy: 0.8967 - lr: 1.0000e-33\n"
     ]
    },
    {
     "data": {
      "text/plain": [
       "<keras.src.callbacks.History at 0x7f3ef6513210>"
      ]
     },
     "execution_count": 238,
     "metadata": {},
     "output_type": "execute_result"
    }
   ],
   "source": [
    "model = Model()\n",
    "model.compile(\n",
    "    optimizer = keras.optimizers.SGD(momentum=0.9, nesterov=True),\n",
    "    loss      = keras.losses.binary_crossentropy,\n",
    "    metrics   = [keras.metrics.binary_accuracy]\n",
    ")\n",
    "model.fit( xtrainF, ytrainF, epochs=32, batch_size=32, callbacks=[expo])"
   ]
  },
  {
   "cell_type": "code",
   "execution_count": 239,
   "metadata": {},
   "outputs": [
    {
     "name": "stdout",
     "output_type": "stream",
     "text": [
      "4/4 [==============================] - 0s 2ms/step\n"
     ]
    }
   ],
   "source": [
    "pred = model.predict(xtestF)>0.5"
   ]
  },
  {
   "cell_type": "code",
   "execution_count": 240,
   "metadata": {},
   "outputs": [
    {
     "name": "stdout",
     "output_type": "stream",
     "text": [
      "              precision    recall  f1-score   support\n",
      "\n",
      "           0       0.76      0.95      0.85        43\n",
      "           1       0.97      0.82      0.89        71\n",
      "\n",
      "    accuracy                           0.87       114\n",
      "   macro avg       0.86      0.89      0.87       114\n",
      "weighted avg       0.89      0.87      0.87       114\n",
      "\n"
     ]
    }
   ],
   "source": [
    "print(classification_report(ytestF,pred))"
   ]
  },
  {
   "cell_type": "code",
   "execution_count": 228,
   "metadata": {},
   "outputs": [
    {
     "ename": "TypeError",
     "evalue": "ExponentialDecay.__init__() missing 2 required positional arguments: 'decay_steps' and 'decay_rate'",
     "output_type": "error",
     "traceback": [
      "\u001b[0;31m---------------------------------------------------------------------------\u001b[0m",
      "\u001b[0;31mTypeError\u001b[0m                                 Traceback (most recent call last)",
      "Cell \u001b[0;32mIn[228], line 1\u001b[0m\n\u001b[0;32m----> 1\u001b[0m \u001b[43mkeras\u001b[49m\u001b[38;5;241;43m.\u001b[39;49m\u001b[43moptimizers\u001b[49m\u001b[38;5;241;43m.\u001b[39;49m\u001b[43mschedules\u001b[49m\u001b[38;5;241;43m.\u001b[39;49m\u001b[43mExponentialDecay\u001b[49m\u001b[43m(\u001b[49m\n\u001b[1;32m      2\u001b[0m \u001b[43m    \u001b[49m\u001b[43minitial_learning_rate\u001b[49m\u001b[38;5;241;43m=\u001b[39;49m\u001b[38;5;241;43m0.2\u001b[39;49m\u001b[43m,\u001b[49m\n\u001b[1;32m      3\u001b[0m \u001b[43m)\u001b[49m\n",
      "\u001b[0;31mTypeError\u001b[0m: ExponentialDecay.__init__() missing 2 required positional arguments: 'decay_steps' and 'decay_rate'"
     ]
    }
   ],
   "source": [
    "keras.optimizers.schedules.ExponentialDecay(\n",
    "    initial_learning_rate=0.2,\n",
    "    decay_rate=s,\n",
    "    \n",
    ")"
   ]
  }
 ],
 "metadata": {
  "kernelspec": {
   "display_name": "venvGlobal",
   "language": "python",
   "name": "python3"
  },
  "language_info": {
   "codemirror_mode": {
    "name": "ipython",
    "version": 3
   },
   "file_extension": ".py",
   "mimetype": "text/x-python",
   "name": "python",
   "nbconvert_exporter": "python",
   "pygments_lexer": "ipython3",
   "version": "3.11.8"
  }
 },
 "nbformat": 4,
 "nbformat_minor": 2
}
