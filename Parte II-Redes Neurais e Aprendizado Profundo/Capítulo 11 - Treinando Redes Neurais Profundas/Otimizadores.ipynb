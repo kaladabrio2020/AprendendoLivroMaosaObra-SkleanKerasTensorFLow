{
 "cells": [
  {
   "cell_type": "code",
   "execution_count": 26,
   "metadata": {},
   "outputs": [],
   "source": [
    "import keras\n",
    "import numpy as np\n",
    "from sklearn.metrics import classification_report\n",
    "from sklearn.datasets import load_iris\n",
    "from sklearn.utils.class_weight import compute_class_weight\n",
    "from sklearn.model_selection import train_test_split\n",
    "from sklearn.preprocessing   import StandardScaler"
   ]
  },
  {
   "cell_type": "code",
   "execution_count": 27,
   "metadata": {},
   "outputs": [
    {
     "data": {
      "text/plain": [
       "(120, 4)"
      ]
     },
     "execution_count": 27,
     "metadata": {},
     "output_type": "execute_result"
    }
   ],
   "source": [
    "X, y = load_iris(return_X_y=True)\n",
    "xtrainF, xtestF, ytrainF, ytestF = train_test_split(X, y, random_state=42 ,test_size=0.20)\n",
    "xtrainF.shape"
   ]
  },
  {
   "cell_type": "code",
   "execution_count": 28,
   "metadata": {},
   "outputs": [],
   "source": [
    "pesos = compute_class_weight(class_weight='balanced',classes=np.unique(ytrainF),y=ytrainF)\n",
    "pesos = {\n",
    "    0:pesos[0],\n",
    "    1:pesos[1]\n",
    "}"
   ]
  },
  {
   "cell_type": "code",
   "execution_count": 29,
   "metadata": {},
   "outputs": [],
   "source": [
    "def Model():\n",
    "    initalizaer = keras.initializers.VarianceScaling(scale=2., mode='fan_in', distribution='normal',seed=32)\n",
    "\n",
    "    model = keras.models.Sequential(\n",
    "        layers = [\n",
    "            keras.layers.BatchNormalization(),\n",
    "            keras.layers.Dense(8, activation=keras.activations.relu, kernel_initializer=initalizaer),\n",
    "            keras.layers.BatchNormalization(),\n",
    "            keras.layers.Dense(4, activation=keras.activations.relu, kernel_initializer=initalizaer),\n",
    "            keras.layers.BatchNormalization(),\n",
    "            keras.layers.Dense(3, activation=keras.activations.softmax)\n",
    "        ]\n",
    "    )\n",
    "    return model"
   ]
  },
  {
   "cell_type": "markdown",
   "metadata": {},
   "source": [
    "## Momentum"
   ]
  },
  {
   "cell_type": "code",
   "execution_count": 30,
   "metadata": {},
   "outputs": [
    {
     "name": "stdout",
     "output_type": "stream",
     "text": [
      "Epoch 1/32\n"
     ]
    },
    {
     "name": "stdout",
     "output_type": "stream",
     "text": [
      "24/24 [==============================] - 1s 2ms/step - loss: 1.4531 - sparse_categorical_accuracy: 0.4000\n",
      "Epoch 2/32\n",
      "24/24 [==============================] - 0s 2ms/step - loss: 0.9505 - sparse_categorical_accuracy: 0.5917\n",
      "Epoch 3/32\n",
      "24/24 [==============================] - 0s 2ms/step - loss: 0.8527 - sparse_categorical_accuracy: 0.6333\n",
      "Epoch 4/32\n",
      "24/24 [==============================] - 0s 2ms/step - loss: 0.7892 - sparse_categorical_accuracy: 0.6667\n",
      "Epoch 5/32\n",
      "24/24 [==============================] - 0s 2ms/step - loss: 0.7879 - sparse_categorical_accuracy: 0.6333\n",
      "Epoch 6/32\n",
      "24/24 [==============================] - 0s 2ms/step - loss: 0.6915 - sparse_categorical_accuracy: 0.6750\n",
      "Epoch 7/32\n",
      "24/24 [==============================] - 0s 2ms/step - loss: 0.7016 - sparse_categorical_accuracy: 0.6750\n",
      "Epoch 8/32\n",
      "24/24 [==============================] - 0s 2ms/step - loss: 0.7740 - sparse_categorical_accuracy: 0.6500\n",
      "Epoch 9/32\n",
      "24/24 [==============================] - 0s 2ms/step - loss: 0.6385 - sparse_categorical_accuracy: 0.7583\n",
      "Epoch 10/32\n",
      "24/24 [==============================] - 0s 2ms/step - loss: 0.6171 - sparse_categorical_accuracy: 0.7667\n",
      "Epoch 11/32\n",
      "24/24 [==============================] - 0s 2ms/step - loss: 0.6217 - sparse_categorical_accuracy: 0.7500\n",
      "Epoch 12/32\n",
      "24/24 [==============================] - 0s 2ms/step - loss: 0.5961 - sparse_categorical_accuracy: 0.7500\n",
      "Epoch 13/32\n",
      "24/24 [==============================] - 0s 2ms/step - loss: 0.5899 - sparse_categorical_accuracy: 0.7417\n",
      "Epoch 14/32\n",
      "24/24 [==============================] - 0s 4ms/step - loss: 0.5667 - sparse_categorical_accuracy: 0.7583\n",
      "Epoch 15/32\n",
      "24/24 [==============================] - 0s 2ms/step - loss: 0.6470 - sparse_categorical_accuracy: 0.7333\n",
      "Epoch 16/32\n",
      "24/24 [==============================] - 0s 2ms/step - loss: 0.6145 - sparse_categorical_accuracy: 0.6917\n",
      "Epoch 17/32\n",
      "24/24 [==============================] - 0s 1ms/step - loss: 0.6249 - sparse_categorical_accuracy: 0.7167\n",
      "Epoch 18/32\n",
      "24/24 [==============================] - 0s 1ms/step - loss: 0.5246 - sparse_categorical_accuracy: 0.8000\n",
      "Epoch 19/32\n",
      "24/24 [==============================] - 0s 2ms/step - loss: 0.5104 - sparse_categorical_accuracy: 0.7917\n",
      "Epoch 20/32\n",
      "24/24 [==============================] - 0s 2ms/step - loss: 0.5894 - sparse_categorical_accuracy: 0.7833\n",
      "Epoch 21/32\n",
      "24/24 [==============================] - 0s 2ms/step - loss: 0.4669 - sparse_categorical_accuracy: 0.8333\n",
      "Epoch 22/32\n",
      "24/24 [==============================] - 0s 2ms/step - loss: 0.5577 - sparse_categorical_accuracy: 0.7167\n",
      "Epoch 23/32\n",
      "24/24 [==============================] - 0s 2ms/step - loss: 0.5171 - sparse_categorical_accuracy: 0.8083\n",
      "Epoch 24/32\n",
      "24/24 [==============================] - 0s 2ms/step - loss: 0.4743 - sparse_categorical_accuracy: 0.8083\n",
      "Epoch 25/32\n",
      "24/24 [==============================] - 0s 2ms/step - loss: 0.5494 - sparse_categorical_accuracy: 0.7917\n",
      "Epoch 26/32\n",
      "24/24 [==============================] - 0s 2ms/step - loss: 0.5391 - sparse_categorical_accuracy: 0.8167\n"
     ]
    },
    {
     "data": {
      "text/plain": [
       "<keras.src.callbacks.History at 0x7f52a4109090>"
      ]
     },
     "execution_count": 30,
     "metadata": {},
     "output_type": "execute_result"
    }
   ],
   "source": [
    "model = Model()\n",
    "model.compile(\n",
    "    optimizer = keras.optimizers.SGD(learning_rate=0.001,momentum=0.9),\n",
    "    loss      = keras.losses.sparse_categorical_crossentropy,\n",
    "    metrics   = [keras.metrics.sparse_categorical_accuracy]\n",
    ")\n",
    "call = keras.callbacks.EarlyStopping(monitor='loss', patience=5)\n",
    "model.fit( xtrainF, ytrainF, epochs=32, batch_size=5, callbacks=[call])"
   ]
  },
  {
   "cell_type": "code",
   "execution_count": 31,
   "metadata": {},
   "outputs": [
    {
     "name": "stdout",
     "output_type": "stream",
     "text": [
      "WARNING:tensorflow:6 out of the last 7 calls to <function Model.make_predict_function.<locals>.predict_function at 0x7f52a41df420> triggered tf.function retracing. Tracing is expensive and the excessive number of tracings could be due to (1) creating @tf.function repeatedly in a loop, (2) passing tensors with different shapes, (3) passing Python objects instead of tensors. For (1), please define your @tf.function outside of the loop. For (2), @tf.function has reduce_retracing=True option that can avoid unnecessary retracing. For (3), please refer to https://www.tensorflow.org/guide/function#controlling_retracing and https://www.tensorflow.org/api_docs/python/tf/function for  more details.\n",
      "1/1 [==============================] - 0s 141ms/step\n"
     ]
    }
   ],
   "source": []
  },
  {
   "cell_type": "code",
   "execution_count": 32,
   "metadata": {},
   "outputs": [
    {
     "name": "stdout",
     "output_type": "stream",
     "text": [
      "              precision    recall  f1-score   support\n",
      "\n",
      "           0       1.00      1.00      1.00        10\n",
      "           1       1.00      1.00      1.00         9\n",
      "           2       1.00      1.00      1.00        11\n",
      "\n",
      "    accuracy                           1.00        30\n",
      "   macro avg       1.00      1.00      1.00        30\n",
      "weighted avg       1.00      1.00      1.00        30\n",
      "\n"
     ]
    }
   ],
   "source": [
    "print(classification_report(ytestF,pred))"
   ]
  },
  {
   "cell_type": "code",
   "execution_count": 33,
   "metadata": {},
   "outputs": [
    {
     "data": {
      "text/plain": [
       "<keras.src.callbacks.History at 0x7f52a617cd10>"
      ]
     },
     "execution_count": 33,
     "metadata": {},
     "output_type": "execute_result"
    }
   ],
   "source": [
    "model.save('model/Model_iris0.keras')\n",
    "model = keras.models.load_model('model/Model_iris0.keras')\n",
    "model.fit( xtrainF, ytrainF, epochs=32, batch_size=5, verbose=0)"
   ]
  },
  {
   "cell_type": "code",
   "execution_count": 34,
   "metadata": {},
   "outputs": [
    {
     "name": "stdout",
     "output_type": "stream",
     "text": [
      "1/1 [==============================] - 0s 134ms/step\n"
     ]
    }
   ],
   "source": [
    "pred = np.argmax(model.predict(xtestF),axis=-1)"
   ]
  },
  {
   "cell_type": "code",
   "execution_count": 35,
   "metadata": {},
   "outputs": [
    {
     "name": "stdout",
     "output_type": "stream",
     "text": [
      "              precision    recall  f1-score   support\n",
      "\n",
      "           0       1.00      1.00      1.00        10\n",
      "           1       1.00      0.89      0.94         9\n",
      "           2       0.92      1.00      0.96        11\n",
      "\n",
      "    accuracy                           0.97        30\n",
      "   macro avg       0.97      0.96      0.97        30\n",
      "weighted avg       0.97      0.97      0.97        30\n",
      "\n"
     ]
    }
   ],
   "source": [
    "print(classification_report(ytestF,pred))"
   ]
  },
  {
   "cell_type": "markdown",
   "metadata": {},
   "source": [
    "&nbsp;"
   ]
  },
  {
   "cell_type": "markdown",
   "metadata": {},
   "source": [
    "## Nesterov"
   ]
  },
  {
   "cell_type": "code",
   "execution_count": 36,
   "metadata": {},
   "outputs": [
    {
     "name": "stdout",
     "output_type": "stream",
     "text": [
      "Epoch 1/32\n"
     ]
    },
    {
     "name": "stdout",
     "output_type": "stream",
     "text": [
      "24/24 [==============================] - 1s 2ms/step - loss: 1.0737 - sparse_categorical_accuracy: 0.4667\n",
      "Epoch 2/32\n",
      "24/24 [==============================] - 0s 2ms/step - loss: 0.8842 - sparse_categorical_accuracy: 0.6583\n",
      "Epoch 3/32\n",
      "24/24 [==============================] - 0s 1ms/step - loss: 0.8449 - sparse_categorical_accuracy: 0.7000\n",
      "Epoch 4/32\n",
      "24/24 [==============================] - 0s 2ms/step - loss: 0.8175 - sparse_categorical_accuracy: 0.6583\n",
      "Epoch 5/32\n",
      "24/24 [==============================] - 0s 1ms/step - loss: 0.7172 - sparse_categorical_accuracy: 0.7417\n",
      "Epoch 6/32\n",
      "24/24 [==============================] - 0s 2ms/step - loss: 0.6333 - sparse_categorical_accuracy: 0.8000\n",
      "Epoch 7/32\n",
      "24/24 [==============================] - 0s 2ms/step - loss: 0.6882 - sparse_categorical_accuracy: 0.7500\n",
      "Epoch 8/32\n",
      "24/24 [==============================] - 0s 2ms/step - loss: 0.5686 - sparse_categorical_accuracy: 0.8333\n",
      "Epoch 9/32\n",
      "24/24 [==============================] - 0s 2ms/step - loss: 0.6855 - sparse_categorical_accuracy: 0.7333\n",
      "Epoch 10/32\n",
      "24/24 [==============================] - 0s 2ms/step - loss: 0.6756 - sparse_categorical_accuracy: 0.7333\n",
      "Epoch 11/32\n",
      "24/24 [==============================] - 0s 2ms/step - loss: 0.5127 - sparse_categorical_accuracy: 0.8500\n",
      "Epoch 12/32\n",
      "24/24 [==============================] - 0s 2ms/step - loss: 0.5019 - sparse_categorical_accuracy: 0.8417\n",
      "Epoch 13/32\n",
      "24/24 [==============================] - 0s 2ms/step - loss: 0.7222 - sparse_categorical_accuracy: 0.7250\n",
      "Epoch 14/32\n",
      "24/24 [==============================] - 0s 2ms/step - loss: 0.4633 - sparse_categorical_accuracy: 0.8583\n",
      "Epoch 15/32\n",
      "24/24 [==============================] - 0s 2ms/step - loss: 0.5846 - sparse_categorical_accuracy: 0.7917\n",
      "Epoch 16/32\n",
      "24/24 [==============================] - 0s 2ms/step - loss: 0.5262 - sparse_categorical_accuracy: 0.8167\n",
      "Epoch 17/32\n",
      "24/24 [==============================] - 0s 2ms/step - loss: 0.6454 - sparse_categorical_accuracy: 0.7417\n",
      "Epoch 18/32\n",
      "24/24 [==============================] - 0s 1ms/step - loss: 0.6395 - sparse_categorical_accuracy: 0.7583\n",
      "Epoch 19/32\n",
      "24/24 [==============================] - 0s 2ms/step - loss: 0.4882 - sparse_categorical_accuracy: 0.8417\n"
     ]
    },
    {
     "data": {
      "text/plain": [
       "<keras.src.callbacks.History at 0x7f529ebb5b10>"
      ]
     },
     "execution_count": 36,
     "metadata": {},
     "output_type": "execute_result"
    }
   ],
   "source": [
    "model = Model()\n",
    "model.compile(\n",
    "    optimizer = keras.optimizers.SGD(learning_rate=0.001,momentum=0.9, nesterov=True),\n",
    "    loss      = keras.losses.sparse_categorical_crossentropy,\n",
    "    metrics   = [keras.metrics.sparse_categorical_accuracy]\n",
    ")\n",
    "call = keras.callbacks.EarlyStopping(monitor='loss', patience=5)\n",
    "model.fit( xtrainF, ytrainF, epochs=32, batch_size=5, callbacks=[call])"
   ]
  },
  {
   "cell_type": "code",
   "execution_count": 37,
   "metadata": {},
   "outputs": [
    {
     "name": "stdout",
     "output_type": "stream",
     "text": [
      "1/1 [==============================] - 0s 131ms/step\n"
     ]
    }
   ],
   "source": [
    "pred = np.argmax(model.predict(xtestF),axis=-1)"
   ]
  },
  {
   "cell_type": "code",
   "execution_count": 38,
   "metadata": {},
   "outputs": [
    {
     "name": "stdout",
     "output_type": "stream",
     "text": [
      "              precision    recall  f1-score   support\n",
      "\n",
      "           0       1.00      1.00      1.00        10\n",
      "           1       1.00      0.89      0.94         9\n",
      "           2       0.92      1.00      0.96        11\n",
      "\n",
      "    accuracy                           0.97        30\n",
      "   macro avg       0.97      0.96      0.97        30\n",
      "weighted avg       0.97      0.97      0.97        30\n",
      "\n"
     ]
    }
   ],
   "source": [
    "print(classification_report(ytestF,pred))"
   ]
  },
  {
   "cell_type": "markdown",
   "metadata": {},
   "source": [
    "### Adagrad"
   ]
  },
  {
   "cell_type": "code",
   "execution_count": 39,
   "metadata": {},
   "outputs": [
    {
     "name": "stdout",
     "output_type": "stream",
     "text": [
      "Epoch 1/32\n"
     ]
    },
    {
     "name": "stdout",
     "output_type": "stream",
     "text": [
      "24/24 [==============================] - 1s 2ms/step - loss: 1.4875 - sparse_categorical_accuracy: 0.1667\n",
      "Epoch 2/32\n",
      "24/24 [==============================] - 0s 2ms/step - loss: 1.4212 - sparse_categorical_accuracy: 0.2083\n",
      "Epoch 3/32\n",
      "24/24 [==============================] - 0s 1ms/step - loss: 1.3978 - sparse_categorical_accuracy: 0.2583\n",
      "Epoch 4/32\n",
      "24/24 [==============================] - 0s 1ms/step - loss: 1.3673 - sparse_categorical_accuracy: 0.1917\n",
      "Epoch 5/32\n",
      "24/24 [==============================] - 0s 1ms/step - loss: 1.3196 - sparse_categorical_accuracy: 0.2333\n",
      "Epoch 6/32\n",
      "24/24 [==============================] - 0s 1ms/step - loss: 1.3834 - sparse_categorical_accuracy: 0.2000\n",
      "Epoch 7/32\n",
      "24/24 [==============================] - 0s 1ms/step - loss: 1.2858 - sparse_categorical_accuracy: 0.3250\n",
      "Epoch 8/32\n",
      "24/24 [==============================] - 0s 1ms/step - loss: 1.3374 - sparse_categorical_accuracy: 0.2417\n",
      "Epoch 9/32\n",
      "24/24 [==============================] - 0s 1ms/step - loss: 1.2653 - sparse_categorical_accuracy: 0.2500\n",
      "Epoch 10/32\n",
      "24/24 [==============================] - 0s 1ms/step - loss: 1.2854 - sparse_categorical_accuracy: 0.2333\n",
      "Epoch 11/32\n",
      "24/24 [==============================] - 0s 1ms/step - loss: 1.2640 - sparse_categorical_accuracy: 0.2750\n",
      "Epoch 12/32\n",
      "24/24 [==============================] - 0s 1ms/step - loss: 1.3278 - sparse_categorical_accuracy: 0.2167\n",
      "Epoch 13/32\n",
      "24/24 [==============================] - 0s 1ms/step - loss: 1.2788 - sparse_categorical_accuracy: 0.2167\n",
      "Epoch 14/32\n",
      "24/24 [==============================] - 0s 1ms/step - loss: 1.2259 - sparse_categorical_accuracy: 0.2500\n",
      "Epoch 15/32\n",
      "24/24 [==============================] - 0s 1ms/step - loss: 1.2936 - sparse_categorical_accuracy: 0.2833\n",
      "Epoch 16/32\n",
      "24/24 [==============================] - 0s 1ms/step - loss: 1.2913 - sparse_categorical_accuracy: 0.2667\n",
      "Epoch 17/32\n",
      "24/24 [==============================] - 0s 2ms/step - loss: 1.2891 - sparse_categorical_accuracy: 0.2667\n",
      "Epoch 18/32\n",
      "24/24 [==============================] - 0s 2ms/step - loss: 1.2408 - sparse_categorical_accuracy: 0.2167\n",
      "Epoch 19/32\n",
      "24/24 [==============================] - 0s 2ms/step - loss: 1.2139 - sparse_categorical_accuracy: 0.3250\n",
      "Epoch 20/32\n",
      "24/24 [==============================] - 0s 2ms/step - loss: 1.1777 - sparse_categorical_accuracy: 0.2917\n",
      "Epoch 21/32\n",
      "24/24 [==============================] - 0s 2ms/step - loss: 1.2182 - sparse_categorical_accuracy: 0.3083\n",
      "Epoch 22/32\n",
      "24/24 [==============================] - 0s 2ms/step - loss: 1.2552 - sparse_categorical_accuracy: 0.2167\n",
      "Epoch 23/32\n",
      "24/24 [==============================] - 0s 2ms/step - loss: 1.2289 - sparse_categorical_accuracy: 0.2750\n",
      "Epoch 24/32\n",
      "24/24 [==============================] - 0s 2ms/step - loss: 1.2292 - sparse_categorical_accuracy: 0.3083\n",
      "Epoch 25/32\n",
      "24/24 [==============================] - 0s 2ms/step - loss: 1.1777 - sparse_categorical_accuracy: 0.3333\n",
      "Epoch 26/32\n",
      "24/24 [==============================] - 0s 1ms/step - loss: 1.1992 - sparse_categorical_accuracy: 0.3167\n",
      "Epoch 27/32\n",
      "24/24 [==============================] - 0s 2ms/step - loss: 1.2162 - sparse_categorical_accuracy: 0.2833\n",
      "Epoch 28/32\n",
      "24/24 [==============================] - 0s 2ms/step - loss: 1.1932 - sparse_categorical_accuracy: 0.3250\n",
      "Epoch 29/32\n",
      "24/24 [==============================] - 0s 1ms/step - loss: 1.2178 - sparse_categorical_accuracy: 0.3417\n",
      "Epoch 30/32\n",
      "24/24 [==============================] - 0s 1ms/step - loss: 1.2485 - sparse_categorical_accuracy: 0.2583\n"
     ]
    },
    {
     "data": {
      "text/plain": [
       "<keras.src.callbacks.History at 0x7f529d78e890>"
      ]
     },
     "execution_count": 39,
     "metadata": {},
     "output_type": "execute_result"
    }
   ],
   "source": [
    "model = Model()\n",
    "model.compile(\n",
    "    optimizer = keras.optimizers.Adagrad(),\n",
    "    loss      = keras.losses.sparse_categorical_crossentropy,\n",
    "    metrics   = [keras.metrics.sparse_categorical_accuracy]\n",
    ")\n",
    "call = keras.callbacks.EarlyStopping(monitor='loss', patience=10)\n",
    "model.fit( xtrainF, ytrainF, epochs=32, batch_size=5, callbacks=[call])"
   ]
  },
  {
   "cell_type": "code",
   "execution_count": 40,
   "metadata": {},
   "outputs": [
    {
     "name": "stdout",
     "output_type": "stream",
     "text": [
      "1/1 [==============================] - 0s 133ms/step\n"
     ]
    }
   ],
   "source": [
    "pred = np.argmax(model.predict(xtestF),axis=-1)"
   ]
  },
  {
   "cell_type": "code",
   "execution_count": 41,
   "metadata": {},
   "outputs": [
    {
     "name": "stdout",
     "output_type": "stream",
     "text": [
      "              precision    recall  f1-score   support\n",
      "\n",
      "           0       0.19      0.30      0.23        10\n",
      "           1       0.33      0.11      0.17         9\n",
      "           2       0.27      0.27      0.27        11\n",
      "\n",
      "    accuracy                           0.23        30\n",
      "   macro avg       0.26      0.23      0.22        30\n",
      "weighted avg       0.26      0.23      0.23        30\n",
      "\n"
     ]
    }
   ],
   "source": [
    "print(classification_report(ytestF,pred))"
   ]
  },
  {
   "cell_type": "markdown",
   "metadata": {},
   "source": [
    "&nbsp;"
   ]
  },
  {
   "cell_type": "markdown",
   "metadata": {},
   "source": [
    "### Adam"
   ]
  },
  {
   "cell_type": "code",
   "execution_count": 47,
   "metadata": {},
   "outputs": [
    {
     "name": "stdout",
     "output_type": "stream",
     "text": [
      "Epoch 1/32\n",
      "24/24 [==============================] - 1s 2ms/step - loss: 1.6009 - sparse_categorical_accuracy: 0.2667\n",
      "Epoch 2/32\n",
      "24/24 [==============================] - 0s 2ms/step - loss: 1.4685 - sparse_categorical_accuracy: 0.2333\n",
      "Epoch 3/32\n",
      "24/24 [==============================] - 0s 2ms/step - loss: 1.2996 - sparse_categorical_accuracy: 0.2833\n",
      "Epoch 4/32\n",
      "24/24 [==============================] - 0s 2ms/step - loss: 1.2733 - sparse_categorical_accuracy: 0.3417\n",
      "Epoch 5/32\n",
      "24/24 [==============================] - 0s 2ms/step - loss: 1.2017 - sparse_categorical_accuracy: 0.3333\n",
      "Epoch 6/32\n",
      "24/24 [==============================] - 0s 3ms/step - loss: 1.0734 - sparse_categorical_accuracy: 0.4583\n",
      "Epoch 7/32\n",
      "24/24 [==============================] - 0s 2ms/step - loss: 1.0035 - sparse_categorical_accuracy: 0.5917\n",
      "Epoch 8/32\n",
      "24/24 [==============================] - 0s 2ms/step - loss: 0.9857 - sparse_categorical_accuracy: 0.5833\n",
      "Epoch 9/32\n",
      "24/24 [==============================] - 0s 2ms/step - loss: 0.9706 - sparse_categorical_accuracy: 0.6083\n",
      "Epoch 10/32\n",
      "24/24 [==============================] - 0s 2ms/step - loss: 0.9552 - sparse_categorical_accuracy: 0.6250\n",
      "Epoch 11/32\n",
      "24/24 [==============================] - 0s 2ms/step - loss: 0.9497 - sparse_categorical_accuracy: 0.6333\n",
      "Epoch 12/32\n",
      "24/24 [==============================] - 0s 2ms/step - loss: 0.8270 - sparse_categorical_accuracy: 0.6583\n",
      "Epoch 13/32\n",
      "24/24 [==============================] - 0s 2ms/step - loss: 0.8008 - sparse_categorical_accuracy: 0.6833\n",
      "Epoch 14/32\n",
      "24/24 [==============================] - 0s 2ms/step - loss: 0.9235 - sparse_categorical_accuracy: 0.6167\n",
      "Epoch 15/32\n",
      "24/24 [==============================] - 0s 2ms/step - loss: 0.8877 - sparse_categorical_accuracy: 0.6500\n",
      "Epoch 16/32\n",
      "24/24 [==============================] - 0s 2ms/step - loss: 0.8945 - sparse_categorical_accuracy: 0.6417\n",
      "Epoch 17/32\n",
      "24/24 [==============================] - 0s 2ms/step - loss: 0.7523 - sparse_categorical_accuracy: 0.7250\n",
      "Epoch 18/32\n",
      "24/24 [==============================] - 0s 2ms/step - loss: 0.7314 - sparse_categorical_accuracy: 0.7167\n",
      "Epoch 19/32\n",
      "24/24 [==============================] - 0s 2ms/step - loss: 0.7697 - sparse_categorical_accuracy: 0.7167\n",
      "Epoch 20/32\n",
      "24/24 [==============================] - 0s 2ms/step - loss: 0.7084 - sparse_categorical_accuracy: 0.7417\n",
      "Epoch 21/32\n",
      "24/24 [==============================] - 0s 2ms/step - loss: 0.7871 - sparse_categorical_accuracy: 0.7000\n",
      "Epoch 22/32\n",
      "24/24 [==============================] - 0s 2ms/step - loss: 0.6465 - sparse_categorical_accuracy: 0.8083\n",
      "Epoch 23/32\n",
      "24/24 [==============================] - 0s 2ms/step - loss: 0.7297 - sparse_categorical_accuracy: 0.7250\n",
      "Epoch 24/32\n",
      "24/24 [==============================] - 0s 3ms/step - loss: 0.7006 - sparse_categorical_accuracy: 0.7583\n",
      "Epoch 25/32\n",
      "24/24 [==============================] - 0s 3ms/step - loss: 0.7330 - sparse_categorical_accuracy: 0.7500\n",
      "Epoch 26/32\n",
      "24/24 [==============================] - 0s 2ms/step - loss: 0.6693 - sparse_categorical_accuracy: 0.7500\n",
      "Epoch 27/32\n",
      "24/24 [==============================] - 0s 2ms/step - loss: 0.6670 - sparse_categorical_accuracy: 0.7667\n",
      "Epoch 28/32\n",
      "24/24 [==============================] - 0s 2ms/step - loss: 0.7180 - sparse_categorical_accuracy: 0.7333\n",
      "Epoch 29/32\n",
      "24/24 [==============================] - 0s 2ms/step - loss: 0.5963 - sparse_categorical_accuracy: 0.7917\n",
      "Epoch 30/32\n",
      "24/24 [==============================] - 0s 2ms/step - loss: 0.7330 - sparse_categorical_accuracy: 0.7583\n",
      "Epoch 31/32\n",
      "24/24 [==============================] - 0s 2ms/step - loss: 0.6792 - sparse_categorical_accuracy: 0.7750\n",
      "Epoch 32/32\n",
      "24/24 [==============================] - 0s 2ms/step - loss: 0.6425 - sparse_categorical_accuracy: 0.8000\n"
     ]
    },
    {
     "data": {
      "text/plain": [
       "<keras.src.callbacks.History at 0x7f52ac7aa850>"
      ]
     },
     "execution_count": 47,
     "metadata": {},
     "output_type": "execute_result"
    }
   ],
   "source": [
    "model = Model()\n",
    "model.compile(\n",
    "    optimizer = keras.optimizers.Adam(learning_rate=0.001, beta_1=0.9, beta_2=0.999),\n",
    "    loss      = keras.losses.sparse_categorical_crossentropy,\n",
    "    metrics   = [keras.metrics.sparse_categorical_accuracy]\n",
    ")\n",
    "call = keras.callbacks.EarlyStopping(monitor='loss', patience=10)\n",
    "model.fit( xtrainF, ytrainF, epochs=32, batch_size=5, callbacks=[call])"
   ]
  },
  {
   "cell_type": "code",
   "execution_count": 48,
   "metadata": {},
   "outputs": [
    {
     "name": "stdout",
     "output_type": "stream",
     "text": [
      "1/1 [==============================] - 0s 152ms/step\n"
     ]
    }
   ],
   "source": [
    "pred = np.argmax(model.predict(xtestF),axis=-1)"
   ]
  },
  {
   "cell_type": "code",
   "execution_count": 49,
   "metadata": {},
   "outputs": [
    {
     "name": "stdout",
     "output_type": "stream",
     "text": [
      "              precision    recall  f1-score   support\n",
      "\n",
      "           0       1.00      1.00      1.00        10\n",
      "           1       1.00      1.00      1.00         9\n",
      "           2       1.00      1.00      1.00        11\n",
      "\n",
      "    accuracy                           1.00        30\n",
      "   macro avg       1.00      1.00      1.00        30\n",
      "weighted avg       1.00      1.00      1.00        30\n",
      "\n"
     ]
    }
   ],
   "source": [
    "print(classification_report(ytestF,pred))"
   ]
  },
  {
   "cell_type": "code",
   "execution_count": 51,
   "metadata": {},
   "outputs": [
    {
     "data": {
      "text/plain": [
       "1e-07"
      ]
     },
     "execution_count": 51,
     "metadata": {},
     "output_type": "execute_result"
    }
   ],
   "source": [
    "keras.backend.epsilon()"
   ]
  },
  {
   "cell_type": "markdown",
   "metadata": {},
   "source": [
    "### Nadam"
   ]
  },
  {
   "cell_type": "code",
   "execution_count": 53,
   "metadata": {},
   "outputs": [
    {
     "name": "stdout",
     "output_type": "stream",
     "text": [
      "Epoch 1/32\n",
      "24/24 [==============================] - 2s 2ms/step - loss: 1.0133 - sparse_categorical_accuracy: 0.4667\n",
      "Epoch 2/32\n",
      "24/24 [==============================] - 0s 2ms/step - loss: 0.8998 - sparse_categorical_accuracy: 0.5667\n",
      "Epoch 3/32\n",
      "24/24 [==============================] - 0s 2ms/step - loss: 0.8243 - sparse_categorical_accuracy: 0.6167\n",
      "Epoch 4/32\n",
      "24/24 [==============================] - 0s 2ms/step - loss: 0.8473 - sparse_categorical_accuracy: 0.6167\n",
      "Epoch 5/32\n",
      "24/24 [==============================] - 0s 2ms/step - loss: 0.8131 - sparse_categorical_accuracy: 0.6083\n",
      "Epoch 6/32\n",
      "24/24 [==============================] - 0s 2ms/step - loss: 0.8198 - sparse_categorical_accuracy: 0.6167\n",
      "Epoch 7/32\n",
      "24/24 [==============================] - 0s 2ms/step - loss: 0.7364 - sparse_categorical_accuracy: 0.6500\n",
      "Epoch 8/32\n",
      "24/24 [==============================] - 0s 2ms/step - loss: 0.7465 - sparse_categorical_accuracy: 0.6417\n",
      "Epoch 9/32\n",
      "24/24 [==============================] - 0s 2ms/step - loss: 0.7201 - sparse_categorical_accuracy: 0.7167\n",
      "Epoch 10/32\n",
      "24/24 [==============================] - 0s 2ms/step - loss: 0.7343 - sparse_categorical_accuracy: 0.6750\n",
      "Epoch 11/32\n",
      "24/24 [==============================] - 0s 2ms/step - loss: 0.6908 - sparse_categorical_accuracy: 0.6917\n",
      "Epoch 12/32\n",
      "24/24 [==============================] - 0s 2ms/step - loss: 0.6843 - sparse_categorical_accuracy: 0.7000\n",
      "Epoch 13/32\n",
      "24/24 [==============================] - 0s 3ms/step - loss: 0.7047 - sparse_categorical_accuracy: 0.6833\n",
      "Epoch 14/32\n",
      "24/24 [==============================] - 0s 2ms/step - loss: 0.7061 - sparse_categorical_accuracy: 0.6917\n",
      "Epoch 15/32\n",
      "24/24 [==============================] - 0s 2ms/step - loss: 0.7205 - sparse_categorical_accuracy: 0.6667\n",
      "Epoch 16/32\n",
      "24/24 [==============================] - 0s 2ms/step - loss: 0.6276 - sparse_categorical_accuracy: 0.7500\n",
      "Epoch 17/32\n",
      "24/24 [==============================] - 0s 2ms/step - loss: 0.5766 - sparse_categorical_accuracy: 0.8000\n",
      "Epoch 18/32\n",
      "24/24 [==============================] - 0s 2ms/step - loss: 0.6198 - sparse_categorical_accuracy: 0.7000\n",
      "Epoch 19/32\n",
      "24/24 [==============================] - 0s 2ms/step - loss: 0.6970 - sparse_categorical_accuracy: 0.7000\n",
      "Epoch 20/32\n",
      "24/24 [==============================] - 0s 2ms/step - loss: 0.6294 - sparse_categorical_accuracy: 0.6833\n",
      "Epoch 21/32\n",
      "24/24 [==============================] - 0s 3ms/step - loss: 0.6312 - sparse_categorical_accuracy: 0.7250\n",
      "Epoch 22/32\n",
      "24/24 [==============================] - 0s 3ms/step - loss: 0.5961 - sparse_categorical_accuracy: 0.7750\n",
      "Epoch 23/32\n",
      "24/24 [==============================] - 0s 5ms/step - loss: 0.6410 - sparse_categorical_accuracy: 0.7417\n",
      "Epoch 24/32\n",
      "24/24 [==============================] - 0s 2ms/step - loss: 0.5909 - sparse_categorical_accuracy: 0.7667\n",
      "Epoch 25/32\n",
      "24/24 [==============================] - 0s 2ms/step - loss: 0.6554 - sparse_categorical_accuracy: 0.7000\n",
      "Epoch 26/32\n",
      "24/24 [==============================] - 0s 2ms/step - loss: 0.6089 - sparse_categorical_accuracy: 0.7833\n",
      "Epoch 27/32\n",
      "24/24 [==============================] - 0s 2ms/step - loss: 0.5308 - sparse_categorical_accuracy: 0.7917\n",
      "Epoch 28/32\n",
      "24/24 [==============================] - 0s 2ms/step - loss: 0.5548 - sparse_categorical_accuracy: 0.7500\n",
      "Epoch 29/32\n",
      "24/24 [==============================] - 0s 2ms/step - loss: 0.5648 - sparse_categorical_accuracy: 0.7833\n",
      "Epoch 30/32\n",
      "24/24 [==============================] - 0s 2ms/step - loss: 0.5650 - sparse_categorical_accuracy: 0.7833\n",
      "Epoch 31/32\n",
      "24/24 [==============================] - 0s 2ms/step - loss: 0.5046 - sparse_categorical_accuracy: 0.7917\n",
      "Epoch 32/32\n",
      "24/24 [==============================] - 0s 2ms/step - loss: 0.5522 - sparse_categorical_accuracy: 0.7917\n"
     ]
    },
    {
     "data": {
      "text/plain": [
       "<keras.src.callbacks.History at 0x7f52a4d149d0>"
      ]
     },
     "execution_count": 53,
     "metadata": {},
     "output_type": "execute_result"
    }
   ],
   "source": [
    "model = Model()\n",
    "model.compile(\n",
    "    optimizer = keras.optimizers.Nadam(learning_rate=0.001, beta_1=0.9, beta_2=0.999),\n",
    "    loss      = keras.losses.sparse_categorical_crossentropy,\n",
    "    metrics   = [keras.metrics.sparse_categorical_accuracy]\n",
    ")\n",
    "call = keras.callbacks.EarlyStopping(monitor='loss', patience=10)\n",
    "model.fit( xtrainF, ytrainF, epochs=32, batch_size=5, callbacks=[call])"
   ]
  },
  {
   "cell_type": "code",
   "execution_count": 55,
   "metadata": {},
   "outputs": [
    {
     "name": "stdout",
     "output_type": "stream",
     "text": [
      "1/1 [==============================] - 0s 127ms/step\n"
     ]
    }
   ],
   "source": [
    "pred = np.argmax(model.predict(xtestF),axis=-1)"
   ]
  },
  {
   "cell_type": "code",
   "execution_count": 56,
   "metadata": {},
   "outputs": [
    {
     "name": "stdout",
     "output_type": "stream",
     "text": [
      "              precision    recall  f1-score   support\n",
      "\n",
      "           0       1.00      1.00      1.00        10\n",
      "           1       1.00      0.89      0.94         9\n",
      "           2       0.92      1.00      0.96        11\n",
      "\n",
      "    accuracy                           0.97        30\n",
      "   macro avg       0.97      0.96      0.97        30\n",
      "weighted avg       0.97      0.97      0.97        30\n",
      "\n"
     ]
    }
   ],
   "source": [
    "print(classification_report(ytestF,pred))"
   ]
  }
 ],
 "metadata": {
  "kernelspec": {
   "display_name": "venvGlobal",
   "language": "python",
   "name": "python3"
  },
  "language_info": {
   "codemirror_mode": {
    "name": "ipython",
    "version": 3
   },
   "file_extension": ".py",
   "mimetype": "text/x-python",
   "name": "python",
   "nbconvert_exporter": "python",
   "pygments_lexer": "ipython3",
   "version": "3.11.8"
  }
 },
 "nbformat": 4,
 "nbformat_minor": 2
}
