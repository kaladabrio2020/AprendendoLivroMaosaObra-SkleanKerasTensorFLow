{
 "cells": [
  {
   "cell_type": "code",
   "execution_count": 4,
   "metadata": {},
   "outputs": [
    {
     "name": "stderr",
     "output_type": "stream",
     "text": [
      "2024-03-24 12:02:08.312367: I external/local_tsl/tsl/cuda/cudart_stub.cc:31] Could not find cuda drivers on your machine, GPU will not be used.\n",
      "2024-03-24 12:02:08.365124: E external/local_xla/xla/stream_executor/cuda/cuda_dnn.cc:9261] Unable to register cuDNN factory: Attempting to register factory for plugin cuDNN when one has already been registered\n",
      "2024-03-24 12:02:08.365163: E external/local_xla/xla/stream_executor/cuda/cuda_fft.cc:607] Unable to register cuFFT factory: Attempting to register factory for plugin cuFFT when one has already been registered\n",
      "2024-03-24 12:02:08.366947: E external/local_xla/xla/stream_executor/cuda/cuda_blas.cc:1515] Unable to register cuBLAS factory: Attempting to register factory for plugin cuBLAS when one has already been registered\n",
      "2024-03-24 12:02:08.375768: I external/local_tsl/tsl/cuda/cudart_stub.cc:31] Could not find cuda drivers on your machine, GPU will not be used.\n",
      "2024-03-24 12:02:08.376156: I tensorflow/core/platform/cpu_feature_guard.cc:182] This TensorFlow binary is optimized to use available CPU instructions in performance-critical operations.\n",
      "To enable the following instructions: AVX2 FMA, in other operations, rebuild TensorFlow with the appropriate compiler flags.\n",
      "2024-03-24 12:02:09.633396: W tensorflow/compiler/tf2tensorrt/utils/py_utils.cc:38] TF-TRT Warning: Could not find TensorRT\n"
     ]
    }
   ],
   "source": [
    "import keras\n",
    "import numpy as np\n",
    "from sklearn.metrics import classification_report\n",
    "from sklearn.datasets import load_iris\n",
    "from sklearn.utils.class_weight import compute_class_weight\n",
    "from sklearn.model_selection import train_test_split\n",
    "from sklearn.preprocessing   import StandardScaler"
   ]
  },
  {
   "cell_type": "code",
   "execution_count": 5,
   "metadata": {},
   "outputs": [
    {
     "data": {
      "text/plain": [
       "(120, 4)"
      ]
     },
     "execution_count": 5,
     "metadata": {},
     "output_type": "execute_result"
    }
   ],
   "source": [
    "X, y = load_iris(return_X_y=True)\n",
    "xtrainF, xtestF, ytrainF, ytestF = train_test_split(X, y, random_state=42 ,test_size=0.20)\n",
    "xtrainF.shape"
   ]
  },
  {
   "cell_type": "code",
   "execution_count": 6,
   "metadata": {},
   "outputs": [],
   "source": [
    "pesos = compute_class_weight(class_weight='balanced',classes=np.unique(ytrainF),y=ytrainF)\n",
    "pesos = {\n",
    "    0:pesos[0],\n",
    "    1:pesos[1]\n",
    "}"
   ]
  },
  {
   "cell_type": "code",
   "execution_count": 7,
   "metadata": {},
   "outputs": [],
   "source": [
    "def Model():\n",
    "    initalizaer = keras.initializers.VarianceScaling(scale=2., mode='fan_in', distribution='normal',seed=32)\n",
    "\n",
    "    model = keras.models.Sequential(\n",
    "        layers = [\n",
    "            keras.layers.BatchNormalization(),\n",
    "            keras.layers.Dense(8, activation=keras.activations.relu, kernel_initializer=initalizaer),\n",
    "            keras.layers.BatchNormalization(),\n",
    "            keras.layers.Dense(4, activation=keras.activations.relu, kernel_initializer=initalizaer),\n",
    "            keras.layers.BatchNormalization(),\n",
    "            keras.layers.Dense(3, activation=keras.activations.softmax)\n",
    "        ]\n",
    "    )\n",
    "    return model"
   ]
  },
  {
   "cell_type": "markdown",
   "metadata": {},
   "source": [
    "## Momentum"
   ]
  },
  {
   "cell_type": "code",
   "execution_count": 8,
   "metadata": {},
   "outputs": [
    {
     "name": "stdout",
     "output_type": "stream",
     "text": [
      "Epoch 1/32\n",
      "24/24 [==============================] - 1s 2ms/step - loss: 1.3691 - sparse_categorical_accuracy: 0.2583\n",
      "Epoch 2/32\n",
      "24/24 [==============================] - 0s 2ms/step - loss: 1.0282 - sparse_categorical_accuracy: 0.4583\n",
      "Epoch 3/32\n",
      "24/24 [==============================] - 0s 2ms/step - loss: 0.9466 - sparse_categorical_accuracy: 0.5667\n",
      "Epoch 4/32\n",
      "24/24 [==============================] - 0s 2ms/step - loss: 0.8897 - sparse_categorical_accuracy: 0.6083\n",
      "Epoch 5/32\n",
      "24/24 [==============================] - 0s 2ms/step - loss: 0.8850 - sparse_categorical_accuracy: 0.6417\n",
      "Epoch 6/32\n",
      "24/24 [==============================] - 0s 1ms/step - loss: 0.8456 - sparse_categorical_accuracy: 0.6583\n",
      "Epoch 7/32\n",
      "24/24 [==============================] - 0s 1ms/step - loss: 0.7799 - sparse_categorical_accuracy: 0.6833\n",
      "Epoch 8/32\n",
      "24/24 [==============================] - 0s 2ms/step - loss: 0.7680 - sparse_categorical_accuracy: 0.6833\n",
      "Epoch 9/32\n",
      "24/24 [==============================] - 0s 2ms/step - loss: 0.6881 - sparse_categorical_accuracy: 0.6917\n",
      "Epoch 10/32\n",
      "24/24 [==============================] - 0s 2ms/step - loss: 0.6541 - sparse_categorical_accuracy: 0.7500\n",
      "Epoch 11/32\n",
      "24/24 [==============================] - 0s 2ms/step - loss: 0.6575 - sparse_categorical_accuracy: 0.7250\n",
      "Epoch 12/32\n",
      "24/24 [==============================] - 0s 2ms/step - loss: 0.6812 - sparse_categorical_accuracy: 0.7333\n",
      "Epoch 13/32\n",
      "24/24 [==============================] - 0s 2ms/step - loss: 0.5814 - sparse_categorical_accuracy: 0.8167\n",
      "Epoch 14/32\n",
      "24/24 [==============================] - 0s 2ms/step - loss: 0.6896 - sparse_categorical_accuracy: 0.7750\n",
      "Epoch 15/32\n",
      "24/24 [==============================] - 0s 2ms/step - loss: 0.6402 - sparse_categorical_accuracy: 0.7250\n",
      "Epoch 16/32\n",
      "24/24 [==============================] - 0s 3ms/step - loss: 0.5632 - sparse_categorical_accuracy: 0.8417\n",
      "Epoch 17/32\n",
      "24/24 [==============================] - 0s 2ms/step - loss: 0.5287 - sparse_categorical_accuracy: 0.8250\n",
      "Epoch 18/32\n",
      "24/24 [==============================] - 0s 2ms/step - loss: 0.5688 - sparse_categorical_accuracy: 0.8083\n",
      "Epoch 19/32\n",
      "24/24 [==============================] - 0s 2ms/step - loss: 0.6671 - sparse_categorical_accuracy: 0.7333\n",
      "Epoch 20/32\n",
      "24/24 [==============================] - 0s 2ms/step - loss: 0.5075 - sparse_categorical_accuracy: 0.8417\n",
      "Epoch 21/32\n",
      "24/24 [==============================] - 0s 2ms/step - loss: 0.5809 - sparse_categorical_accuracy: 0.7750\n",
      "Epoch 22/32\n",
      "24/24 [==============================] - 0s 2ms/step - loss: 0.6383 - sparse_categorical_accuracy: 0.7167\n",
      "Epoch 23/32\n",
      "24/24 [==============================] - 0s 2ms/step - loss: 0.5518 - sparse_categorical_accuracy: 0.7750\n",
      "Epoch 24/32\n",
      "24/24 [==============================] - 0s 2ms/step - loss: 0.5703 - sparse_categorical_accuracy: 0.7833\n",
      "Epoch 25/32\n",
      "24/24 [==============================] - 0s 2ms/step - loss: 0.4555 - sparse_categorical_accuracy: 0.8583\n",
      "Epoch 26/32\n",
      "24/24 [==============================] - 0s 2ms/step - loss: 0.4924 - sparse_categorical_accuracy: 0.8250\n",
      "Epoch 27/32\n",
      "24/24 [==============================] - 0s 2ms/step - loss: 0.5910 - sparse_categorical_accuracy: 0.7083\n",
      "Epoch 28/32\n",
      "24/24 [==============================] - 0s 2ms/step - loss: 0.4791 - sparse_categorical_accuracy: 0.8167\n",
      "Epoch 29/32\n",
      "24/24 [==============================] - 0s 3ms/step - loss: 0.4804 - sparse_categorical_accuracy: 0.8000\n",
      "Epoch 30/32\n",
      "24/24 [==============================] - 0s 2ms/step - loss: 0.5932 - sparse_categorical_accuracy: 0.7833\n"
     ]
    },
    {
     "data": {
      "text/plain": [
       "<keras.src.callbacks.History at 0x7f52add379d0>"
      ]
     },
     "execution_count": 8,
     "metadata": {},
     "output_type": "execute_result"
    }
   ],
   "source": [
    "model = Model()\n",
    "model.compile(\n",
    "    optimizer = keras.optimizers.SGD(learning_rate=0.001,momentum=0.9),\n",
    "    loss      = keras.losses.sparse_categorical_crossentropy,\n",
    "    metrics   = [keras.metrics.sparse_categorical_accuracy]\n",
    ")\n",
    "call = keras.callbacks.EarlyStopping(monitor='loss', patience=5)\n",
    "model.fit( xtrainF, ytrainF, epochs=32, batch_size=5, callbacks=[call])"
   ]
  },
  {
   "cell_type": "code",
   "execution_count": 9,
   "metadata": {},
   "outputs": [
    {
     "name": "stdout",
     "output_type": "stream",
     "text": [
      "1/1 [==============================] - 0s 235ms/step\n"
     ]
    }
   ],
   "source": [
    "pred = np.argmax(model.predict(xtestF),axis=-1)"
   ]
  },
  {
   "cell_type": "code",
   "execution_count": 10,
   "metadata": {},
   "outputs": [
    {
     "name": "stdout",
     "output_type": "stream",
     "text": [
      "              precision    recall  f1-score   support\n",
      "\n",
      "           0       1.00      1.00      1.00        10\n",
      "           1       0.90      1.00      0.95         9\n",
      "           2       1.00      0.91      0.95        11\n",
      "\n",
      "    accuracy                           0.97        30\n",
      "   macro avg       0.97      0.97      0.97        30\n",
      "weighted avg       0.97      0.97      0.97        30\n",
      "\n"
     ]
    }
   ],
   "source": [
    "print(classification_report(ytestF,pred))"
   ]
  },
  {
   "cell_type": "code",
   "execution_count": 11,
   "metadata": {},
   "outputs": [
    {
     "data": {
      "text/plain": [
       "<keras.src.callbacks.History at 0x7f52ac1f3750>"
      ]
     },
     "execution_count": 11,
     "metadata": {},
     "output_type": "execute_result"
    }
   ],
   "source": [
    "model.save('model/Model_iris0.keras')\n",
    "model = keras.models.load_model('model/Model_iris0.keras')\n",
    "model.fit( xtrainF, ytrainF, epochs=32, batch_size=5, verbose=0)"
   ]
  },
  {
   "cell_type": "code",
   "execution_count": 12,
   "metadata": {},
   "outputs": [
    {
     "name": "stdout",
     "output_type": "stream",
     "text": [
      "1/1 [==============================] - 0s 85ms/step\n"
     ]
    }
   ],
   "source": [
    "pred = np.argmax(model.predict(xtestF),axis=-1)"
   ]
  },
  {
   "cell_type": "code",
   "execution_count": 13,
   "metadata": {},
   "outputs": [
    {
     "name": "stdout",
     "output_type": "stream",
     "text": [
      "              precision    recall  f1-score   support\n",
      "\n",
      "           0       1.00      1.00      1.00        10\n",
      "           1       1.00      1.00      1.00         9\n",
      "           2       1.00      1.00      1.00        11\n",
      "\n",
      "    accuracy                           1.00        30\n",
      "   macro avg       1.00      1.00      1.00        30\n",
      "weighted avg       1.00      1.00      1.00        30\n",
      "\n"
     ]
    }
   ],
   "source": [
    "print(classification_report(ytestF,pred))"
   ]
  },
  {
   "cell_type": "markdown",
   "metadata": {},
   "source": [
    "&nbsp;"
   ]
  },
  {
   "cell_type": "markdown",
   "metadata": {},
   "source": [
    "## Nesterov"
   ]
  },
  {
   "cell_type": "code",
   "execution_count": 14,
   "metadata": {},
   "outputs": [
    {
     "name": "stdout",
     "output_type": "stream",
     "text": [
      "Epoch 1/32\n",
      "24/24 [==============================] - 1s 2ms/step - loss: 1.5362 - sparse_categorical_accuracy: 0.3167 \n",
      "Epoch 2/32\n",
      "24/24 [==============================] - 0s 2ms/step - loss: 0.8885 - sparse_categorical_accuracy: 0.5917\n",
      "Epoch 3/32\n",
      "24/24 [==============================] - 0s 2ms/step - loss: 0.8036 - sparse_categorical_accuracy: 0.6250\n",
      "Epoch 4/32\n",
      "24/24 [==============================] - 0s 2ms/step - loss: 0.7580 - sparse_categorical_accuracy: 0.6500\n",
      "Epoch 5/32\n",
      "24/24 [==============================] - 0s 2ms/step - loss: 0.7217 - sparse_categorical_accuracy: 0.7083\n",
      "Epoch 6/32\n",
      "24/24 [==============================] - 0s 2ms/step - loss: 0.7457 - sparse_categorical_accuracy: 0.6833\n",
      "Epoch 7/32\n",
      "24/24 [==============================] - 0s 5ms/step - loss: 0.6594 - sparse_categorical_accuracy: 0.7583\n",
      "Epoch 8/32\n",
      "24/24 [==============================] - 0s 1ms/step - loss: 0.7585 - sparse_categorical_accuracy: 0.6750\n",
      "Epoch 9/32\n",
      "24/24 [==============================] - 0s 1ms/step - loss: 0.5841 - sparse_categorical_accuracy: 0.7583\n",
      "Epoch 10/32\n",
      "24/24 [==============================] - 0s 1ms/step - loss: 0.5676 - sparse_categorical_accuracy: 0.7917\n",
      "Epoch 11/32\n",
      "24/24 [==============================] - 0s 1ms/step - loss: 0.7139 - sparse_categorical_accuracy: 0.7167\n",
      "Epoch 12/32\n",
      "24/24 [==============================] - 0s 2ms/step - loss: 0.6988 - sparse_categorical_accuracy: 0.7167\n",
      "Epoch 13/32\n",
      "24/24 [==============================] - 0s 2ms/step - loss: 0.6565 - sparse_categorical_accuracy: 0.7750\n",
      "Epoch 14/32\n",
      "24/24 [==============================] - 0s 2ms/step - loss: 0.5769 - sparse_categorical_accuracy: 0.7500\n",
      "Epoch 15/32\n",
      "24/24 [==============================] - 0s 2ms/step - loss: 0.5702 - sparse_categorical_accuracy: 0.7583\n"
     ]
    },
    {
     "data": {
      "text/plain": [
       "<keras.src.callbacks.History at 0x7f52ac190b10>"
      ]
     },
     "execution_count": 14,
     "metadata": {},
     "output_type": "execute_result"
    }
   ],
   "source": [
    "model = Model()\n",
    "model.compile(\n",
    "    optimizer = keras.optimizers.SGD(learning_rate=0.001,momentum=0.9, nesterov=True),\n",
    "    loss      = keras.losses.sparse_categorical_crossentropy,\n",
    "    metrics   = [keras.metrics.sparse_categorical_accuracy]\n",
    ")\n",
    "call = keras.callbacks.EarlyStopping(monitor='loss', patience=5)\n",
    "model.fit( xtrainF, ytrainF, epochs=32, batch_size=5, callbacks=[call])"
   ]
  },
  {
   "cell_type": "code",
   "execution_count": 16,
   "metadata": {},
   "outputs": [
    {
     "name": "stdout",
     "output_type": "stream",
     "text": [
      "1/1 [==============================] - 0s 130ms/step\n"
     ]
    }
   ],
   "source": [
    "pred = np.argmax(model.predict(xtestF),axis=-1)"
   ]
  },
  {
   "cell_type": "code",
   "execution_count": 17,
   "metadata": {},
   "outputs": [
    {
     "name": "stdout",
     "output_type": "stream",
     "text": [
      "              precision    recall  f1-score   support\n",
      "\n",
      "           0       1.00      1.00      1.00        10\n",
      "           1       1.00      0.89      0.94         9\n",
      "           2       0.92      1.00      0.96        11\n",
      "\n",
      "    accuracy                           0.97        30\n",
      "   macro avg       0.97      0.96      0.97        30\n",
      "weighted avg       0.97      0.97      0.97        30\n",
      "\n"
     ]
    }
   ],
   "source": [
    "print(classification_report(ytestF,pred))"
   ]
  },
  {
   "cell_type": "markdown",
   "metadata": {},
   "source": [
    "### Adagrad"
   ]
  },
  {
   "cell_type": "code",
   "execution_count": 19,
   "metadata": {},
   "outputs": [
    {
     "name": "stdout",
     "output_type": "stream",
     "text": [
      "Epoch 1/32\n"
     ]
    },
    {
     "name": "stdout",
     "output_type": "stream",
     "text": [
      "24/24 [==============================] - 1s 2ms/step - loss: 1.5334 - sparse_categorical_accuracy: 0.2917\n",
      "Epoch 2/32\n",
      "24/24 [==============================] - 0s 2ms/step - loss: 1.4777 - sparse_categorical_accuracy: 0.3333\n",
      "Epoch 3/32\n",
      "24/24 [==============================] - 0s 2ms/step - loss: 1.5179 - sparse_categorical_accuracy: 0.2917\n",
      "Epoch 4/32\n",
      "24/24 [==============================] - 0s 2ms/step - loss: 1.5077 - sparse_categorical_accuracy: 0.2750\n",
      "Epoch 5/32\n",
      "24/24 [==============================] - 0s 2ms/step - loss: 1.4288 - sparse_categorical_accuracy: 0.2667\n",
      "Epoch 6/32\n",
      "24/24 [==============================] - 0s 3ms/step - loss: 1.4018 - sparse_categorical_accuracy: 0.3333\n",
      "Epoch 7/32\n",
      "24/24 [==============================] - 0s 3ms/step - loss: 1.3895 - sparse_categorical_accuracy: 0.3583\n",
      "Epoch 8/32\n",
      "24/24 [==============================] - 0s 2ms/step - loss: 1.4158 - sparse_categorical_accuracy: 0.3083\n",
      "Epoch 9/32\n",
      "24/24 [==============================] - 0s 2ms/step - loss: 1.4980 - sparse_categorical_accuracy: 0.3000\n",
      "Epoch 10/32\n",
      "24/24 [==============================] - 0s 2ms/step - loss: 1.4087 - sparse_categorical_accuracy: 0.3167\n",
      "Epoch 11/32\n",
      "24/24 [==============================] - 0s 2ms/step - loss: 1.4670 - sparse_categorical_accuracy: 0.2667\n",
      "Epoch 12/32\n",
      "24/24 [==============================] - 0s 2ms/step - loss: 1.4134 - sparse_categorical_accuracy: 0.3167\n",
      "Epoch 13/32\n",
      "24/24 [==============================] - 0s 2ms/step - loss: 1.3015 - sparse_categorical_accuracy: 0.3750\n",
      "Epoch 14/32\n",
      "24/24 [==============================] - 0s 2ms/step - loss: 1.3801 - sparse_categorical_accuracy: 0.3000\n",
      "Epoch 15/32\n",
      "24/24 [==============================] - 0s 2ms/step - loss: 1.3598 - sparse_categorical_accuracy: 0.3417\n",
      "Epoch 16/32\n",
      "24/24 [==============================] - 0s 2ms/step - loss: 1.4473 - sparse_categorical_accuracy: 0.2917\n",
      "Epoch 17/32\n",
      "24/24 [==============================] - 0s 2ms/step - loss: 1.4018 - sparse_categorical_accuracy: 0.3250\n",
      "Epoch 18/32\n",
      "24/24 [==============================] - 0s 2ms/step - loss: 1.3067 - sparse_categorical_accuracy: 0.3583\n",
      "Epoch 19/32\n",
      "24/24 [==============================] - 0s 2ms/step - loss: 1.3176 - sparse_categorical_accuracy: 0.3667\n",
      "Epoch 20/32\n",
      "24/24 [==============================] - 0s 2ms/step - loss: 1.3137 - sparse_categorical_accuracy: 0.3833\n",
      "Epoch 21/32\n",
      "24/24 [==============================] - 0s 2ms/step - loss: 1.2122 - sparse_categorical_accuracy: 0.4333\n",
      "Epoch 22/32\n",
      "24/24 [==============================] - 0s 2ms/step - loss: 1.3080 - sparse_categorical_accuracy: 0.3083\n",
      "Epoch 23/32\n",
      "24/24 [==============================] - 0s 2ms/step - loss: 1.3497 - sparse_categorical_accuracy: 0.3250\n",
      "Epoch 24/32\n",
      "24/24 [==============================] - 0s 2ms/step - loss: 1.3085 - sparse_categorical_accuracy: 0.3500\n",
      "Epoch 25/32\n",
      "24/24 [==============================] - 0s 2ms/step - loss: 1.3940 - sparse_categorical_accuracy: 0.3333\n",
      "Epoch 26/32\n",
      "24/24 [==============================] - 0s 2ms/step - loss: 1.3875 - sparse_categorical_accuracy: 0.3333\n",
      "Epoch 27/32\n",
      "24/24 [==============================] - 0s 2ms/step - loss: 1.2799 - sparse_categorical_accuracy: 0.3750\n",
      "Epoch 28/32\n",
      "24/24 [==============================] - 0s 2ms/step - loss: 1.1490 - sparse_categorical_accuracy: 0.4417\n",
      "Epoch 29/32\n",
      "24/24 [==============================] - 0s 2ms/step - loss: 1.2659 - sparse_categorical_accuracy: 0.3333\n",
      "Epoch 30/32\n",
      "24/24 [==============================] - 0s 2ms/step - loss: 1.2260 - sparse_categorical_accuracy: 0.3917\n",
      "Epoch 31/32\n",
      "24/24 [==============================] - 0s 2ms/step - loss: 1.3257 - sparse_categorical_accuracy: 0.3417\n",
      "Epoch 32/32\n",
      "24/24 [==============================] - 0s 4ms/step - loss: 1.2853 - sparse_categorical_accuracy: 0.3333\n"
     ]
    },
    {
     "data": {
      "text/plain": [
       "<keras.src.callbacks.History at 0x7f52a57c55d0>"
      ]
     },
     "execution_count": 19,
     "metadata": {},
     "output_type": "execute_result"
    }
   ],
   "source": [
    "model = Model()\n",
    "model.compile(\n",
    "    optimizer = keras.optimizers.Adagrad(),\n",
    "    loss      = keras.losses.sparse_categorical_crossentropy,\n",
    "    metrics   = [keras.metrics.sparse_categorical_accuracy]\n",
    ")\n",
    "call = keras.callbacks.EarlyStopping(monitor='loss', patience=10)\n",
    "model.fit( xtrainF, ytrainF, epochs=32, batch_size=5, callbacks=[call])"
   ]
  },
  {
   "cell_type": "code",
   "execution_count": 20,
   "metadata": {},
   "outputs": [
    {
     "name": "stdout",
     "output_type": "stream",
     "text": [
      "1/1 [==============================] - 0s 165ms/step\n"
     ]
    }
   ],
   "source": [
    "pred = np.argmax(model.predict(xtestF),axis=-1)"
   ]
  },
  {
   "cell_type": "code",
   "execution_count": 21,
   "metadata": {},
   "outputs": [
    {
     "name": "stdout",
     "output_type": "stream",
     "text": [
      "              precision    recall  f1-score   support\n",
      "\n",
      "           0       0.33      0.10      0.15        10\n",
      "           1       0.17      0.11      0.13         9\n",
      "           2       0.38      0.73      0.50        11\n",
      "\n",
      "    accuracy                           0.33        30\n",
      "   macro avg       0.29      0.31      0.26        30\n",
      "weighted avg       0.30      0.33      0.27        30\n",
      "\n"
     ]
    }
   ],
   "source": [
    "print(classification_report(ytestF,pred))"
   ]
  },
  {
   "cell_type": "markdown",
   "metadata": {},
   "source": [
    "&nbsp;"
   ]
  },
  {
   "cell_type": "markdown",
   "metadata": {},
   "source": [
    "### Adaline"
   ]
  }
 ],
 "metadata": {
  "kernelspec": {
   "display_name": "venvGlobal",
   "language": "python",
   "name": "python3"
  },
  "language_info": {
   "codemirror_mode": {
    "name": "ipython",
    "version": 3
   },
   "file_extension": ".py",
   "mimetype": "text/x-python",
   "name": "python",
   "nbconvert_exporter": "python",
   "pygments_lexer": "ipython3",
   "version": "3.11.8"
  }
 },
 "nbformat": 4,
 "nbformat_minor": 2
}
