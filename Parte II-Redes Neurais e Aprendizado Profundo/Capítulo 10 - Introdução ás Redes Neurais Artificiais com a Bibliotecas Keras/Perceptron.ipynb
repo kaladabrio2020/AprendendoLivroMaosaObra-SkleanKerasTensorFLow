{
 "cells": [
  {
   "cell_type": "code",
   "execution_count": 5,
   "metadata": {},
   "outputs": [],
   "source": [
    "import numpy as np\n",
    "from sklearn.base         import ClassifierMixin\n",
    "from sklearn.linear_model import Perceptron\n",
    "from sklearn.datasets     import make_classification\n",
    "from sklearn.metrics      import *\n",
    "from typing               import Literal\n",
    "from sklearn.model_selection import train_test_split"
   ]
  },
  {
   "cell_type": "code",
   "execution_count": 6,
   "metadata": {},
   "outputs": [],
   "source": [
    "\n",
    "class SimplesModelo(ClassifierMixin):\n",
    "    def __init__(self,condition:Literal['&','|','I'] = '&'):\n",
    "        self.condition = condition\n",
    "\n",
    "    def C(self,X):\n",
    "        C = None\n",
    "        for A, B in X:\n",
    "            match self.condition:\n",
    "                case \"&\":\n",
    "                    C = (A and B)\n",
    "                    print(f'[C : A({A}) & B({B})] => C = {C}',end='  ')\n",
    "                \n",
    "                case \"|\":\n",
    "                    C = (A or B)\n",
    "                    print(f'[C : A({A}) | B({B})] => C = {C}',end='  ')\n",
    "                case 'I':\n",
    "                    C = A\n",
    "                    print(F'C = A({A})',end='  ')\n",
    "            if (C):print('Ativado')\n",
    "            else  :print('Não Ativado')   "
   ]
  },
  {
   "cell_type": "code",
   "execution_count": 7,
   "metadata": {},
   "outputs": [
    {
     "name": "stdout",
     "output_type": "stream",
     "text": [
      "[C : A(True) & B(False)] => C = False  Não Ativado\n"
     ]
    }
   ],
   "source": [
    "SimplesModelo(condition='&').C([ [True,(False)] ])"
   ]
  },
  {
   "cell_type": "markdown",
   "metadata": {},
   "source": [
    "### Perceptron"
   ]
  },
  {
   "cell_type": "code",
   "execution_count": 115,
   "metadata": {},
   "outputs": [],
   "source": [
    "import numpy as np\n",
    "from sklearn.base import ClassifierMixin, BaseEstimator\n",
    "class PerceptronAlgoritmo(BaseEstimator, ClassifierMixin):\n",
    "    W_ = None\n",
    "    b_ = None\n",
    "    def __init__(self, max_iter=100, eta=0.5) -> None:\n",
    "        self.eta      = eta\n",
    "        self.max_iter = max_iter\n",
    "        \n",
    "    def fit(self, X, y):\n",
    "        m_ = np.size(X, axis=1)\n",
    "        self.b_ = 0\n",
    "        self.W_ = np.zeros(shape=(1,m_))[0]\n",
    "       \n",
    "       \n",
    "        for iter in range(self.max_iter):\n",
    "            for xi, yi in zip(X,y):\n",
    "                pred   = self.headviside(xi)\n",
    "                update = (self.eta * (xi-pred))\n",
    "                self.W_ += update * xi\n",
    "                self.W_ += self.eta * update\n",
    "\n",
    "\n",
    "    def headviside(self, X):\n",
    "        return np.where(self.SomaPonderada(X)< 0 ,0 ,1)\n",
    "    def SomaPonderada(self, X):\n",
    "        return np.dot(X, self.W_) + self.b_"
   ]
  },
  {
   "cell_type": "code",
   "execution_count": 116,
   "metadata": {},
   "outputs": [],
   "source": [
    "from sklearn.linear_model import Perceptron"
   ]
  },
  {
   "cell_type": "code",
   "execution_count": 122,
   "metadata": {},
   "outputs": [],
   "source": [
    "X, y = make_classification(n_classes=2,n_samples=200,random_state=32)\n",
    "xtrain, xtest, ytrain, ytest = train_test_split(X,y,random_state=42,test_size=0.2)"
   ]
  },
  {
   "cell_type": "code",
   "execution_count": 125,
   "metadata": {},
   "outputs": [],
   "source": [
    "percep = Perceptron()\n",
    "percep.fit(xtrain,ytrain)\n",
    "pred = percep.predict(xtest)"
   ]
  },
  {
   "cell_type": "code",
   "execution_count": 126,
   "metadata": {},
   "outputs": [
    {
     "name": "stdout",
     "output_type": "stream",
     "text": [
      "              precision    recall  f1-score   support\n",
      "\n",
      "           0       0.72      0.76      0.74        17\n",
      "           1       0.82      0.78      0.80        23\n",
      "\n",
      "    accuracy                           0.78        40\n",
      "   macro avg       0.77      0.77      0.77        40\n",
      "weighted avg       0.78      0.78      0.78        40\n",
      "\n"
     ]
    }
   ],
   "source": [
    "print(classification_report(ytest,pred))"
   ]
  },
  {
   "cell_type": "code",
   "execution_count": 127,
   "metadata": {},
   "outputs": [],
   "source": [
    "per = PerceptronAlgoritmo()\n",
    "per.fit(xtrain,ytrain)"
   ]
  },
  {
   "cell_type": "code",
   "execution_count": 128,
   "metadata": {},
   "outputs": [
    {
     "name": "stdout",
     "output_type": "stream",
     "text": [
      "              precision    recall  f1-score   support\n",
      "\n",
      "           0       0.40      0.35      0.38        17\n",
      "           1       0.56      0.61      0.58        23\n",
      "\n",
      "    accuracy                           0.50        40\n",
      "   macro avg       0.48      0.48      0.48        40\n",
      "weighted avg       0.49      0.50      0.49        40\n",
      "\n"
     ]
    }
   ],
   "source": [
    "print(classification_report(ytest,per.headviside(xtest)))"
   ]
  },
  {
   "cell_type": "code",
   "execution_count": 129,
   "metadata": {},
   "outputs": [
    {
     "data": {
      "text/plain": [
       "(array([ 6021.92221924, 16345.05782637,  5630.22479524,  6340.32991174,\n",
       "         5795.14027949, 12971.97012342,  6368.89053159,  5455.56971844,\n",
       "         5079.96022544,  5654.13894214,  5151.65565866,  6859.11077905,\n",
       "        11772.62223878, 10177.84951248,  4701.26534469,  5771.97049558,\n",
       "         6036.56680091,  4274.0424059 ,  6103.45176657,  4970.6035217 ]),\n",
       " array([[-2.61797248, -5.18096621,  1.86972832, -5.25769154, -3.31806887,\n",
       "         21.95353682, -0.12485616,  2.96563009,  5.05454922, -1.84834874,\n",
       "          0.34921531, -4.65460011, -7.67240284, 14.6748877 ,  1.36741875,\n",
       "          2.09723439, -6.51347126, 13.76527489, -3.93181133, -4.38925239]]))"
      ]
     },
     "execution_count": 129,
     "metadata": {},
     "output_type": "execute_result"
    }
   ],
   "source": [
    "per.W_,percep.coef_"
   ]
  },
  {
   "cell_type": "code",
   "execution_count": null,
   "metadata": {},
   "outputs": [],
   "source": []
  }
 ],
 "metadata": {
  "kernelspec": {
   "display_name": "pythonVirtual",
   "language": "python",
   "name": "python3"
  },
  "language_info": {
   "codemirror_mode": {
    "name": "ipython",
    "version": 3
   },
   "file_extension": ".py",
   "mimetype": "text/x-python",
   "name": "python",
   "nbconvert_exporter": "python",
   "pygments_lexer": "ipython3",
   "version": "3.11.8"
  }
 },
 "nbformat": 4,
 "nbformat_minor": 2
}
