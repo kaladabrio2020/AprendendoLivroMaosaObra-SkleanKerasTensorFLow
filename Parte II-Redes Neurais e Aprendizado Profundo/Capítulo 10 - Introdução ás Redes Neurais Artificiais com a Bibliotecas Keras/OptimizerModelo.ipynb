{
 "cells": [
  {
   "cell_type": "code",
   "execution_count": 1,
   "metadata": {},
   "outputs": [
    {
     "name": "stderr",
     "output_type": "stream",
     "text": [
      "2024-03-04 20:20:43.642129: I external/local_tsl/tsl/cuda/cudart_stub.cc:31] Could not find cuda drivers on your machine, GPU will not be used.\n",
      "2024-03-04 20:20:43.684555: E external/local_xla/xla/stream_executor/cuda/cuda_dnn.cc:9261] Unable to register cuDNN factory: Attempting to register factory for plugin cuDNN when one has already been registered\n",
      "2024-03-04 20:20:43.684587: E external/local_xla/xla/stream_executor/cuda/cuda_fft.cc:607] Unable to register cuFFT factory: Attempting to register factory for plugin cuFFT when one has already been registered\n",
      "2024-03-04 20:20:43.685718: E external/local_xla/xla/stream_executor/cuda/cuda_blas.cc:1515] Unable to register cuBLAS factory: Attempting to register factory for plugin cuBLAS when one has already been registered\n",
      "2024-03-04 20:20:43.691742: I external/local_tsl/tsl/cuda/cudart_stub.cc:31] Could not find cuda drivers on your machine, GPU will not be used.\n",
      "2024-03-04 20:20:43.692212: I tensorflow/core/platform/cpu_feature_guard.cc:182] This TensorFlow binary is optimized to use available CPU instructions in performance-critical operations.\n",
      "To enable the following instructions: AVX2 FMA, in other operations, rebuild TensorFlow with the appropriate compiler flags.\n",
      "2024-03-04 20:20:44.643682: W tensorflow/compiler/tf2tensorrt/utils/py_utils.cc:38] TF-TRT Warning: Could not find TensorRT\n"
     ]
    }
   ],
   "source": [
    "import keras\n",
    "import numpy as np\n",
    "from   sklearn.datasets import make_classification\n",
    "from   sklearn.model_selection import train_test_split"
   ]
  },
  {
   "cell_type": "code",
   "execution_count": 2,
   "metadata": {},
   "outputs": [],
   "source": [
    "X, y = make_classification(n_samples=2000, n_features=4, random_state=32)"
   ]
  },
  {
   "cell_type": "code",
   "execution_count": 3,
   "metadata": {},
   "outputs": [
    {
     "data": {
      "text/plain": [
       "(2000, 4)"
      ]
     },
     "execution_count": 3,
     "metadata": {},
     "output_type": "execute_result"
    }
   ],
   "source": [
    "X.shape"
   ]
  },
  {
   "cell_type": "code",
   "execution_count": 4,
   "metadata": {},
   "outputs": [],
   "source": [
    "xtrain, xtest, ytrain, ytest = train_test_split(X, y, random_state=42, test_size=0.25)"
   ]
  },
  {
   "cell_type": "code",
   "execution_count": 5,
   "metadata": {},
   "outputs": [
    {
     "data": {
      "text/plain": [
       "(4,)"
      ]
     },
     "execution_count": 5,
     "metadata": {},
     "output_type": "execute_result"
    }
   ],
   "source": [
    "xtrain.shape[1:]"
   ]
  },
  {
   "cell_type": "code",
   "execution_count": 6,
   "metadata": {},
   "outputs": [],
   "source": [
    "from keras_tuner import HyperParameters\n",
    "def buildModel(hp:HyperParameters):\n",
    "    #\n",
    "    n_hidden  = hp.Int(name='n_hidden', min_value=4, max_value=6 ,step=1)\n",
    "    n_neurons = hp.Int(name='n_neurons', min_value=4,max_value=32, step=4)\n",
    "\n",
    "    #\n",
    "    model = keras.models.Sequential()\n",
    "\n",
    "    model.add(\n",
    "        keras.layers.InputLayer(input_shape=xtrain.shape[1:])\n",
    "    )\n",
    "    \n",
    "    for _ in range(n_hidden):\n",
    "        model.add(\n",
    "            keras.layers.Dense( units=n_neurons , activation='relu')\n",
    "        )\n",
    "    \n",
    "    model.add( keras.layers.Dense( units=1 , activation='relu') )\n",
    "\n",
    "    model.compile(\n",
    "        optimizer = keras.optimizers.SGD(),\n",
    "        loss      = keras.losses.binary_crossentropy,\n",
    "        metrics   = ['accuracy',keras.metrics.binary_accuracy] \n",
    "    )\n",
    "    return model"
   ]
  },
  {
   "cell_type": "code",
   "execution_count": 7,
   "metadata": {},
   "outputs": [
    {
     "name": "stdout",
     "output_type": "stream",
     "text": [
      "Trial 5 Complete [00h 00m 03s]\n",
      "val_accuracy: 0.5400000214576721\n",
      "\n",
      "Best val_accuracy So Far: 0.9599999785423279\n",
      "Total elapsed time: 00h 00m 19s\n"
     ]
    }
   ],
   "source": [
    "from keras_tuner import RandomSearch\n",
    "\n",
    "grid = RandomSearch(\n",
    "    buildModel,\n",
    "    objective='val_accuracy',\n",
    "    max_trials=5,\n",
    "    directory='Opt',\n",
    "    project_name='Example1'\n",
    "    )\n",
    "\n",
    "stop_early = keras.callbacks.EarlyStopping(monitor='val_loss', patience=5)\n",
    "grid.search( xtrain, ytrain, epochs=20, validation_split=0.1, callbacks=[stop_early])"
   ]
  },
  {
   "cell_type": "code",
   "execution_count": 19,
   "metadata": {},
   "outputs": [],
   "source": [
    "best = grid.get_best_models()[0]"
   ]
  },
  {
   "cell_type": "code",
   "execution_count": 23,
   "metadata": {},
   "outputs": [
    {
     "name": "stdout",
     "output_type": "stream",
     "text": [
      "Epoch 1/20\n",
      "135/135 [==============================] - 0s 2ms/step - loss: 7.6553 - accuracy: 0.5037 - binary_accuracy: 0.5037 - val_loss: 7.0955 - val_accuracy: 0.5400 - val_binary_accuracy: 0.5400\n",
      "Epoch 2/20\n",
      "135/135 [==============================] - 0s 2ms/step - loss: 7.6553 - accuracy: 0.5037 - binary_accuracy: 0.5037 - val_loss: 7.0955 - val_accuracy: 0.5400 - val_binary_accuracy: 0.5400\n",
      "Epoch 3/20\n",
      "135/135 [==============================] - 0s 2ms/step - loss: 7.6553 - accuracy: 0.5037 - binary_accuracy: 0.5037 - val_loss: 7.0955 - val_accuracy: 0.5400 - val_binary_accuracy: 0.5400\n",
      "Epoch 4/20\n",
      "135/135 [==============================] - 0s 2ms/step - loss: 7.6553 - accuracy: 0.5037 - binary_accuracy: 0.5037 - val_loss: 7.0955 - val_accuracy: 0.5400 - val_binary_accuracy: 0.5400\n",
      "Epoch 5/20\n",
      "135/135 [==============================] - 0s 2ms/step - loss: 7.6553 - accuracy: 0.5037 - binary_accuracy: 0.5037 - val_loss: 7.0955 - val_accuracy: 0.5400 - val_binary_accuracy: 0.5400\n",
      "Epoch 6/20\n",
      "135/135 [==============================] - 0s 2ms/step - loss: 7.6553 - accuracy: 0.5037 - binary_accuracy: 0.5037 - val_loss: 7.0955 - val_accuracy: 0.5400 - val_binary_accuracy: 0.5400\n",
      "Epoch 7/20\n",
      "135/135 [==============================] - 0s 2ms/step - loss: 7.6553 - accuracy: 0.5037 - binary_accuracy: 0.5037 - val_loss: 7.0955 - val_accuracy: 0.5400 - val_binary_accuracy: 0.5400\n",
      "Epoch 8/20\n",
      "135/135 [==============================] - 0s 2ms/step - loss: 7.6553 - accuracy: 0.5037 - binary_accuracy: 0.5037 - val_loss: 7.0955 - val_accuracy: 0.5400 - val_binary_accuracy: 0.5400\n",
      "Epoch 9/20\n",
      "135/135 [==============================] - 0s 2ms/step - loss: 7.6553 - accuracy: 0.5037 - binary_accuracy: 0.5037 - val_loss: 7.0955 - val_accuracy: 0.5400 - val_binary_accuracy: 0.5400\n",
      "Epoch 10/20\n",
      "135/135 [==============================] - 0s 2ms/step - loss: 7.6553 - accuracy: 0.5037 - binary_accuracy: 0.5037 - val_loss: 7.0955 - val_accuracy: 0.5400 - val_binary_accuracy: 0.5400\n",
      "Epoch 11/20\n",
      "135/135 [==============================] - 0s 2ms/step - loss: 7.6553 - accuracy: 0.5037 - binary_accuracy: 0.5037 - val_loss: 7.0955 - val_accuracy: 0.5400 - val_binary_accuracy: 0.5400\n",
      "Epoch 12/20\n",
      "135/135 [==============================] - 0s 2ms/step - loss: 7.6553 - accuracy: 0.5037 - binary_accuracy: 0.5037 - val_loss: 7.0955 - val_accuracy: 0.5400 - val_binary_accuracy: 0.5400\n",
      "Epoch 13/20\n",
      "135/135 [==============================] - 0s 2ms/step - loss: 7.6553 - accuracy: 0.5037 - binary_accuracy: 0.5037 - val_loss: 7.0955 - val_accuracy: 0.5400 - val_binary_accuracy: 0.5400\n",
      "Epoch 14/20\n",
      "135/135 [==============================] - 0s 2ms/step - loss: 7.6553 - accuracy: 0.5037 - binary_accuracy: 0.5037 - val_loss: 7.0955 - val_accuracy: 0.5400 - val_binary_accuracy: 0.5400\n",
      "Epoch 15/20\n",
      "135/135 [==============================] - 0s 2ms/step - loss: 7.6553 - accuracy: 0.5037 - binary_accuracy: 0.5037 - val_loss: 7.0955 - val_accuracy: 0.5400 - val_binary_accuracy: 0.5400\n",
      "Epoch 16/20\n",
      "135/135 [==============================] - 0s 2ms/step - loss: 7.6553 - accuracy: 0.5037 - binary_accuracy: 0.5037 - val_loss: 7.0955 - val_accuracy: 0.5400 - val_binary_accuracy: 0.5400\n",
      "Epoch 17/20\n",
      "135/135 [==============================] - 0s 2ms/step - loss: 7.6553 - accuracy: 0.5037 - binary_accuracy: 0.5037 - val_loss: 7.0955 - val_accuracy: 0.5400 - val_binary_accuracy: 0.5400\n",
      "Epoch 18/20\n",
      "135/135 [==============================] - 0s 2ms/step - loss: 7.6553 - accuracy: 0.5037 - binary_accuracy: 0.5037 - val_loss: 7.0955 - val_accuracy: 0.5400 - val_binary_accuracy: 0.5400\n",
      "Epoch 19/20\n",
      "135/135 [==============================] - 0s 2ms/step - loss: 7.6553 - accuracy: 0.5037 - binary_accuracy: 0.5037 - val_loss: 7.0955 - val_accuracy: 0.5400 - val_binary_accuracy: 0.5400\n",
      "Epoch 20/20\n",
      "135/135 [==============================] - 0s 2ms/step - loss: 7.6553 - accuracy: 0.5037 - binary_accuracy: 0.5037 - val_loss: 7.0955 - val_accuracy: 0.5400 - val_binary_accuracy: 0.5400\n"
     ]
    }
   ],
   "source": [
    "history = best.fit(xtrain, ytrain, epochs=20,batch_size=10 ,validation_split=0.1)"
   ]
  },
  {
   "cell_type": "code",
   "execution_count": 24,
   "metadata": {},
   "outputs": [
    {
     "data": {
      "text/plain": [
       "<Axes: >"
      ]
     },
     "execution_count": 24,
     "metadata": {},
     "output_type": "execute_result"
    },
    {
     "data": {
      "image/png": "[encoded data removed]",
      "text/plain": [
       "<Figure size 640x480 with 1 Axes>"
      ]
     },
     "metadata": {},
     "output_type": "display_data"
    }
   ],
   "source": [
    "import pandas as pd \n",
    "\n",
    "pd.DataFrame(history.history).plot()"
   ]
  }
 ],
 "metadata": {
  "kernelspec": {
   "display_name": "VenvGlobal",
   "language": "python",
   "name": "python3"
  },
  "language_info": {
   "codemirror_mode": {
    "name": "ipython",
    "version": 3
   },
   "file_extension": ".py",
   "mimetype": "text/x-python",
   "name": "python",
   "nbconvert_exporter": "python",
   "pygments_lexer": "ipython3",
   "version": "3.11.8"
  }
 },
 "nbformat": 4,
 "nbformat_minor": 2
}
