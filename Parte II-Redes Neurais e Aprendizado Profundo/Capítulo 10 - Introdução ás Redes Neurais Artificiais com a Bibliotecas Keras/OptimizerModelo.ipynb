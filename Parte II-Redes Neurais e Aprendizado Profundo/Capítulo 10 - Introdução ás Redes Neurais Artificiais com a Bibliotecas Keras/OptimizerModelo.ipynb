{
 "cells": [
  {
   "cell_type": "code",
   "execution_count": 5,
   "metadata": {},
   "outputs": [],
   "source": [
    "import keras\n",
    "import numpy as np\n",
    "from   sklearn.datasets import make_classification\n",
    "from   sklearn.model_selection import train_test_split"
   ]
  },
  {
   "cell_type": "code",
   "execution_count": 6,
   "metadata": {},
   "outputs": [],
   "source": [
    "X, y = make_classification(n_samples=2000, n_features=4, random_state=32)"
   ]
  },
  {
   "cell_type": "code",
   "execution_count": 7,
   "metadata": {},
   "outputs": [
    {
     "data": {
      "text/plain": [
       "(2000, 4)"
      ]
     },
     "execution_count": 7,
     "metadata": {},
     "output_type": "execute_result"
    }
   ],
   "source": [
    "X.shape"
   ]
  },
  {
   "cell_type": "code",
   "execution_count": 8,
   "metadata": {},
   "outputs": [],
   "source": [
    "xtrain, xtest, ytrain, ytest = train_test_split(X, y, random_state=42, test_size=0.25)"
   ]
  },
  {
   "cell_type": "code",
   "execution_count": 9,
   "metadata": {},
   "outputs": [
    {
     "data": {
      "text/plain": [
       "(4,)"
      ]
     },
     "execution_count": 9,
     "metadata": {},
     "output_type": "execute_result"
    }
   ],
   "source": [
    "xtrain.shape[1:]"
   ]
  },
  {
   "cell_type": "code",
   "execution_count": 29,
   "metadata": {},
   "outputs": [],
   "source": [
    "from keras_tuner import HyperParameters\n",
    "def buildModel(hp:HyperParameters):\n",
    "    #\n",
    "    n_hidden  = hp.Int(name='n_hidden', min_value=4, max_value=8 ,step=1)\n",
    "    n_neurons = hp.Int(name='n_neurons', min_value=4,max_value=32, step=4)\n",
    "    #\n",
    "    momentum  = hp.Float(name='momentum', min_value=0.0, max_value=0.9, step=0.1)\n",
    "    nesterov  = hp.Choice(name='nesterov', values=[True,False])\n",
    "\n",
    "    model = keras.models.Sequential()\n",
    "    model.add(\n",
    "        keras.layers.InputLayer(input_shape=xtrain.shape[1:])\n",
    "    )\n",
    "    \n",
    "    for _ in range(n_hidden):\n",
    "        model.add(\n",
    "            keras.layers.Dense( units=n_neurons , activation='relu')\n",
    "        )\n",
    "    \n",
    "    model.add( keras.layers.Dense( units=1 , activation='relu') )\n",
    "\n",
    "    model.compile(\n",
    "        optimizer = keras.optimizers.SGD(momentum=momentum, nesterov=True),\n",
    "        loss      = keras.losses.binary_crossentropy,\n",
    "        metrics   = ['accuracy',keras.metrics.binary_accuracy] \n",
    "    )\n",
    "    return model"
   ]
  },
  {
   "cell_type": "code",
   "execution_count": 46,
   "metadata": {},
   "outputs": [
    {
     "name": "stdout",
     "output_type": "stream",
     "text": [
      "Trial 10 Complete [00h 00m 02s]\n",
      "val_accuracy: 0.5400000214576721\n",
      "\n",
      "Best val_accuracy So Far: 0.9666666388511658\n",
      "Total elapsed time: 19d 14h 00m 37s\n"
     ]
    }
   ],
   "source": [
    "from keras_tuner import RandomSearch\n",
    "\n",
    "grid = RandomSearch(\n",
    "    buildModel,\n",
    "    objective='val_accuracy',\n",
    "    max_trials=10,\n",
    "    directory='Opt',\n",
    "    project_name='Example1'\n",
    "    )\n",
    "\n",
    "stop_early = keras.callbacks.EarlyStopping(monitor='val_loss', patience=5)\n",
    "grid.search( xtrain, ytrain, epochs=20, validation_split=0.1, callbacks=[stop_early])"
   ]
  },
  {
   "cell_type": "code",
   "execution_count": 50,
   "metadata": {},
   "outputs": [
    {
     "name": "stdout",
     "output_type": "stream",
     "text": [
      "Results summary\n",
      "Results in Opt/Example1\n",
      "Showing 1 best trials\n",
      "Objective(name=\"val_accuracy\", direction=\"max\")\n",
      "\n",
      "Trial 06 summary\n",
      "Hyperparameters:\n",
      "n_hidden: 4\n",
      "n_neurons: 20\n",
      "momentum: 0.30000000000000004\n",
      "nesterov: 1\n",
      "Score: 0.9666666388511658\n"
     ]
    }
   ],
   "source": [
    "grid.results_summary(num_trials=1)"
   ]
  },
  {
   "cell_type": "code",
   "execution_count": 48,
   "metadata": {},
   "outputs": [],
   "source": [
    "best = grid.get_best_models()[0]"
   ]
  },
  {
   "cell_type": "code",
   "execution_count": 49,
   "metadata": {},
   "outputs": [
    {
     "name": "stdout",
     "output_type": "stream",
     "text": [
      "Epoch 1/20\n",
      "135/135 [==============================] - 1s 3ms/step - loss: 0.2227 - accuracy: 0.9393 - binary_accuracy: 0.9393 - val_loss: 0.3341 - val_accuracy: 0.9333 - val_binary_accuracy: 0.9333\n",
      "Epoch 2/20\n",
      "135/135 [==============================] - 0s 2ms/step - loss: 0.4100 - accuracy: 0.9111 - binary_accuracy: 0.9111 - val_loss: 0.2891 - val_accuracy: 0.9467 - val_binary_accuracy: 0.9467\n",
      "Epoch 3/20\n",
      "135/135 [==============================] - 0s 2ms/step - loss: 0.2598 - accuracy: 0.9437 - binary_accuracy: 0.9437 - val_loss: 0.2175 - val_accuracy: 0.9533 - val_binary_accuracy: 0.9533\n",
      "Epoch 4/20\n",
      "135/135 [==============================] - 0s 2ms/step - loss: 0.2464 - accuracy: 0.9444 - binary_accuracy: 0.9444 - val_loss: 0.2729 - val_accuracy: 0.9533 - val_binary_accuracy: 0.9533\n",
      "Epoch 5/20\n",
      "135/135 [==============================] - 0s 2ms/step - loss: 0.3712 - accuracy: 0.9141 - binary_accuracy: 0.9141 - val_loss: 0.3047 - val_accuracy: 0.9467 - val_binary_accuracy: 0.9467\n",
      "Epoch 6/20\n",
      "135/135 [==============================] - 0s 2ms/step - loss: 0.3723 - accuracy: 0.9111 - binary_accuracy: 0.9111 - val_loss: 0.1720 - val_accuracy: 0.9600 - val_binary_accuracy: 0.9600\n",
      "Epoch 7/20\n",
      "135/135 [==============================] - 0s 2ms/step - loss: 0.2853 - accuracy: 0.9237 - binary_accuracy: 0.9237 - val_loss: 0.2948 - val_accuracy: 0.9533 - val_binary_accuracy: 0.9533\n",
      "Epoch 8/20\n",
      "135/135 [==============================] - 0s 2ms/step - loss: 0.2654 - accuracy: 0.9407 - binary_accuracy: 0.9407 - val_loss: 0.2730 - val_accuracy: 0.9533 - val_binary_accuracy: 0.9533\n",
      "Epoch 9/20\n",
      "135/135 [==============================] - 0s 2ms/step - loss: 5.9599 - accuracy: 0.6007 - binary_accuracy: 0.6007 - val_loss: 7.0955 - val_accuracy: 0.5400 - val_binary_accuracy: 0.5400\n",
      "Epoch 10/20\n",
      "135/135 [==============================] - 0s 2ms/step - loss: 7.6553 - accuracy: 0.5037 - binary_accuracy: 0.5037 - val_loss: 7.0955 - val_accuracy: 0.5400 - val_binary_accuracy: 0.5400\n",
      "Epoch 11/20\n",
      "135/135 [==============================] - 0s 2ms/step - loss: 7.6553 - accuracy: 0.5037 - binary_accuracy: 0.5037 - val_loss: 7.0955 - val_accuracy: 0.5400 - val_binary_accuracy: 0.5400\n",
      "Epoch 12/20\n",
      "135/135 [==============================] - 0s 2ms/step - loss: 7.6553 - accuracy: 0.5037 - binary_accuracy: 0.5037 - val_loss: 7.0955 - val_accuracy: 0.5400 - val_binary_accuracy: 0.5400\n",
      "Epoch 13/20\n",
      "135/135 [==============================] - 0s 2ms/step - loss: 7.6553 - accuracy: 0.5037 - binary_accuracy: 0.5037 - val_loss: 7.0955 - val_accuracy: 0.5400 - val_binary_accuracy: 0.5400\n",
      "Epoch 14/20\n",
      "135/135 [==============================] - 0s 2ms/step - loss: 7.6553 - accuracy: 0.5037 - binary_accuracy: 0.5037 - val_loss: 7.0955 - val_accuracy: 0.5400 - val_binary_accuracy: 0.5400\n",
      "Epoch 15/20\n",
      "135/135 [==============================] - 0s 2ms/step - loss: 7.6553 - accuracy: 0.5037 - binary_accuracy: 0.5037 - val_loss: 7.0955 - val_accuracy: 0.5400 - val_binary_accuracy: 0.5400\n",
      "Epoch 16/20\n",
      "135/135 [==============================] - 0s 2ms/step - loss: 7.6553 - accuracy: 0.5037 - binary_accuracy: 0.5037 - val_loss: 7.0955 - val_accuracy: 0.5400 - val_binary_accuracy: 0.5400\n",
      "Epoch 17/20\n",
      "135/135 [==============================] - 0s 2ms/step - loss: 7.6553 - accuracy: 0.5037 - binary_accuracy: 0.5037 - val_loss: 7.0955 - val_accuracy: 0.5400 - val_binary_accuracy: 0.5400\n",
      "Epoch 18/20\n",
      "135/135 [==============================] - 0s 2ms/step - loss: 7.6553 - accuracy: 0.5037 - binary_accuracy: 0.5037 - val_loss: 7.0955 - val_accuracy: 0.5400 - val_binary_accuracy: 0.5400\n",
      "Epoch 19/20\n",
      "135/135 [==============================] - 0s 2ms/step - loss: 7.6553 - accuracy: 0.5037 - binary_accuracy: 0.5037 - val_loss: 7.0955 - val_accuracy: 0.5400 - val_binary_accuracy: 0.5400\n",
      "Epoch 20/20\n",
      "135/135 [==============================] - 0s 2ms/step - loss: 7.6553 - accuracy: 0.5037 - binary_accuracy: 0.5037 - val_loss: 7.0955 - val_accuracy: 0.5400 - val_binary_accuracy: 0.5400\n"
     ]
    }
   ],
   "source": [
    "\n",
    "history = best.fit(xtrain, ytrain, epochs=20,batch_size=10 ,validation_split=0.1)"
   ]
  },
  {
   "cell_type": "code",
   "execution_count": 14,
   "metadata": {},
   "outputs": [
    {
     "data": {
      "text/plain": [
       "<Axes: >"
      ]
     },
     "execution_count": 14,
     "metadata": {},
     "output_type": "execute_result"
    },
    {
     "data": {
      "image/png": "[encoded data removed]",
      "text/plain": [
       "<Figure size 640x480 with 1 Axes>"
      ]
     },
     "metadata": {},
     "output_type": "display_data"
    }
   ],
   "source": [
    "import pandas as pd \n",
    "\n",
    "pd.DataFrame(history.history).plot()"
   ]
  },
  {
   "cell_type": "code",
   "execution_count": null,
   "metadata": {},
   "outputs": [],
   "source": []
  }
 ],
 "metadata": {
  "kernelspec": {
   "display_name": "VenvGlobal",
   "language": "python",
   "name": "python3"
  },
  "language_info": {
   "codemirror_mode": {
    "name": "ipython",
    "version": 3
   },
   "file_extension": ".py",
   "mimetype": "text/x-python",
   "name": "python",
   "nbconvert_exporter": "python",
   "pygments_lexer": "ipython3",
   "version": "3.11.8"
  }
 },
 "nbformat": 4,
 "nbformat_minor": 2
}
