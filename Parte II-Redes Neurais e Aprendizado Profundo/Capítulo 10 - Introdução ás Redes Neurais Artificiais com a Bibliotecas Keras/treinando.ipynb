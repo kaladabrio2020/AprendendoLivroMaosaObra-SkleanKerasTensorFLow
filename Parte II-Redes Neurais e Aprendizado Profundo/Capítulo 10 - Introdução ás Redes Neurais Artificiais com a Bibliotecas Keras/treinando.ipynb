{
 "cells": [
  {
   "cell_type": "code",
   "execution_count": 9,
   "metadata": {},
   "outputs": [],
   "source": [
    "from sklearn.datasets import make_classification\n",
    "from sklearn.model_selection import train_test_split\n",
    "from sklearn.metrics         import classification_report\n",
    "from src.Src import calcular_pesos_classes\n",
    "from sklearn.utils import class_weight"
   ]
  },
  {
   "cell_type": "code",
   "execution_count": 10,
   "metadata": {},
   "outputs": [],
   "source": [
    "X, y = make_classification(n_samples=8000, random_state=42)\n",
    "xtrain, xtest, ytrain, ytest = train_test_split(X, y, random_state=42, test_size=0.25)"
   ]
  },
  {
   "cell_type": "code",
   "execution_count": 11,
   "metadata": {},
   "outputs": [],
   "source": [
    "pesos = calcular_pesos_classes(ytrain)"
   ]
  },
  {
   "cell_type": "code",
   "execution_count": 12,
   "metadata": {},
   "outputs": [
    {
     "data": {
      "text/plain": [
       "(6000, 20)"
      ]
     },
     "execution_count": 12,
     "metadata": {},
     "output_type": "execute_result"
    }
   ],
   "source": [
    "xtrain.shape"
   ]
  },
  {
   "cell_type": "code",
   "execution_count": 13,
   "metadata": {},
   "outputs": [
    {
     "data": {
      "text/plain": [
       "480.0"
      ]
     },
     "execution_count": 13,
     "metadata": {},
     "output_type": "execute_result"
    }
   ],
   "source": [
    "(6000-6000*0.2)/10"
   ]
  },
  {
   "cell_type": "code",
   "execution_count": 14,
   "metadata": {},
   "outputs": [
    {
     "name": "stdout",
     "output_type": "stream",
     "text": [
      "WARNING:tensorflow:From c:\\Users\\mateu\\Documents\\venvGlobal\\Lib\\site-packages\\keras\\src\\losses.py:2976: The name tf.losses.sparse_softmax_cross_entropy is deprecated. Please use tf.compat.v1.losses.sparse_softmax_cross_entropy instead.\n",
      "\n",
      "WARNING:tensorflow:From c:\\Users\\mateu\\Documents\\venvGlobal\\Lib\\site-packages\\keras\\src\\backend.py:873: The name tf.get_default_graph is deprecated. Please use tf.compat.v1.get_default_graph instead.\n",
      "\n",
      "Epoch 1/30\n",
      "WARNING:tensorflow:From c:\\Users\\mateu\\Documents\\venvGlobal\\Lib\\site-packages\\keras\\src\\utils\\tf_utils.py:492: The name tf.ragged.RaggedTensorValue is deprecated. Please use tf.compat.v1.ragged.RaggedTensorValue instead.\n",
      "\n",
      "WARNING:tensorflow:From c:\\Users\\mateu\\Documents\\venvGlobal\\Lib\\site-packages\\keras\\src\\engine\\base_layer_utils.py:384: The name tf.executing_eagerly_outside_functions is deprecated. Please use tf.compat.v1.executing_eagerly_outside_functions instead.\n",
      "\n",
      "240/240 [==============================] - 3s 4ms/step - loss: 0.5884 - binary_accuracy: 0.8150 - val_loss: 0.5309 - val_binary_accuracy: 0.8275\n",
      "Epoch 2/30\n",
      "240/240 [==============================] - 1s 3ms/step - loss: 0.5047 - binary_accuracy: 0.8194 - val_loss: 0.5567 - val_binary_accuracy: 0.8350\n",
      "Epoch 3/30\n",
      "240/240 [==============================] - 1s 3ms/step - loss: 0.4879 - binary_accuracy: 0.8281 - val_loss: 0.5516 - val_binary_accuracy: 0.8442\n",
      "Epoch 4/30\n",
      "240/240 [==============================] - 1s 3ms/step - loss: 0.4607 - binary_accuracy: 0.8423 - val_loss: 0.6775 - val_binary_accuracy: 0.8317\n",
      "Epoch 5/30\n",
      "240/240 [==============================] - 1s 3ms/step - loss: 0.4612 - binary_accuracy: 0.8540 - val_loss: 0.6314 - val_binary_accuracy: 0.7933\n",
      "Epoch 6/30\n",
      "240/240 [==============================] - 1s 3ms/step - loss: 0.4400 - binary_accuracy: 0.8550 - val_loss: 0.5165 - val_binary_accuracy: 0.8425\n",
      "Epoch 7/30\n",
      "240/240 [==============================] - 1s 3ms/step - loss: 0.4269 - binary_accuracy: 0.8610 - val_loss: 0.5258 - val_binary_accuracy: 0.8500\n",
      "Epoch 8/30\n",
      "240/240 [==============================] - 1s 3ms/step - loss: 0.4255 - binary_accuracy: 0.8625 - val_loss: 0.5034 - val_binary_accuracy: 0.8500\n",
      "Epoch 9/30\n",
      "240/240 [==============================] - 1s 3ms/step - loss: 0.3879 - binary_accuracy: 0.8708 - val_loss: 0.5988 - val_binary_accuracy: 0.8483\n",
      "Epoch 10/30\n",
      "240/240 [==============================] - 1s 3ms/step - loss: 0.3787 - binary_accuracy: 0.8752 - val_loss: 0.6710 - val_binary_accuracy: 0.8483\n",
      "Epoch 11/30\n",
      "240/240 [==============================] - 1s 3ms/step - loss: 0.3668 - binary_accuracy: 0.8775 - val_loss: 0.4641 - val_binary_accuracy: 0.8433\n",
      "Epoch 12/30\n",
      "240/240 [==============================] - 1s 3ms/step - loss: 0.3598 - binary_accuracy: 0.8773 - val_loss: 0.5055 - val_binary_accuracy: 0.8475\n",
      "Epoch 13/30\n",
      "240/240 [==============================] - 1s 3ms/step - loss: 0.3313 - binary_accuracy: 0.8869 - val_loss: 0.4943 - val_binary_accuracy: 0.8408\n",
      "Epoch 14/30\n",
      "240/240 [==============================] - 1s 3ms/step - loss: 0.3513 - binary_accuracy: 0.8840 - val_loss: 0.4179 - val_binary_accuracy: 0.8292\n",
      "Epoch 15/30\n",
      "240/240 [==============================] - 1s 3ms/step - loss: 0.3504 - binary_accuracy: 0.8831 - val_loss: 0.5315 - val_binary_accuracy: 0.8417\n",
      "Epoch 16/30\n",
      "240/240 [==============================] - 1s 3ms/step - loss: 0.6192 - binary_accuracy: 0.8700 - val_loss: 0.8518 - val_binary_accuracy: 0.8200\n",
      "Epoch 17/30\n",
      "240/240 [==============================] - 1s 3ms/step - loss: 0.4130 - binary_accuracy: 0.8631 - val_loss: 0.5974 - val_binary_accuracy: 0.8392\n",
      "Epoch 18/30\n",
      "240/240 [==============================] - 1s 3ms/step - loss: 0.3605 - binary_accuracy: 0.8892 - val_loss: 0.6527 - val_binary_accuracy: 0.8517\n",
      "Epoch 19/30\n",
      "240/240 [==============================] - 1s 3ms/step - loss: 0.3396 - binary_accuracy: 0.8948 - val_loss: 0.6593 - val_binary_accuracy: 0.8450\n",
      "Epoch 20/30\n",
      "240/240 [==============================] - 1s 3ms/step - loss: 0.3341 - binary_accuracy: 0.8923 - val_loss: 0.7014 - val_binary_accuracy: 0.8533\n",
      "Epoch 21/30\n",
      "240/240 [==============================] - 1s 3ms/step - loss: 0.3172 - binary_accuracy: 0.8965 - val_loss: 0.4831 - val_binary_accuracy: 0.8417\n",
      "Epoch 22/30\n",
      "240/240 [==============================] - 1s 3ms/step - loss: 0.3201 - binary_accuracy: 0.9023 - val_loss: 0.5147 - val_binary_accuracy: 0.8433\n",
      "Epoch 23/30\n",
      "240/240 [==============================] - 1s 3ms/step - loss: 0.3058 - binary_accuracy: 0.9019 - val_loss: 0.6424 - val_binary_accuracy: 0.8467\n",
      "Epoch 24/30\n",
      "240/240 [==============================] - 1s 3ms/step - loss: 0.2945 - binary_accuracy: 0.9052 - val_loss: 0.5993 - val_binary_accuracy: 0.8450\n",
      "Epoch 25/30\n",
      "240/240 [==============================] - 1s 3ms/step - loss: 0.2442 - binary_accuracy: 0.9190 - val_loss: 0.7748 - val_binary_accuracy: 0.8500\n",
      "Epoch 26/30\n",
      "240/240 [==============================] - 1s 3ms/step - loss: 0.2607 - binary_accuracy: 0.9221 - val_loss: 0.7721 - val_binary_accuracy: 0.8450\n",
      "Epoch 27/30\n",
      "240/240 [==============================] - 1s 3ms/step - loss: 0.2307 - binary_accuracy: 0.9300 - val_loss: 0.8331 - val_binary_accuracy: 0.8475\n",
      "Epoch 28/30\n",
      "240/240 [==============================] - 1s 3ms/step - loss: 0.2120 - binary_accuracy: 0.9392 - val_loss: 0.9101 - val_binary_accuracy: 0.8525\n",
      "Epoch 29/30\n",
      "240/240 [==============================] - 1s 3ms/step - loss: 0.2015 - binary_accuracy: 0.9467 - val_loss: 0.9528 - val_binary_accuracy: 0.8483\n",
      "Epoch 30/30\n",
      "240/240 [==============================] - 1s 3ms/step - loss: 0.2017 - binary_accuracy: 0.9508 - val_loss: 1.0529 - val_binary_accuracy: 0.8517\n"
     ]
    }
   ],
   "source": [
    "import keras\n",
    "\n",
    "model = keras.models.Sequential([\n",
    "    keras.layers.Dense(50,  activation='relu', name='camadaDeEntrada'),\n",
    "    keras.layers.Dense(100, activation='relu', name='camadaOculta1'),\n",
    "    keras.layers.Dense(100, activation='relu', name='camadaOculta2'),\n",
    "    keras.layers.Dense(50,  activation='relu', name='camadaOculta3'),\n",
    "    keras.layers.Dense(1,   activation='relu', name='camadaDeSaida')\n",
    "])\n",
    "\n",
    "model.compile(\n",
    "    loss      = keras.losses.binary_crossentropy,\n",
    "    optimizer = keras.optimizers.Adam(),\n",
    "    metrics   = [keras.metrics.binary_accuracy]\n",
    ")\n",
    "\n",
    "history = model.fit(xtrain, ytrain, batch_size=20, epochs=30, validation_split=0.2, class_weight=pesos)"
   ]
  },
  {
   "cell_type": "code",
   "execution_count": 15,
   "metadata": {},
   "outputs": [
    {
     "name": "stdout",
     "output_type": "stream",
     "text": [
      "63/63 [==============================] - 0s 2ms/step\n"
     ]
    }
   ],
   "source": [
    "pred = model.predict(xtest)>0.5"
   ]
  },
  {
   "cell_type": "code",
   "execution_count": 16,
   "metadata": {},
   "outputs": [
    {
     "name": "stdout",
     "output_type": "stream",
     "text": [
      "              precision    recall  f1-score   support\n",
      "\n",
      "           0       0.84      0.86      0.85      1015\n",
      "           1       0.85      0.83      0.84       985\n",
      "\n",
      "    accuracy                           0.85      2000\n",
      "   macro avg       0.85      0.85      0.85      2000\n",
      "weighted avg       0.85      0.85      0.85      2000\n",
      "\n"
     ]
    }
   ],
   "source": [
    "print(classification_report(ytest, pred))"
   ]
  },
  {
   "cell_type": "code",
   "execution_count": 17,
   "metadata": {},
   "outputs": [
    {
     "data": {
      "image/png": "[encoded data removed]",
      "text/plain": [
       "<IPython.core.display.Image object>"
      ]
     },
     "execution_count": 17,
     "metadata": {},
     "output_type": "execute_result"
    }
   ],
   "source": [
    "keras.utils.plot_model(\n",
    "    model, to_file='img/ModelT1.png', show_shapes=False, show_dtype=True,\n",
    "    show_layer_names=True, rankdir='TB', expand_nested=False, dpi=96,\n",
    "    layer_range=None, show_layer_activations=True, show_trainable=False\n",
    ")"
   ]
  },
  {
   "cell_type": "code",
   "execution_count": 18,
   "metadata": {},
   "outputs": [],
   "source": [
    "model.save('ModelSave/modelTreinando0.keras')"
   ]
  },
  {
   "cell_type": "code",
   "execution_count": 19,
   "metadata": {},
   "outputs": [],
   "source": [
    "model = keras.models.load_model('ModelSave/modelTreinando0.keras')"
   ]
  },
  {
   "cell_type": "code",
   "execution_count": 20,
   "metadata": {},
   "outputs": [
    {
     "name": "stdout",
     "output_type": "stream",
     "text": [
      "Epoch 1/30\n",
      "240/240 [==============================] - 2s 4ms/step - loss: 0.2026 - binary_accuracy: 0.9510 - val_loss: 1.1684 - val_binary_accuracy: 0.8483\n",
      "Epoch 2/30\n",
      "240/240 [==============================] - 1s 3ms/step - loss: 0.1923 - binary_accuracy: 0.9583 - val_loss: 1.0785 - val_binary_accuracy: 0.8425\n",
      "Epoch 3/30\n",
      "240/240 [==============================] - 1s 3ms/step - loss: 0.1755 - binary_accuracy: 0.9669 - val_loss: 1.2589 - val_binary_accuracy: 0.8517\n",
      "Epoch 4/30\n",
      "240/240 [==============================] - 1s 3ms/step - loss: 0.1723 - binary_accuracy: 0.9635 - val_loss: 1.2212 - val_binary_accuracy: 0.8450\n",
      "Epoch 5/30\n",
      "240/240 [==============================] - 1s 3ms/step - loss: 0.2640 - binary_accuracy: 0.9475 - val_loss: 1.2916 - val_binary_accuracy: 0.8417\n",
      "Epoch 6/30\n",
      "240/240 [==============================] - 1s 3ms/step - loss: 0.2691 - binary_accuracy: 0.9392 - val_loss: 1.4296 - val_binary_accuracy: 0.8417\n",
      "Epoch 7/30\n",
      "240/240 [==============================] - 1s 3ms/step - loss: 0.3013 - binary_accuracy: 0.9308 - val_loss: 0.9676 - val_binary_accuracy: 0.8383\n",
      "Epoch 8/30\n",
      "240/240 [==============================] - 1s 3ms/step - loss: 0.3525 - binary_accuracy: 0.9200 - val_loss: 1.3846 - val_binary_accuracy: 0.8175\n",
      "Epoch 9/30\n",
      "240/240 [==============================] - 1s 3ms/step - loss: 0.3936 - binary_accuracy: 0.9048 - val_loss: 0.9495 - val_binary_accuracy: 0.8383\n",
      "Epoch 10/30\n",
      "240/240 [==============================] - 1s 3ms/step - loss: 0.3737 - binary_accuracy: 0.9065 - val_loss: 0.8871 - val_binary_accuracy: 0.8442\n",
      "Epoch 11/30\n",
      "240/240 [==============================] - 1s 4ms/step - loss: 0.4593 - binary_accuracy: 0.9044 - val_loss: 1.0254 - val_binary_accuracy: 0.8375\n",
      "Epoch 12/30\n",
      "240/240 [==============================] - 1s 4ms/step - loss: 0.2867 - binary_accuracy: 0.9283 - val_loss: 0.9196 - val_binary_accuracy: 0.8375\n",
      "Epoch 13/30\n",
      "240/240 [==============================] - 1s 3ms/step - loss: 0.2766 - binary_accuracy: 0.9306 - val_loss: 0.8572 - val_binary_accuracy: 0.8375\n",
      "Epoch 14/30\n",
      "240/240 [==============================] - 1s 3ms/step - loss: 0.2378 - binary_accuracy: 0.9425 - val_loss: 1.0379 - val_binary_accuracy: 0.8375\n",
      "Epoch 15/30\n",
      "240/240 [==============================] - 1s 3ms/step - loss: 0.2101 - binary_accuracy: 0.9504 - val_loss: 1.0974 - val_binary_accuracy: 0.8367\n",
      "Epoch 16/30\n",
      "240/240 [==============================] - 1s 3ms/step - loss: 0.1981 - binary_accuracy: 0.9594 - val_loss: 1.2137 - val_binary_accuracy: 0.8358\n",
      "Epoch 17/30\n",
      "240/240 [==============================] - 1s 3ms/step - loss: 0.1862 - binary_accuracy: 0.9663 - val_loss: 1.2931 - val_binary_accuracy: 0.8400\n",
      "Epoch 18/30\n",
      "240/240 [==============================] - 1s 3ms/step - loss: 0.1850 - binary_accuracy: 0.9685 - val_loss: 1.4094 - val_binary_accuracy: 0.8400\n",
      "Epoch 19/30\n",
      "240/240 [==============================] - 1s 3ms/step - loss: 0.1782 - binary_accuracy: 0.9712 - val_loss: 1.5455 - val_binary_accuracy: 0.8242\n",
      "Epoch 20/30\n",
      "240/240 [==============================] - 1s 3ms/step - loss: 0.3831 - binary_accuracy: 0.9298 - val_loss: 1.3329 - val_binary_accuracy: 0.8483\n",
      "Epoch 21/30\n",
      "240/240 [==============================] - 1s 3ms/step - loss: 0.3598 - binary_accuracy: 0.9190 - val_loss: 1.0075 - val_binary_accuracy: 0.8408\n",
      "Epoch 22/30\n",
      "240/240 [==============================] - 1s 4ms/step - loss: 0.2728 - binary_accuracy: 0.9358 - val_loss: 1.0679 - val_binary_accuracy: 0.8400\n",
      "Epoch 23/30\n",
      "240/240 [==============================] - 1s 5ms/step - loss: 0.5447 - binary_accuracy: 0.9027 - val_loss: 1.0818 - val_binary_accuracy: 0.8258\n",
      "Epoch 24/30\n",
      "240/240 [==============================] - 1s 5ms/step - loss: 0.3414 - binary_accuracy: 0.9127 - val_loss: 0.9696 - val_binary_accuracy: 0.8292\n",
      "Epoch 25/30\n",
      "240/240 [==============================] - 1s 5ms/step - loss: 0.2957 - binary_accuracy: 0.9160 - val_loss: 0.7522 - val_binary_accuracy: 0.8350\n",
      "Epoch 26/30\n",
      "240/240 [==============================] - 1s 5ms/step - loss: 0.2644 - binary_accuracy: 0.9340 - val_loss: 0.9294 - val_binary_accuracy: 0.8433\n",
      "Epoch 27/30\n",
      "240/240 [==============================] - 1s 5ms/step - loss: 0.2402 - binary_accuracy: 0.9408 - val_loss: 0.9738 - val_binary_accuracy: 0.8442\n",
      "Epoch 28/30\n",
      "240/240 [==============================] - 1s 5ms/step - loss: 0.2289 - binary_accuracy: 0.9479 - val_loss: 1.1094 - val_binary_accuracy: 0.8408\n",
      "Epoch 29/30\n",
      "240/240 [==============================] - 1s 5ms/step - loss: 0.2038 - binary_accuracy: 0.9575 - val_loss: 1.2096 - val_binary_accuracy: 0.8392\n",
      "Epoch 30/30\n",
      "240/240 [==============================] - 1s 5ms/step - loss: 0.2049 - binary_accuracy: 0.9625 - val_loss: 1.3106 - val_binary_accuracy: 0.8367\n"
     ]
    }
   ],
   "source": [
    "history = model.fit(xtrain, ytrain, batch_size=20, epochs=30, validation_split=0.2, class_weight=pesos)"
   ]
  },
  {
   "cell_type": "code",
   "execution_count": 23,
   "metadata": {},
   "outputs": [],
   "source": [
    "import datetime\n",
    "log_dir = \"logs/fit/\" + datetime.datetime.now().strftime(\"%Y%m%d-%H%M%S\")\n",
    "tensorboard_callback = keras.callbacks.TensorBoard(log_dir=log_dir, histogram_freq=1)"
   ]
  }
 ],
 "metadata": {
  "kernelspec": {
   "display_name": "venvGlobal",
   "language": "python",
   "name": "python3"
  },
  "language_info": {
   "codemirror_mode": {
    "name": "ipython",
    "version": 3
   },
   "file_extension": ".py",
   "mimetype": "text/x-python",
   "name": "python",
   "nbconvert_exporter": "python",
   "pygments_lexer": "ipython3",
   "version": "3.11.8"
  }
 },
 "nbformat": 4,
 "nbformat_minor": 2
}
