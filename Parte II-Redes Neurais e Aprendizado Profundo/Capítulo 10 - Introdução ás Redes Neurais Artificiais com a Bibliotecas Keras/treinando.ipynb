{
 "cells": [
  {
   "cell_type": "code",
   "execution_count": 2,
   "metadata": {},
   "outputs": [
    {
     "name": "stderr",
     "output_type": "stream",
     "text": [
      "2024-03-02 12:37:15.109903: I external/local_tsl/tsl/cuda/cudart_stub.cc:31] Could not find cuda drivers on your machine, GPU will not be used.\n",
      "2024-03-02 12:37:15.337461: E external/local_xla/xla/stream_executor/cuda/cuda_dnn.cc:9261] Unable to register cuDNN factory: Attempting to register factory for plugin cuDNN when one has already been registered\n",
      "2024-03-02 12:37:15.337570: E external/local_xla/xla/stream_executor/cuda/cuda_fft.cc:607] Unable to register cuFFT factory: Attempting to register factory for plugin cuFFT when one has already been registered\n",
      "2024-03-02 12:37:15.352201: E external/local_xla/xla/stream_executor/cuda/cuda_blas.cc:1515] Unable to register cuBLAS factory: Attempting to register factory for plugin cuBLAS when one has already been registered\n",
      "2024-03-02 12:37:15.385828: I external/local_tsl/tsl/cuda/cudart_stub.cc:31] Could not find cuda drivers on your machine, GPU will not be used.\n",
      "2024-03-02 12:37:15.387576: I tensorflow/core/platform/cpu_feature_guard.cc:182] This TensorFlow binary is optimized to use available CPU instructions in performance-critical operations.\n",
      "To enable the following instructions: AVX2 FMA, in other operations, rebuild TensorFlow with the appropriate compiler flags.\n",
      "2024-03-02 12:37:17.625579: W tensorflow/compiler/tf2tensorrt/utils/py_utils.cc:38] TF-TRT Warning: Could not find TensorRT\n"
     ]
    }
   ],
   "source": [
    "import keras\n",
    "from sklearn.datasets import make_classification\n",
    "from sklearn.model_selection import train_test_split\n",
    "from sklearn.metrics         import classification_report\n",
    "#from src.Src import calcular_pesos_classes\n",
    "from sklearn.utils import class_weight"
   ]
  },
  {
   "cell_type": "code",
   "execution_count": null,
   "metadata": {},
   "outputs": [],
   "source": [
    "X, y = make_classification(n_samples=8000, random_state=42)\n",
    "xtrain, xtest, ytrain, ytest = train_test_split(X, y, random_state=42, test_size=0.25)"
   ]
  },
  {
   "cell_type": "code",
   "execution_count": null,
   "metadata": {},
   "outputs": [
    {
     "ename": "TypeError",
     "evalue": "missing a required argument: 'classes'",
     "output_type": "error",
     "traceback": [
      "\u001b[0;31m---------------------------------------------------------------------------\u001b[0m",
      "\u001b[0;31mTypeError\u001b[0m                                 Traceback (most recent call last)",
      "Cell \u001b[0;32mIn[6], line 1\u001b[0m\n\u001b[0;32m----> 1\u001b[0m pesos \u001b[38;5;241m=\u001b[39m \u001b[43mclass_weight\u001b[49m\u001b[38;5;241;43m.\u001b[39;49m\u001b[43mcompute_class_weight\u001b[49m\u001b[43m(\u001b[49m\u001b[43mclass_weight\u001b[49m\u001b[38;5;241;43m=\u001b[39;49m\u001b[43m[\u001b[49m\u001b[38;5;241;43m0\u001b[39;49m\u001b[43m,\u001b[49m\u001b[38;5;241;43m1\u001b[39;49m\u001b[43m]\u001b[49m\u001b[43m,\u001b[49m\u001b[43my\u001b[49m\u001b[38;5;241;43m=\u001b[39;49m\u001b[43mxtrain\u001b[49m\u001b[43m)\u001b[49m\n",
      "File \u001b[0;32m~/Documentos/Global/lib64/python3.11/site-packages/sklearn/utils/_param_validation.py:191\u001b[0m, in \u001b[0;36mvalidate_params.<locals>.decorator.<locals>.wrapper\u001b[0;34m(*args, **kwargs)\u001b[0m\n\u001b[1;32m    188\u001b[0m func_sig \u001b[38;5;241m=\u001b[39m signature(func)\n\u001b[1;32m    190\u001b[0m \u001b[38;5;66;03m# Map *args/**kwargs to the function signature\u001b[39;00m\n\u001b[0;32m--> 191\u001b[0m params \u001b[38;5;241m=\u001b[39m \u001b[43mfunc_sig\u001b[49m\u001b[38;5;241;43m.\u001b[39;49m\u001b[43mbind\u001b[49m\u001b[43m(\u001b[49m\u001b[38;5;241;43m*\u001b[39;49m\u001b[43margs\u001b[49m\u001b[43m,\u001b[49m\u001b[43m \u001b[49m\u001b[38;5;241;43m*\u001b[39;49m\u001b[38;5;241;43m*\u001b[39;49m\u001b[43mkwargs\u001b[49m\u001b[43m)\u001b[49m\n\u001b[1;32m    192\u001b[0m params\u001b[38;5;241m.\u001b[39mapply_defaults()\n\u001b[1;32m    194\u001b[0m \u001b[38;5;66;03m# ignore self/cls and positional/keyword markers\u001b[39;00m\n",
      "File \u001b[0;32m/usr/lib64/python3.11/inspect.py:3212\u001b[0m, in \u001b[0;36mSignature.bind\u001b[0;34m(self, *args, **kwargs)\u001b[0m\n\u001b[1;32m   3207\u001b[0m \u001b[38;5;28;01mdef\u001b[39;00m \u001b[38;5;21mbind\u001b[39m(\u001b[38;5;28mself\u001b[39m, \u001b[38;5;241m/\u001b[39m, \u001b[38;5;241m*\u001b[39margs, \u001b[38;5;241m*\u001b[39m\u001b[38;5;241m*\u001b[39mkwargs):\n\u001b[1;32m   3208\u001b[0m \u001b[38;5;250m    \u001b[39m\u001b[38;5;124;03m\"\"\"Get a BoundArguments object, that maps the passed `args`\u001b[39;00m\n\u001b[1;32m   3209\u001b[0m \u001b[38;5;124;03m    and `kwargs` to the function's signature.  Raises `TypeError`\u001b[39;00m\n\u001b[1;32m   3210\u001b[0m \u001b[38;5;124;03m    if the passed arguments can not be bound.\u001b[39;00m\n\u001b[1;32m   3211\u001b[0m \u001b[38;5;124;03m    \"\"\"\u001b[39;00m\n\u001b[0;32m-> 3212\u001b[0m     \u001b[38;5;28;01mreturn\u001b[39;00m \u001b[38;5;28;43mself\u001b[39;49m\u001b[38;5;241;43m.\u001b[39;49m\u001b[43m_bind\u001b[49m\u001b[43m(\u001b[49m\u001b[43margs\u001b[49m\u001b[43m,\u001b[49m\u001b[43m \u001b[49m\u001b[43mkwargs\u001b[49m\u001b[43m)\u001b[49m\n",
      "File \u001b[0;32m/usr/lib64/python3.11/inspect.py:3182\u001b[0m, in \u001b[0;36mSignature._bind\u001b[0;34m(self, args, kwargs, partial)\u001b[0m\n\u001b[1;32m   3175\u001b[0m \u001b[38;5;28;01mexcept\u001b[39;00m \u001b[38;5;167;01mKeyError\u001b[39;00m:\n\u001b[1;32m   3176\u001b[0m     \u001b[38;5;66;03m# We have no value for this parameter.  It's fine though,\u001b[39;00m\n\u001b[1;32m   3177\u001b[0m     \u001b[38;5;66;03m# if it has a default value, or it is an '*args'-like\u001b[39;00m\n\u001b[1;32m   3178\u001b[0m     \u001b[38;5;66;03m# parameter, left alone by the processing of positional\u001b[39;00m\n\u001b[1;32m   3179\u001b[0m     \u001b[38;5;66;03m# arguments.\u001b[39;00m\n\u001b[1;32m   3180\u001b[0m     \u001b[38;5;28;01mif\u001b[39;00m (\u001b[38;5;129;01mnot\u001b[39;00m partial \u001b[38;5;129;01mand\u001b[39;00m param\u001b[38;5;241m.\u001b[39mkind \u001b[38;5;241m!=\u001b[39m _VAR_POSITIONAL \u001b[38;5;129;01mand\u001b[39;00m\n\u001b[1;32m   3181\u001b[0m                                         param\u001b[38;5;241m.\u001b[39mdefault \u001b[38;5;129;01mis\u001b[39;00m _empty):\n\u001b[0;32m-> 3182\u001b[0m         \u001b[38;5;28;01mraise\u001b[39;00m \u001b[38;5;167;01mTypeError\u001b[39;00m(\u001b[38;5;124m'\u001b[39m\u001b[38;5;124mmissing a required argument: \u001b[39m\u001b[38;5;132;01m{arg!r}\u001b[39;00m\u001b[38;5;124m'\u001b[39m\u001b[38;5;241m.\u001b[39m \\\n\u001b[1;32m   3183\u001b[0m                         \u001b[38;5;28mformat\u001b[39m(arg\u001b[38;5;241m=\u001b[39mparam_name)) \u001b[38;5;28;01mfrom\u001b[39;00m \u001b[38;5;28;01mNone\u001b[39;00m\n\u001b[1;32m   3185\u001b[0m \u001b[38;5;28;01melse\u001b[39;00m:\n\u001b[1;32m   3186\u001b[0m     \u001b[38;5;28;01mif\u001b[39;00m param\u001b[38;5;241m.\u001b[39mkind \u001b[38;5;241m==\u001b[39m _POSITIONAL_ONLY:\n\u001b[1;32m   3187\u001b[0m         \u001b[38;5;66;03m# This should never happen in case of a properly built\u001b[39;00m\n\u001b[1;32m   3188\u001b[0m         \u001b[38;5;66;03m# Signature object (but let's have this check here\u001b[39;00m\n\u001b[1;32m   3189\u001b[0m         \u001b[38;5;66;03m# to ensure correct behaviour just in case)\u001b[39;00m\n",
      "\u001b[0;31mTypeError\u001b[0m: missing a required argument: 'classes'"
     ]
    }
   ],
   "source": []
  },
  {
   "cell_type": "code",
   "execution_count": null,
   "metadata": {},
   "outputs": [
    {
     "data": {
      "text/plain": [
       "(6000, 20)"
      ]
     },
     "execution_count": 4,
     "metadata": {},
     "output_type": "execute_result"
    }
   ],
   "source": [
    "xtrain.shape"
   ]
  },
  {
   "cell_type": "code",
   "execution_count": null,
   "metadata": {},
   "outputs": [
    {
     "data": {
      "text/plain": [
       "480.0"
      ]
     },
     "execution_count": 5,
     "metadata": {},
     "output_type": "execute_result"
    }
   ],
   "source": [
    "(6000-6000*0.2)/10"
   ]
  },
  {
   "cell_type": "code",
   "execution_count": null,
   "metadata": {},
   "outputs": [
    {
     "name": "stderr",
     "output_type": "stream",
     "text": [
      "2024-03-02 12:18:28.255206: I external/local_tsl/tsl/cuda/cudart_stub.cc:31] Could not find cuda drivers on your machine, GPU will not be used.\n",
      "2024-03-02 12:18:28.293412: E external/local_xla/xla/stream_executor/cuda/cuda_dnn.cc:9261] Unable to register cuDNN factory: Attempting to register factory for plugin cuDNN when one has already been registered\n",
      "2024-03-02 12:18:28.293441: E external/local_xla/xla/stream_executor/cuda/cuda_fft.cc:607] Unable to register cuFFT factory: Attempting to register factory for plugin cuFFT when one has already been registered\n",
      "2024-03-02 12:18:28.294354: E external/local_xla/xla/stream_executor/cuda/cuda_blas.cc:1515] Unable to register cuBLAS factory: Attempting to register factory for plugin cuBLAS when one has already been registered\n",
      "2024-03-02 12:18:28.300056: I external/local_tsl/tsl/cuda/cudart_stub.cc:31] Could not find cuda drivers on your machine, GPU will not be used.\n",
      "2024-03-02 12:18:28.300717: I tensorflow/core/platform/cpu_feature_guard.cc:182] This TensorFlow binary is optimized to use available CPU instructions in performance-critical operations.\n",
      "To enable the following instructions: AVX2 FMA, in other operations, rebuild TensorFlow with the appropriate compiler flags.\n",
      "2024-03-02 12:18:29.310615: W tensorflow/compiler/tf2tensorrt/utils/py_utils.cc:38] TF-TRT Warning: Could not find TensorRT\n"
     ]
    },
    {
     "ename": "NameError",
     "evalue": "name 'pesos' is not defined",
     "output_type": "error",
     "traceback": [
      "\u001b[0;31m---------------------------------------------------------------------------\u001b[0m",
      "\u001b[0;31mNameError\u001b[0m                                 Traceback (most recent call last)",
      "Cell \u001b[0;32mIn[7], line 17\u001b[0m\n\u001b[1;32m      3\u001b[0m model \u001b[38;5;241m=\u001b[39m keras\u001b[38;5;241m.\u001b[39mmodels\u001b[38;5;241m.\u001b[39mSequential([\n\u001b[1;32m      4\u001b[0m     keras\u001b[38;5;241m.\u001b[39mlayers\u001b[38;5;241m.\u001b[39mDense(\u001b[38;5;241m50\u001b[39m,  activation\u001b[38;5;241m=\u001b[39m\u001b[38;5;124m'\u001b[39m\u001b[38;5;124mrelu\u001b[39m\u001b[38;5;124m'\u001b[39m, name\u001b[38;5;241m=\u001b[39m\u001b[38;5;124m'\u001b[39m\u001b[38;5;124mcamadaDeEntrada\u001b[39m\u001b[38;5;124m'\u001b[39m),\n\u001b[1;32m      5\u001b[0m     keras\u001b[38;5;241m.\u001b[39mlayers\u001b[38;5;241m.\u001b[39mDense(\u001b[38;5;241m100\u001b[39m, activation\u001b[38;5;241m=\u001b[39m\u001b[38;5;124m'\u001b[39m\u001b[38;5;124mrelu\u001b[39m\u001b[38;5;124m'\u001b[39m, name\u001b[38;5;241m=\u001b[39m\u001b[38;5;124m'\u001b[39m\u001b[38;5;124mcamadaOculta1\u001b[39m\u001b[38;5;124m'\u001b[39m),\n\u001b[0;32m   (...)\u001b[0m\n\u001b[1;32m      8\u001b[0m     keras\u001b[38;5;241m.\u001b[39mlayers\u001b[38;5;241m.\u001b[39mDense(\u001b[38;5;241m1\u001b[39m,   activation\u001b[38;5;241m=\u001b[39m\u001b[38;5;124m'\u001b[39m\u001b[38;5;124mrelu\u001b[39m\u001b[38;5;124m'\u001b[39m, name\u001b[38;5;241m=\u001b[39m\u001b[38;5;124m'\u001b[39m\u001b[38;5;124mcamadaDeSaida\u001b[39m\u001b[38;5;124m'\u001b[39m)\n\u001b[1;32m      9\u001b[0m ])\n\u001b[1;32m     11\u001b[0m model\u001b[38;5;241m.\u001b[39mcompile(\n\u001b[1;32m     12\u001b[0m     loss      \u001b[38;5;241m=\u001b[39m keras\u001b[38;5;241m.\u001b[39mlosses\u001b[38;5;241m.\u001b[39mbinary_crossentropy,\n\u001b[1;32m     13\u001b[0m     optimizer \u001b[38;5;241m=\u001b[39m keras\u001b[38;5;241m.\u001b[39moptimizers\u001b[38;5;241m.\u001b[39mAdam(),\n\u001b[1;32m     14\u001b[0m     metrics   \u001b[38;5;241m=\u001b[39m [keras\u001b[38;5;241m.\u001b[39mmetrics\u001b[38;5;241m.\u001b[39mbinary_accuracy]\n\u001b[1;32m     15\u001b[0m )\n\u001b[0;32m---> 17\u001b[0m history \u001b[38;5;241m=\u001b[39m model\u001b[38;5;241m.\u001b[39mfit(xtrain, ytrain, batch_size\u001b[38;5;241m=\u001b[39m\u001b[38;5;241m20\u001b[39m, epochs\u001b[38;5;241m=\u001b[39m\u001b[38;5;241m30\u001b[39m, validation_split\u001b[38;5;241m=\u001b[39m\u001b[38;5;241m0.2\u001b[39m, class_weight\u001b[38;5;241m=\u001b[39m\u001b[43mpesos\u001b[49m)\n",
      "\u001b[0;31mNameError\u001b[0m: name 'pesos' is not defined"
     ]
    }
   ],
   "source": [
    "import keras\n",
    "\n",
    "model = keras.models.Sequential([\n",
    "    keras.layers.Dense(50,  activation='relu', name='camadaDeEntrada'),\n",
    "    keras.layers.Dense(100, activation='relu', name='camadaOculta1'),\n",
    "    keras.layers.Dense(100, activation='relu', name='camadaOculta2'),\n",
    "    keras.layers.Dense(50,  activation='relu', name='camadaOculta3'),\n",
    "    keras.layers.Dense(1,   activation='relu', name='camadaDeSaida')\n",
    "])\n",
    "\n",
    "model.compile(\n",
    "    loss      = keras.losses.binary_crossentropy,\n",
    "    optimizer = keras.optimizers.Adam(),\n",
    "    metrics   = [keras.metrics.binary_accuracy]\n",
    ")\n",
    "\n",
    "history = model.fit(xtrain, ytrain, batch_size=20, epochs=30, validation_split=0.2, class_weight=pesos)"
   ]
  },
  {
   "cell_type": "code",
   "execution_count": null,
   "metadata": {},
   "outputs": [
    {
     "name": "stdout",
     "output_type": "stream",
     "text": [
      "63/63 [==============================] - 0s 1ms/step\n"
     ]
    }
   ],
   "source": [
    "pred = model.predict(xtest)>0.5"
   ]
  },
  {
   "cell_type": "code",
   "execution_count": null,
   "metadata": {},
   "outputs": [
    {
     "name": "stdout",
     "output_type": "stream",
     "text": [
      "              precision    recall  f1-score   support\n",
      "\n",
      "           0       0.87      0.85      0.86      1015\n",
      "           1       0.85      0.87      0.86       985\n",
      "\n",
      "    accuracy                           0.86      2000\n",
      "   macro avg       0.86      0.86      0.86      2000\n",
      "weighted avg       0.86      0.86      0.86      2000\n",
      "\n"
     ]
    }
   ],
   "source": [
    "print(classification_report(ytest, pred))"
   ]
  },
  {
   "cell_type": "code",
   "execution_count": null,
   "metadata": {},
   "outputs": [
    {
     "name": "stdout",
     "output_type": "stream",
     "text": [
      "You must install pydot (`pip install pydot`) and install graphviz (see instructions at https://graphviz.gitlab.io/download/) for plot_model to work.\n"
     ]
    }
   ],
   "source": [
    "keras.utils.plot_model(\n",
    "    model, to_file='img/ModelT1.png', show_shapes=False, show_dtype=True,\n",
    "    show_layer_names=True, rankdir='TB', expand_nested=False, dpi=96,\n",
    "    layer_range=None, show_layer_activations=True, show_trainable=False\n",
    ")"
   ]
  },
  {
   "cell_type": "code",
   "execution_count": null,
   "metadata": {},
   "outputs": [],
   "source": [
    "model.save('ModelSave/modelTreinando0.keras')"
   ]
  },
  {
   "cell_type": "code",
   "execution_count": null,
   "metadata": {},
   "outputs": [],
   "source": [
    "model = keras.models.load_model('ModelSave/modelTreinando0.keras')"
   ]
  },
  {
   "cell_type": "code",
   "execution_count": null,
   "metadata": {},
   "outputs": [
    {
     "name": "stdout",
     "output_type": "stream",
     "text": [
      "Epoch 1/30\n",
      "240/240 [==============================] - 2s 3ms/step - loss: 0.2262 - binary_accuracy: 0.9458 - val_loss: 1.0191 - val_binary_accuracy: 0.8492\n",
      "Epoch 2/30\n",
      "240/240 [==============================] - 0s 2ms/step - loss: 0.2085 - binary_accuracy: 0.9540 - val_loss: 1.0732 - val_binary_accuracy: 0.8500\n",
      "Epoch 3/30\n",
      "240/240 [==============================] - 0s 2ms/step - loss: 0.1997 - binary_accuracy: 0.9590 - val_loss: 1.1808 - val_binary_accuracy: 0.8533\n",
      "Epoch 4/30\n",
      "240/240 [==============================] - 0s 2ms/step - loss: 0.4132 - binary_accuracy: 0.9358 - val_loss: 1.5487 - val_binary_accuracy: 0.8033\n",
      "Epoch 5/30\n",
      "240/240 [==============================] - 0s 2ms/step - loss: 0.4716 - binary_accuracy: 0.8963 - val_loss: 0.6967 - val_binary_accuracy: 0.8325\n",
      "Epoch 6/30\n",
      "240/240 [==============================] - 0s 2ms/step - loss: 0.3144 - binary_accuracy: 0.9054 - val_loss: 0.6614 - val_binary_accuracy: 0.8192\n",
      "Epoch 7/30\n",
      "240/240 [==============================] - 0s 2ms/step - loss: 0.3105 - binary_accuracy: 0.9192 - val_loss: 0.8950 - val_binary_accuracy: 0.8475\n",
      "Epoch 8/30\n",
      "240/240 [==============================] - 0s 2ms/step - loss: 0.2553 - binary_accuracy: 0.9348 - val_loss: 0.9924 - val_binary_accuracy: 0.8442\n",
      "Epoch 9/30\n",
      "240/240 [==============================] - 0s 2ms/step - loss: 0.2259 - binary_accuracy: 0.9458 - val_loss: 1.0498 - val_binary_accuracy: 0.8517\n",
      "Epoch 10/30\n",
      "240/240 [==============================] - 0s 2ms/step - loss: 0.2008 - binary_accuracy: 0.9517 - val_loss: 1.1051 - val_binary_accuracy: 0.8417\n",
      "Epoch 11/30\n",
      "240/240 [==============================] - 0s 2ms/step - loss: 0.1893 - binary_accuracy: 0.9556 - val_loss: 1.1670 - val_binary_accuracy: 0.8483\n",
      "Epoch 12/30\n",
      "240/240 [==============================] - 0s 2ms/step - loss: 0.1784 - binary_accuracy: 0.9635 - val_loss: 1.2860 - val_binary_accuracy: 0.8467\n",
      "Epoch 13/30\n",
      "240/240 [==============================] - 1s 3ms/step - loss: 0.1655 - binary_accuracy: 0.9696 - val_loss: 1.3215 - val_binary_accuracy: 0.8350\n",
      "Epoch 14/30\n",
      "240/240 [==============================] - 1s 2ms/step - loss: 0.1596 - binary_accuracy: 0.9740 - val_loss: 1.4273 - val_binary_accuracy: 0.8467\n",
      "Epoch 15/30\n",
      "240/240 [==============================] - 0s 2ms/step - loss: 0.1578 - binary_accuracy: 0.9744 - val_loss: 1.3617 - val_binary_accuracy: 0.8517\n",
      "Epoch 16/30\n",
      "240/240 [==============================] - 0s 2ms/step - loss: 0.1733 - binary_accuracy: 0.9685 - val_loss: 1.5722 - val_binary_accuracy: 0.8467\n",
      "Epoch 17/30\n",
      "240/240 [==============================] - 0s 2ms/step - loss: 0.2306 - binary_accuracy: 0.9625 - val_loss: 1.3268 - val_binary_accuracy: 0.8458\n",
      "Epoch 18/30\n",
      "240/240 [==============================] - 0s 2ms/step - loss: 0.3298 - binary_accuracy: 0.9513 - val_loss: 1.4831 - val_binary_accuracy: 0.8417\n",
      "Epoch 19/30\n",
      "240/240 [==============================] - 0s 2ms/step - loss: 0.8172 - binary_accuracy: 0.9235 - val_loss: 1.9455 - val_binary_accuracy: 0.8367\n",
      "Epoch 20/30\n",
      "240/240 [==============================] - 0s 2ms/step - loss: 1.2469 - binary_accuracy: 0.8788 - val_loss: 1.2059 - val_binary_accuracy: 0.8425\n",
      "Epoch 21/30\n",
      "240/240 [==============================] - 0s 2ms/step - loss: 0.4748 - binary_accuracy: 0.8869 - val_loss: 0.8702 - val_binary_accuracy: 0.8292\n",
      "Epoch 22/30\n",
      "240/240 [==============================] - 0s 2ms/step - loss: 0.3261 - binary_accuracy: 0.9125 - val_loss: 0.9197 - val_binary_accuracy: 0.8325\n",
      "Epoch 23/30\n",
      "240/240 [==============================] - 0s 2ms/step - loss: 0.2837 - binary_accuracy: 0.9290 - val_loss: 0.9851 - val_binary_accuracy: 0.8450\n",
      "Epoch 24/30\n",
      "240/240 [==============================] - 0s 2ms/step - loss: 0.2465 - binary_accuracy: 0.9435 - val_loss: 1.0138 - val_binary_accuracy: 0.8467\n",
      "Epoch 25/30\n",
      "240/240 [==============================] - 0s 2ms/step - loss: 0.2748 - binary_accuracy: 0.9444 - val_loss: 1.1565 - val_binary_accuracy: 0.8475\n",
      "Epoch 26/30\n",
      "240/240 [==============================] - 0s 2ms/step - loss: 0.2356 - binary_accuracy: 0.9533 - val_loss: 1.1946 - val_binary_accuracy: 0.8517\n",
      "Epoch 27/30\n",
      "240/240 [==============================] - 0s 2ms/step - loss: 0.1989 - binary_accuracy: 0.9640 - val_loss: 1.2506 - val_binary_accuracy: 0.8517\n",
      "Epoch 28/30\n",
      "240/240 [==============================] - 0s 2ms/step - loss: 0.1806 - binary_accuracy: 0.9715 - val_loss: 1.3651 - val_binary_accuracy: 0.8500\n",
      "Epoch 29/30\n",
      "240/240 [==============================] - 0s 2ms/step - loss: 0.1663 - binary_accuracy: 0.9785 - val_loss: 1.4486 - val_binary_accuracy: 0.8425\n",
      "Epoch 30/30\n",
      "240/240 [==============================] - 0s 2ms/step - loss: 0.1572 - binary_accuracy: 0.9823 - val_loss: 1.5434 - val_binary_accuracy: 0.8450\n"
     ]
    }
   ],
   "source": [
    "history = model.fit(xtrain, ytrain, batch_size=20, epochs=30, validation_split=0.2, class_weight=pesos)"
   ]
  },
  {
   "cell_type": "code",
   "execution_count": 3,
   "metadata": {},
   "outputs": [],
   "source": [
    "import datetime\n",
    "log_dir = \"logs/fit/\" + datetime.datetime.now().strftime(\"%Y%m%d-%H%M%S\")\n",
    "tensorboard_callback = keras.callbacks.TensorBoard(log_dir=log_dir, histogram_freq=1)"
   ]
  },
  {
   "cell_type": "code",
   "execution_count": 4,
   "metadata": {},
   "outputs": [],
   "source": [
    "# Load the TensorBoard notebook extension\n",
    "%load_ext tensorboard"
   ]
  },
  {
   "cell_type": "code",
   "execution_count": 5,
   "metadata": {},
   "outputs": [],
   "source": [
    "# Clear any logs from previous runs\n",
    "%rm -rf ./logs/"
   ]
  },
  {
   "cell_type": "code",
   "execution_count": 6,
   "metadata": {},
   "outputs": [],
   "source": [
    "mnist = keras.datasets.mnist\n",
    "\n",
    "(x_train, y_train),(x_test, y_test) = mnist.load_data()\n",
    "x_train, x_test = x_train / 255.0, x_test / 255.0\n",
    "\n",
    "def create_model():\n",
    "  return keras.models.Sequential([\n",
    "    keras.layers.Flatten(input_shape=(28, 28)),\n",
    "    keras.layers.Dense(512, activation='relu'),\n",
    "    keras.layers.Dropout(0.2),\n",
    "    keras.layers.Dense(10, activation='softmax')\n",
    "  ])"
   ]
  },
  {
   "cell_type": "code",
   "execution_count": 7,
   "metadata": {},
   "outputs": [
    {
     "name": "stdout",
     "output_type": "stream",
     "text": [
      "Epoch 1/5\n"
     ]
    },
    {
     "name": "stderr",
     "output_type": "stream",
     "text": [
      "2024-03-02 12:37:33.328852: W external/local_tsl/tsl/framework/cpu_allocator_impl.cc:83] Allocation of 188160000 exceeds 10% of free system memory.\n"
     ]
    },
    {
     "name": "stdout",
     "output_type": "stream",
     "text": [
      "1875/1875 [==============================] - 18s 9ms/step - loss: 0.2181 - accuracy: 0.9363 - val_loss: 0.1084 - val_accuracy: 0.9656\n"
     ]
    },
    {
     "name": "stderr",
     "output_type": "stream",
     "text": [
      "2024-03-02 12:37:51.317607: W external/local_tsl/tsl/framework/cpu_allocator_impl.cc:83] Allocation of 96337920 exceeds 10% of free system memory.\n"
     ]
    },
    {
     "name": "stdout",
     "output_type": "stream",
     "text": [
      "Epoch 2/5\n",
      "1875/1875 [==============================] - 13s 7ms/step - loss: 0.0973 - accuracy: 0.9699 - val_loss: 0.0842 - val_accuracy: 0.9742\n",
      "Epoch 3/5\n",
      "   8/1875 [..............................] - ETA: 13s - loss: 0.0663 - accuracy: 0.9766"
     ]
    },
    {
     "name": "stderr",
     "output_type": "stream",
     "text": [
      "2024-03-02 12:38:04.710312: W external/local_tsl/tsl/framework/cpu_allocator_impl.cc:83] Allocation of 96337920 exceeds 10% of free system memory.\n"
     ]
    },
    {
     "name": "stdout",
     "output_type": "stream",
     "text": [
      "1875/1875 [==============================] - 13s 7ms/step - loss: 0.0696 - accuracy: 0.9783 - val_loss: 0.0690 - val_accuracy: 0.9798\n",
      "Epoch 4/5\n",
      "   9/1875 [..............................] - ETA: 11s - loss: 0.0641 - accuracy: 0.9757"
     ]
    },
    {
     "name": "stderr",
     "output_type": "stream",
     "text": [
      "2024-03-02 12:38:17.445847: W external/local_tsl/tsl/framework/cpu_allocator_impl.cc:83] Allocation of 96337920 exceeds 10% of free system memory.\n"
     ]
    },
    {
     "name": "stdout",
     "output_type": "stream",
     "text": [
      "1875/1875 [==============================] - 13s 7ms/step - loss: 0.0518 - accuracy: 0.9833 - val_loss: 0.0587 - val_accuracy: 0.9819\n",
      "Epoch 5/5\n",
      "   8/1875 [..............................] - ETA: 13s - loss: 0.0357 - accuracy: 0.9883"
     ]
    },
    {
     "name": "stderr",
     "output_type": "stream",
     "text": [
      "2024-03-02 12:38:30.695692: W external/local_tsl/tsl/framework/cpu_allocator_impl.cc:83] Allocation of 96337920 exceeds 10% of free system memory.\n"
     ]
    },
    {
     "name": "stdout",
     "output_type": "stream",
     "text": [
      "1875/1875 [==============================] - 14s 8ms/step - loss: 0.0442 - accuracy: 0.9858 - val_loss: 0.0687 - val_accuracy: 0.9797\n"
     ]
    },
    {
     "data": {
      "text/plain": [
       "<keras.src.callbacks.History at 0x7fa81d488e10>"
      ]
     },
     "execution_count": 7,
     "metadata": {},
     "output_type": "execute_result"
    }
   ],
   "source": [
    "model = create_model()\n",
    "model.compile(optimizer='adam',\n",
    "              loss='sparse_categorical_crossentropy',\n",
    "              metrics=['accuracy'])\n",
    "\n",
    "log_dir = \"logs/fit/\" + datetime.datetime.now().strftime(\"%Y%m%d-%H%M%S\")\n",
    "tensorboard_callback = keras.callbacks.TensorBoard(log_dir=log_dir, histogram_freq=1)\n",
    "\n",
    "model.fit(x=x_train, \n",
    "          y=y_train, \n",
    "          epochs=5, \n",
    "          validation_data=(x_test, y_test), \n",
    "          callbacks=[tensorboard_callback])"
   ]
  },
  {
   "cell_type": "code",
   "execution_count": 9,
   "metadata": {},
   "outputs": [
    {
     "name": "stdout",
     "output_type": "stream",
     "text": [
      "Known TensorBoard instances:\n",
      "  - port 6006: logdir logs/fit (started 0:01:29 ago; pid 27330)\n"
     ]
    }
   ],
   "source": [
    "from tensorboard import notebook\n",
    "notebook.list() # View open TensorBoard instances"
   ]
  },
  {
   "cell_type": "code",
   "execution_count": 10,
   "metadata": {},
   "outputs": [
    {
     "name": "stdout",
     "output_type": "stream",
     "text": [
      "Selecting TensorBoard with logdir logs/fit (started 0:01:54 ago; port 6006, pid 27330).\n"
     ]
    },
    {
     "data": {
      "text/html": [
       "\n",
       "      <iframe id=\"tensorboard-frame-39d90f082f4abb97\" width=\"100%\" height=\"1000\" frameborder=\"0\">\n",
       "      </iframe>\n",
       "      <script>\n",
       "        (function() {\n",
       "          const frame = document.getElementById(\"tensorboard-frame-39d90f082f4abb97\");\n",
       "          const url = new URL(\"http://localhost\");\n",
       "          const port = 6006;\n",
       "          if (port) {\n",
       "            url.port = port;\n",
       "          }\n",
       "          frame.src = url;\n",
       "        })();\n",
       "      </script>\n",
       "    "
      ],
      "text/plain": [
       "<IPython.core.display.HTML object>"
      ]
     },
     "metadata": {},
     "output_type": "display_data"
    }
   ],
   "source": [
    "#notebook.display(port=6006, height=1000)"
   ]
  }
 ],
 "metadata": {
  "kernelspec": {
   "display_name": "venvGlobal",
   "language": "python",
   "name": "python3"
  },
  "language_info": {
   "codemirror_mode": {
    "name": "ipython",
    "version": 3
   },
   "file_extension": ".py",
   "mimetype": "text/x-python",
   "name": "python",
   "nbconvert_exporter": "python",
   "pygments_lexer": "ipython3",
   "version": "3.11.8"
  }
 },
 "nbformat": 4,
 "nbformat_minor": 2
}
