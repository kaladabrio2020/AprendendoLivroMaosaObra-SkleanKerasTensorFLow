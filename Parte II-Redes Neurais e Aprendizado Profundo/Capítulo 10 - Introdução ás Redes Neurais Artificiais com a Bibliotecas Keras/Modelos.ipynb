{
 "cells": [
  {
   "cell_type": "code",
   "execution_count": 89,
   "metadata": {},
   "outputs": [],
   "source": [
    "import pandas as pd\n",
    "from sklearn.datasets import fetch_california_housing\n",
    "from sklearn.preprocessing import StandardScaler\n",
    "from sklearn.metrics import mean_absolute_error, mean_squared_error, r2_score\n",
    "from sklearn.model_selection import train_test_split"
   ]
  },
  {
   "cell_type": "code",
   "execution_count": 90,
   "metadata": {},
   "outputs": [],
   "source": [
    "X, y = fetch_california_housing(return_X_y=True)\n",
    "\n",
    "xtrainF, xtestF, ytrainF, ytestF = train_test_split(X, y, random_state=42 ,test_size=0.25)\n",
    "\n",
    "xtrain, xvalid , ytrain , yvalid = train_test_split(xtrainF, ytrainF, random_state=42, test_size=0.25)"
   ]
  },
  {
   "cell_type": "code",
   "execution_count": 91,
   "metadata": {},
   "outputs": [],
   "source": [
    "xtrain = StandardScaler().fit_transform(xtrain)\n",
    "xvalid = StandardScaler().fit_transform(xvalid)\n",
    "xtestF = StandardScaler().fit_transform(xtestF)"
   ]
  },
  {
   "cell_type": "markdown",
   "metadata": {},
   "source": [
    "# Modelo wide e deep "
   ]
  },
  {
   "cell_type": "code",
   "execution_count": 92,
   "metadata": {},
   "outputs": [],
   "source": [
    "import keras\n",
    "import tensorflow as tf"
   ]
  },
  {
   "cell_type": "code",
   "execution_count": 93,
   "metadata": {},
   "outputs": [],
   "source": [
    "input_  = keras.layers.Input(shape=xtrain.shape[1:])\n",
    "oculto1 = keras.layers.Dense(30, activation='relu')(input_)\n",
    "oculto2 = keras.layers.Dense(30, activation='relu')(oculto1)\n",
    "concat  = keras.layers.Concatenate()([input_,oculto2])\n",
    "output  = keras.layers.Dense(1)(concat)\n",
    "\n",
    "model = keras.Model(inputs=[input_],outputs=[output])"
   ]
  },
  {
   "cell_type": "code",
   "execution_count": 94,
   "metadata": {},
   "outputs": [
    {
     "data": {
      "image/png": "[encoded data removed]",
      "text/plain": [
       "<IPython.core.display.Image object>"
      ]
     },
     "execution_count": 94,
     "metadata": {},
     "output_type": "execute_result"
    }
   ],
   "source": [
    "keras.utils.plot_model(\n",
    "    model, to_file='img/ModelsWide&Deep.png', show_shapes=False, show_dtype=True,\n",
    "    show_layer_names=True, rankdir='TB', expand_nested=False, dpi=96,\n",
    "    layer_range=None, show_layer_activations=True, show_trainable=False\n",
    ")"
   ]
  },
  {
   "cell_type": "code",
   "execution_count": 95,
   "metadata": {},
   "outputs": [
    {
     "name": "stdout",
     "output_type": "stream",
     "text": [
      "Model: \"model_9\"\n",
      "__________________________________________________________________________________________________\n",
      " Layer (type)                Output Shape                 Param #   Connected to                  \n",
      "==================================================================================================\n",
      " input_4 (InputLayer)        [(None, 8)]                  0         []                            \n",
      "                                                                                                  \n",
      " dense_9 (Dense)             (None, 30)                   270       ['input_4[0][0]']             \n",
      "                                                                                                  \n",
      " dense_10 (Dense)            (None, 30)                   930       ['dense_9[0][0]']             \n",
      "                                                                                                  \n",
      " concatenate_3 (Concatenate  (None, 38)                   0         ['input_4[0][0]',             \n",
      " )                                                                   'dense_10[0][0]']            \n",
      "                                                                                                  \n",
      " dense_11 (Dense)            (None, 1)                    39        ['concatenate_3[0][0]']       \n",
      "                                                                                                  \n",
      "==================================================================================================\n",
      "Total params: 1239 (4.84 KB)\n",
      "Trainable params: 1239 (4.84 KB)\n",
      "Non-trainable params: 0 (0.00 Byte)\n",
      "__________________________________________________________________________________________________\n"
     ]
    }
   ],
   "source": [
    "model.summary()"
   ]
  },
  {
   "cell_type": "code",
   "execution_count": 96,
   "metadata": {},
   "outputs": [
    {
     "name": "stdout",
     "output_type": "stream",
     "text": [
      "Epoch 1/20\n"
     ]
    },
    {
     "name": "stdout",
     "output_type": "stream",
     "text": [
      "363/363 [==============================] - 2s 3ms/step - loss: 2.2434 - val_loss: 0.8506\n",
      "Epoch 2/20\n",
      "363/363 [==============================] - 1s 3ms/step - loss: 0.7725 - val_loss: 0.6411\n",
      "Epoch 3/20\n",
      "363/363 [==============================] - 1s 3ms/step - loss: 0.6255 - val_loss: 0.6004\n",
      "Epoch 4/20\n",
      "363/363 [==============================] - 1s 3ms/step - loss: 0.5813 - val_loss: 0.5600\n",
      "Epoch 5/20\n",
      "363/363 [==============================] - 1s 2ms/step - loss: 0.5493 - val_loss: 0.5339\n",
      "Epoch 6/20\n",
      "363/363 [==============================] - 1s 2ms/step - loss: 0.5279 - val_loss: 0.5157\n",
      "Epoch 7/20\n",
      "363/363 [==============================] - 1s 2ms/step - loss: 0.5086 - val_loss: 0.5071\n",
      "Epoch 8/20\n",
      "363/363 [==============================] - 1s 2ms/step - loss: 0.4949 - val_loss: 0.4949\n",
      "Epoch 9/20\n",
      "363/363 [==============================] - 1s 2ms/step - loss: 0.4832 - val_loss: 0.4894\n",
      "Epoch 10/20\n",
      "363/363 [==============================] - 1s 3ms/step - loss: 0.4735 - val_loss: 0.4814\n",
      "Epoch 11/20\n",
      "363/363 [==============================] - 1s 2ms/step - loss: 0.4650 - val_loss: 0.4759\n",
      "Epoch 12/20\n",
      "363/363 [==============================] - 1s 2ms/step - loss: 0.4562 - val_loss: 0.4739\n",
      "Epoch 13/20\n",
      "363/363 [==============================] - 1s 2ms/step - loss: 0.4502 - val_loss: 0.4712\n",
      "Epoch 14/20\n",
      "363/363 [==============================] - 1s 2ms/step - loss: 0.4444 - val_loss: 0.4668\n",
      "Epoch 15/20\n",
      "363/363 [==============================] - 1s 2ms/step - loss: 0.4388 - val_loss: 0.4689\n",
      "Epoch 16/20\n",
      "363/363 [==============================] - 1s 2ms/step - loss: 0.4350 - val_loss: 0.4615\n",
      "Epoch 17/20\n",
      "363/363 [==============================] - 1s 2ms/step - loss: 0.4316 - val_loss: 0.4628\n",
      "Epoch 18/20\n",
      "363/363 [==============================] - 1s 2ms/step - loss: 0.4273 - val_loss: 0.4599\n",
      "Epoch 19/20\n",
      "363/363 [==============================] - 1s 2ms/step - loss: 0.4247 - val_loss: 0.4568\n",
      "Epoch 20/20\n",
      "363/363 [==============================] - 1s 2ms/step - loss: 0.4214 - val_loss: 0.4552\n"
     ]
    }
   ],
   "source": [
    "model.compile(\n",
    "    optimizer = keras.optimizers.SGD(learning_rate=1e-3),\n",
    "    loss      = keras.losses.mean_squared_error,\n",
    ")\n",
    "history = model.fit(xtrain, ytrain, epochs=20, validation_data=(xvalid,yvalid), batch_size=32)"
   ]
  },
  {
   "cell_type": "code",
   "execution_count": 97,
   "metadata": {},
   "outputs": [
    {
     "name": "stdout",
     "output_type": "stream",
     "text": [
      "162/162 [==============================] - 0s 1ms/step - loss: 0.0000e+00\n"
     ]
    },
    {
     "data": {
      "text/plain": [
       "0.0"
      ]
     },
     "execution_count": 97,
     "metadata": {},
     "output_type": "execute_result"
    }
   ],
   "source": [
    "model.evaluate(xtestF)"
   ]
  },
  {
   "cell_type": "code",
   "execution_count": 98,
   "metadata": {},
   "outputs": [
    {
     "name": "stdout",
     "output_type": "stream",
     "text": [
      "162/162 [==============================] - 0s 2ms/step\n"
     ]
    }
   ],
   "source": [
    "predict = model.predict(xtestF)"
   ]
  },
  {
   "cell_type": "code",
   "execution_count": 99,
   "metadata": {},
   "outputs": [
    {
     "data": {
      "text/plain": [
       "(0.48236602129293593, 0.42885867907670244, 0.6758972103810039)"
      ]
     },
     "execution_count": 99,
     "metadata": {},
     "output_type": "execute_result"
    }
   ],
   "source": [
    "mean_absolute_error(ytestF,predict), mean_squared_error(ytestF, predict), r2_score(ytestF, predict)"
   ]
  },
  {
   "cell_type": "markdown",
   "metadata": {},
   "source": [
    "### Diversas entradas"
   ]
  },
  {
   "cell_type": "code",
   "execution_count": 100,
   "metadata": {},
   "outputs": [],
   "source": [
    "xtrainA, xtrainB = xtrain[:,:5], xtrain[:,2:]\n",
    "xvalidA, xvalidB = xvalid[:,:5], xvalid[:,2:]\n",
    "\n",
    "xtestA, xtestB = xtestF[:,:5], xtestF[:,2:]"
   ]
  },
  {
   "cell_type": "code",
   "execution_count": 101,
   "metadata": {},
   "outputs": [
    {
     "name": "stdout",
     "output_type": "stream",
     "text": [
      "Model: \"model_10\"\n",
      "__________________________________________________________________________________________________\n",
      " Layer (type)                Output Shape                 Param #   Connected to                  \n",
      "==================================================================================================\n",
      " deepInput (InputLayer)      [(None, 6)]                  0         []                            \n",
      "                                                                                                  \n",
      " Camada_oculta1 (Dense)      (None, 30)                   210       ['deepInput[0][0]']           \n",
      "                                                                                                  \n",
      " wideInput (InputLayer)      [(None, 5)]                  0         []                            \n",
      "                                                                                                  \n",
      " Camada_oculta2 (Dense)      (None, 30)                   930       ['Camada_oculta1[0][0]']      \n",
      "                                                                                                  \n",
      " concat (Concatenate)        (None, 35)                   0         ['wideInput[0][0]',           \n",
      "                                                                     'Camada_oculta2[0][0]']      \n",
      "                                                                                                  \n",
      " saida (Dense)               (None, 1)                    36        ['concat[0][0]']              \n",
      "                                                                                                  \n",
      "==================================================================================================\n",
      "Total params: 1176 (4.59 KB)\n",
      "Trainable params: 1176 (4.59 KB)\n",
      "Non-trainable params: 0 (0.00 Byte)\n",
      "__________________________________________________________________________________________________\n"
     ]
    }
   ],
   "source": [
    "input_A = keras.layers.Input(shape=xtrainA.shape[1:], name='wideInput')\n",
    "input_B = keras.layers.Input(shape=xtrainB.shape[1:], name='deepInput')\n",
    "\n",
    "oculta1 = keras.layers.Dense(30, activation='relu', name='Camada_oculta1')(input_B)\n",
    "oculta2 = keras.layers.Dense(30, activation='relu', name='Camada_oculta2')(oculta1)\n",
    "\n",
    "concat = keras.layers.Concatenate(name='concat')([input_A,oculta2])\n",
    "\n",
    "output = keras.layers.Dense(1, name='saida')(concat)\n",
    "\n",
    "model = keras.Model(inputs=[input_A,input_B], outputs=[output])\n",
    "model.summary()"
   ]
  },
  {
   "cell_type": "code",
   "execution_count": 102,
   "metadata": {},
   "outputs": [
    {
     "name": "stdout",
     "output_type": "stream",
     "text": [
      "Epoch 1/20\n",
      "363/363 [==============================] - 2s 3ms/step - loss: 2.1215 - mean_squared_error: 2.1215 - val_loss: 0.8545 - val_mean_squared_error: 0.8545\n",
      "Epoch 2/20\n",
      "363/363 [==============================] - 1s 2ms/step - loss: 0.7950 - mean_squared_error: 0.7950 - val_loss: 0.7250 - val_mean_squared_error: 0.7250\n",
      "Epoch 3/20\n",
      "363/363 [==============================] - 1s 2ms/step - loss: 0.7065 - mean_squared_error: 0.7065 - val_loss: 0.6684 - val_mean_squared_error: 0.6684\n",
      "Epoch 4/20\n",
      "363/363 [==============================] - 1s 2ms/step - loss: 0.6562 - mean_squared_error: 0.6562 - val_loss: 0.6281 - val_mean_squared_error: 0.6281\n",
      "Epoch 5/20\n",
      "363/363 [==============================] - 1s 2ms/step - loss: 0.6174 - mean_squared_error: 0.6174 - val_loss: 0.5949 - val_mean_squared_error: 0.5949\n",
      "Epoch 6/20\n",
      "363/363 [==============================] - 1s 3ms/step - loss: 0.5852 - mean_squared_error: 0.5852 - val_loss: 0.5721 - val_mean_squared_error: 0.5721\n",
      "Epoch 7/20\n",
      "363/363 [==============================] - 1s 3ms/step - loss: 0.5577 - mean_squared_error: 0.5577 - val_loss: 0.5520 - val_mean_squared_error: 0.5520\n",
      "Epoch 8/20\n",
      "363/363 [==============================] - 1s 2ms/step - loss: 0.5350 - mean_squared_error: 0.5350 - val_loss: 0.5317 - val_mean_squared_error: 0.5317\n",
      "Epoch 9/20\n",
      "363/363 [==============================] - 1s 2ms/step - loss: 0.5155 - mean_squared_error: 0.5155 - val_loss: 0.5229 - val_mean_squared_error: 0.5229\n",
      "Epoch 10/20\n",
      "363/363 [==============================] - 1s 2ms/step - loss: 0.4997 - mean_squared_error: 0.4997 - val_loss: 0.5092 - val_mean_squared_error: 0.5092\n",
      "Epoch 11/20\n",
      "363/363 [==============================] - 1s 2ms/step - loss: 0.4864 - mean_squared_error: 0.4864 - val_loss: 0.5016 - val_mean_squared_error: 0.5016\n",
      "Epoch 12/20\n",
      "363/363 [==============================] - 1s 2ms/step - loss: 0.4761 - mean_squared_error: 0.4761 - val_loss: 0.4958 - val_mean_squared_error: 0.4958\n",
      "Epoch 13/20\n",
      "363/363 [==============================] - 1s 2ms/step - loss: 0.4678 - mean_squared_error: 0.4678 - val_loss: 0.4912 - val_mean_squared_error: 0.4912\n",
      "Epoch 14/20\n",
      "363/363 [==============================] - 1s 2ms/step - loss: 0.4612 - mean_squared_error: 0.4612 - val_loss: 0.4861 - val_mean_squared_error: 0.4861\n",
      "Epoch 15/20\n",
      "363/363 [==============================] - 1s 2ms/step - loss: 0.4558 - mean_squared_error: 0.4558 - val_loss: 0.4846 - val_mean_squared_error: 0.4846\n",
      "Epoch 16/20\n",
      "363/363 [==============================] - 1s 2ms/step - loss: 0.4518 - mean_squared_error: 0.4518 - val_loss: 0.4839 - val_mean_squared_error: 0.4839\n",
      "Epoch 17/20\n",
      "363/363 [==============================] - 1s 2ms/step - loss: 0.4481 - mean_squared_error: 0.4481 - val_loss: 0.4800 - val_mean_squared_error: 0.4800\n",
      "Epoch 18/20\n",
      "363/363 [==============================] - 1s 2ms/step - loss: 0.4452 - mean_squared_error: 0.4452 - val_loss: 0.4780 - val_mean_squared_error: 0.4780\n",
      "Epoch 19/20\n",
      "363/363 [==============================] - 1s 2ms/step - loss: 0.4425 - mean_squared_error: 0.4425 - val_loss: 0.4779 - val_mean_squared_error: 0.4779\n",
      "Epoch 20/20\n",
      "363/363 [==============================] - 1s 2ms/step - loss: 0.4401 - mean_squared_error: 0.4401 - val_loss: 0.4786 - val_mean_squared_error: 0.4786\n"
     ]
    }
   ],
   "source": [
    "model.compile(\n",
    "    optimizer = keras.optimizers.SGD(learning_rate=1e-3),\n",
    "    loss      = keras.losses.mean_squared_error,\n",
    "    metrics   = [keras.losses.mean_squared_error] \n",
    "    )\n",
    "history =  model.fit((xtrainA, xtrainB) , ytrain, epochs=20, validation_data=((xvalidA,xvalidB),yvalid))"
   ]
  },
  {
   "cell_type": "code",
   "execution_count": 103,
   "metadata": {},
   "outputs": [
    {
     "data": {
      "text/plain": [
       "<Axes: >"
      ]
     },
     "execution_count": 103,
     "metadata": {},
     "output_type": "execute_result"
    },
    {
     "data": {
      "image/png": "[encoded data removed]",
      "text/plain": [
       "<Figure size 1000x500 with 1 Axes>"
      ]
     },
     "metadata": {},
     "output_type": "display_data"
    }
   ],
   "source": [
    "pd.DataFrame(history.history).plot(figsize=(10,5))"
   ]
  },
  {
   "cell_type": "code",
   "execution_count": 104,
   "metadata": {},
   "outputs": [
    {
     "name": "stdout",
     "output_type": "stream",
     "text": [
      "162/162 [==============================] - 0s 1ms/step - loss: 0.0000e+00 - mean_squared_error: 0.0000e+00\n"
     ]
    },
    {
     "data": {
      "text/plain": [
       "[0.0, 0.0]"
      ]
     },
     "execution_count": 104,
     "metadata": {},
     "output_type": "execute_result"
    }
   ],
   "source": [
    "model.evaluate((xtestA,xtestB))"
   ]
  },
  {
   "cell_type": "code",
   "execution_count": 113,
   "metadata": {},
   "outputs": [],
   "source": [
    "model.save('ModelSave/model_zero.keras')"
   ]
  },
  {
   "cell_type": "code",
   "execution_count": 106,
   "metadata": {},
   "outputs": [
    {
     "name": "stdout",
     "output_type": "stream",
     "text": [
      "162/162 [==============================] - 0s 2ms/step\n"
     ]
    }
   ],
   "source": [
    "predict = model.predict((xtestA,xtestB))"
   ]
  },
  {
   "cell_type": "code",
   "execution_count": 107,
   "metadata": {},
   "outputs": [
    {
     "data": {
      "text/plain": [
       "(0.4916146290173493, 0.4414859978962177, 0.6663543249166728)"
      ]
     },
     "execution_count": 107,
     "metadata": {},
     "output_type": "execute_result"
    }
   ],
   "source": [
    "mean_absolute_error(ytestF,predict), mean_squared_error(ytestF, predict), r2_score(ytestF, predict)"
   ]
  },
  {
   "cell_type": "markdown",
   "metadata": {},
   "source": [
    "### adicionar uma saida para regularização"
   ]
  },
  {
   "cell_type": "code",
   "execution_count": 108,
   "metadata": {},
   "outputs": [
    {
     "name": "stdout",
     "output_type": "stream",
     "text": [
      "Model: \"model_11\"\n",
      "__________________________________________________________________________________________________\n",
      " Layer (type)                Output Shape                 Param #   Connected to                  \n",
      "==================================================================================================\n",
      " deepInput (InputLayer)      [(None, 6)]                  0         []                            \n",
      "                                                                                                  \n",
      " Camada_oculta1 (Dense)      (None, 30)                   210       ['deepInput[0][0]']           \n",
      "                                                                                                  \n",
      " wideInput (InputLayer)      [(None, 5)]                  0         []                            \n",
      "                                                                                                  \n",
      " Camada_oculta2 (Dense)      (None, 30)                   930       ['Camada_oculta1[0][0]']      \n",
      "                                                                                                  \n",
      " concat (Concatenate)        (None, 35)                   0         ['wideInput[0][0]',           \n",
      "                                                                     'Camada_oculta2[0][0]']      \n",
      "                                                                                                  \n",
      " saidaPrincipal (Dense)      (None, 1)                    36        ['concat[0][0]']              \n",
      "                                                                                                  \n",
      " saidaAuxiliar (Dense)       (None, 1)                    31        ['Camada_oculta2[0][0]']      \n",
      "                                                                                                  \n",
      "==================================================================================================\n",
      "Total params: 1207 (4.71 KB)\n",
      "Trainable params: 1207 (4.71 KB)\n",
      "Non-trainable params: 0 (0.00 Byte)\n",
      "__________________________________________________________________________________________________\n"
     ]
    }
   ],
   "source": [
    "input_A = keras.layers.Input(shape=xtrainA.shape[1:], name='wideInput')\n",
    "input_B = keras.layers.Input(shape=xtrainB.shape[1:], name='deepInput')\n",
    "\n",
    "oculta1 = keras.layers.Dense(30, activation='relu', name='Camada_oculta1')(input_B)\n",
    "oculta2 = keras.layers.Dense(30, activation='relu', name='Camada_oculta2')(oculta1)\n",
    "\n",
    "concat = keras.layers.Concatenate(name='concat')([input_A,oculta2])\n",
    "\n",
    "output = keras.layers.Dense(1, name='saidaPrincipal')(concat)\n",
    "auxoutput = keras.layers.Dense(1, name='saidaAuxiliar')(oculta2)\n",
    "model = keras.Model(inputs=[input_A,input_B], outputs=[output,auxoutput])\n",
    "model.summary()"
   ]
  },
  {
   "cell_type": "code",
   "execution_count": 109,
   "metadata": {},
   "outputs": [
    {
     "data": {
      "image/png": "[encoded data removed]",
      "text/plain": [
       "<IPython.core.display.Image object>"
      ]
     },
     "execution_count": 109,
     "metadata": {},
     "output_type": "execute_result"
    }
   ],
   "source": [
    "keras.utils.plot_model(\n",
    "    model, to_file='img/ModelAux.png', show_shapes=False, show_dtype=True,\n",
    "    show_layer_names=True, rankdir='TB', expand_nested=False, dpi=96,\n",
    "    layer_range=None, show_layer_activations=True, show_trainable=False\n",
    ")"
   ]
  },
  {
   "cell_type": "code",
   "execution_count": 110,
   "metadata": {},
   "outputs": [],
   "source": [
    "model.save('ModelSave/model.keras')"
   ]
  },
  {
   "cell_type": "markdown",
   "metadata": {},
   "source": [
    "# Reload Model"
   ]
  },
  {
   "cell_type": "code",
   "execution_count": 131,
   "metadata": {},
   "outputs": [],
   "source": [
    "model0 = keras.saving.load_model('ModelSave/model_zero.keras')"
   ]
  }
 ],
 "metadata": {
  "kernelspec": {
   "display_name": "venvGlobal",
   "language": "python",
   "name": "python3"
  },
  "language_info": {
   "codemirror_mode": {
    "name": "ipython",
    "version": 3
   },
   "file_extension": ".py",
   "mimetype": "text/x-python",
   "name": "python",
   "nbconvert_exporter": "python",
   "pygments_lexer": "ipython3",
   "version": "3.11.8"
  }
 },
 "nbformat": 4,
 "nbformat_minor": 2
}
