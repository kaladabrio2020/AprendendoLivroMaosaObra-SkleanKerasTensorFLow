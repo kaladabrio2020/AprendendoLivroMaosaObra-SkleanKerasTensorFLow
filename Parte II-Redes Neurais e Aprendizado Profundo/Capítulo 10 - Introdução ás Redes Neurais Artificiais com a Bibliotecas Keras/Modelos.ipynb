{
 "cells": [
  {
   "cell_type": "code",
   "execution_count": 2,
   "metadata": {},
   "outputs": [
    {
     "name": "stderr",
     "output_type": "stream",
     "text": [
      "C:\\Users\\mateu\\AppData\\Local\\Temp\\ipykernel_12592\\179686575.py:1: DeprecationWarning: \n",
      "Pyarrow will become a required dependency of pandas in the next major release of pandas (pandas 3.0),\n",
      "(to allow more performant data types, such as the Arrow string type, and better interoperability with other libraries)\n",
      "but was not found to be installed on your system.\n",
      "If this would cause problems for you,\n",
      "please provide us feedback at https://github.com/pandas-dev/pandas/issues/54466\n",
      "        \n",
      "  import pandas as pd\n"
     ]
    }
   ],
   "source": [
    "import pandas as pd\n",
    "from sklearn.datasets import fetch_california_housing\n",
    "from sklearn.preprocessing import StandardScaler\n",
    "from sklearn.metrics import mean_absolute_error, mean_squared_error, r2_score\n",
    "from sklearn.model_selection import train_test_split"
   ]
  },
  {
   "cell_type": "code",
   "execution_count": 3,
   "metadata": {},
   "outputs": [],
   "source": [
    "X, y = fetch_california_housing(return_X_y=True)\n",
    "\n",
    "xtrainF, xtestF, ytrainF, ytestF = train_test_split(X, y, random_state=42 ,test_size=0.25)\n",
    "\n",
    "xtrain, xvalid , ytrain , yvalid = train_test_split(xtrainF, ytrainF, random_state=42, test_size=0.25)"
   ]
  },
  {
   "cell_type": "code",
   "execution_count": 4,
   "metadata": {},
   "outputs": [],
   "source": [
    "xtrain = StandardScaler().fit_transform(xtrain)\n",
    "xvalid = StandardScaler().fit_transform(xvalid)\n",
    "xtestF = StandardScaler().fit_transform(xtestF)"
   ]
  },
  {
   "cell_type": "markdown",
   "metadata": {},
   "source": [
    "# Modelo wide e deep "
   ]
  },
  {
   "cell_type": "code",
   "execution_count": 5,
   "metadata": {},
   "outputs": [
    {
     "name": "stdout",
     "output_type": "stream",
     "text": [
      "WARNING:tensorflow:From c:\\Users\\mateu\\Documents\\venvGlobal\\Lib\\site-packages\\keras\\src\\losses.py:2976: The name tf.losses.sparse_softmax_cross_entropy is deprecated. Please use tf.compat.v1.losses.sparse_softmax_cross_entropy instead.\n",
      "\n"
     ]
    }
   ],
   "source": [
    "import keras"
   ]
  },
  {
   "cell_type": "code",
   "execution_count": 6,
   "metadata": {},
   "outputs": [
    {
     "name": "stdout",
     "output_type": "stream",
     "text": [
      "WARNING:tensorflow:From c:\\Users\\mateu\\Documents\\venvGlobal\\Lib\\site-packages\\keras\\src\\backend.py:1398: The name tf.executing_eagerly_outside_functions is deprecated. Please use tf.compat.v1.executing_eagerly_outside_functions instead.\n",
      "\n"
     ]
    }
   ],
   "source": [
    "input_  = keras.layers.Input(shape=xtrain.shape[1:])\n",
    "oculto1 = keras.layers.Dense(30, activation='relu')(input_)\n",
    "oculto2 = keras.layers.Dense(30, activation='relu')(oculto1)\n",
    "concat  = keras.layers.Concatenate()([input_,oculto2])\n",
    "output  = keras.layers.Dense(1)(concat)\n",
    "\n",
    "model = keras.Model(inputs=[input_],outputs=[output])"
   ]
  },
  {
   "cell_type": "code",
   "execution_count": 7,
   "metadata": {},
   "outputs": [
    {
     "data": {
      "image/png": "[encoded data removed]",
      "text/plain": [
       "<IPython.core.display.Image object>"
      ]
     },
     "execution_count": 7,
     "metadata": {},
     "output_type": "execute_result"
    }
   ],
   "source": [
    "keras.utils.plot_model(\n",
    "    model, to_file='img/ModelsWide&Deep.png', show_shapes=False, show_dtype=True,\n",
    "    show_layer_names=True, rankdir='TB', expand_nested=False, dpi=96,\n",
    "    layer_range=None, show_layer_activations=True, show_trainable=False\n",
    ")"
   ]
  },
  {
   "cell_type": "code",
   "execution_count": 8,
   "metadata": {},
   "outputs": [
    {
     "name": "stdout",
     "output_type": "stream",
     "text": [
      "Model: \"model\"\n",
      "__________________________________________________________________________________________________\n",
      " Layer (type)                Output Shape                 Param #   Connected to                  \n",
      "==================================================================================================\n",
      " input_1 (InputLayer)        [(None, 8)]                  0         []                            \n",
      "                                                                                                  \n",
      " dense (Dense)               (None, 30)                   270       ['input_1[0][0]']             \n",
      "                                                                                                  \n",
      " dense_1 (Dense)             (None, 30)                   930       ['dense[0][0]']               \n",
      "                                                                                                  \n",
      " concatenate (Concatenate)   (None, 38)                   0         ['input_1[0][0]',             \n",
      "                                                                     'dense_1[0][0]']             \n",
      "                                                                                                  \n",
      " dense_2 (Dense)             (None, 1)                    39        ['concatenate[0][0]']         \n",
      "                                                                                                  \n",
      "==================================================================================================\n",
      "Total params: 1239 (4.84 KB)\n",
      "Trainable params: 1239 (4.84 KB)\n",
      "Non-trainable params: 0 (0.00 Byte)\n",
      "__________________________________________________________________________________________________\n"
     ]
    }
   ],
   "source": [
    "model.summary()"
   ]
  },
  {
   "cell_type": "code",
   "execution_count": 9,
   "metadata": {},
   "outputs": [
    {
     "name": "stdout",
     "output_type": "stream",
     "text": [
      "Epoch 1/20\n",
      "WARNING:tensorflow:From c:\\Users\\mateu\\Documents\\venvGlobal\\Lib\\site-packages\\keras\\src\\utils\\tf_utils.py:492: The name tf.ragged.RaggedTensorValue is deprecated. Please use tf.compat.v1.ragged.RaggedTensorValue instead.\n",
      "\n",
      "363/363 [==============================] - 2s 4ms/step - loss: 2.1663 - val_loss: 0.7717\n",
      "Epoch 2/20\n",
      "363/363 [==============================] - 1s 3ms/step - loss: 0.6974 - val_loss: 0.6467\n",
      "Epoch 3/20\n",
      "363/363 [==============================] - 1s 4ms/step - loss: 0.6181 - val_loss: 0.6066\n",
      "Epoch 4/20\n",
      "363/363 [==============================] - 1s 3ms/step - loss: 0.5775 - val_loss: 0.5818\n",
      "Epoch 5/20\n",
      "363/363 [==============================] - 1s 4ms/step - loss: 0.5471 - val_loss: 0.5564\n",
      "Epoch 6/20\n",
      "363/363 [==============================] - 1s 4ms/step - loss: 0.5228 - val_loss: 0.5427\n",
      "Epoch 7/20\n",
      "363/363 [==============================] - 1s 3ms/step - loss: 0.5037 - val_loss: 0.5298\n",
      "Epoch 8/20\n",
      "363/363 [==============================] - 1s 4ms/step - loss: 0.4885 - val_loss: 0.5165\n",
      "Epoch 9/20\n",
      "363/363 [==============================] - 1s 4ms/step - loss: 0.4763 - val_loss: 0.5090\n",
      "Epoch 10/20\n",
      "363/363 [==============================] - 1s 3ms/step - loss: 0.4663 - val_loss: 0.4998\n",
      "Epoch 11/20\n",
      "363/363 [==============================] - 1s 3ms/step - loss: 0.4577 - val_loss: 0.4928\n",
      "Epoch 12/20\n",
      "363/363 [==============================] - 1s 3ms/step - loss: 0.4503 - val_loss: 0.4884\n",
      "Epoch 13/20\n",
      "363/363 [==============================] - 1s 3ms/step - loss: 0.4439 - val_loss: 0.4811\n",
      "Epoch 14/20\n",
      "363/363 [==============================] - 1s 3ms/step - loss: 0.4379 - val_loss: 0.4760\n",
      "Epoch 15/20\n",
      "363/363 [==============================] - 1s 3ms/step - loss: 0.4332 - val_loss: 0.4718\n",
      "Epoch 16/20\n",
      "363/363 [==============================] - 1s 3ms/step - loss: 0.4284 - val_loss: 0.4682\n",
      "Epoch 17/20\n",
      "363/363 [==============================] - 1s 3ms/step - loss: 0.4239 - val_loss: 0.4648\n",
      "Epoch 18/20\n",
      "363/363 [==============================] - 1s 4ms/step - loss: 0.4204 - val_loss: 0.4627\n",
      "Epoch 19/20\n",
      "363/363 [==============================] - 1s 3ms/step - loss: 0.4161 - val_loss: 0.4582\n",
      "Epoch 20/20\n",
      "363/363 [==============================] - 1s 3ms/step - loss: 0.4131 - val_loss: 0.4565\n"
     ]
    }
   ],
   "source": [
    "model.compile(\n",
    "    optimizer = keras.optimizers.SGD(learning_rate=1e-3),\n",
    "    loss      = keras.losses.mean_squared_error,\n",
    ")\n",
    "history = model.fit(xtrain, ytrain, epochs=20, validation_data=(xvalid,yvalid), batch_size=32)"
   ]
  },
  {
   "cell_type": "code",
   "execution_count": 10,
   "metadata": {},
   "outputs": [
    {
     "name": "stdout",
     "output_type": "stream",
     "text": [
      "162/162 [==============================] - 0s 2ms/step - loss: 0.0000e+00\n"
     ]
    },
    {
     "data": {
      "text/plain": [
       "0.0"
      ]
     },
     "execution_count": 10,
     "metadata": {},
     "output_type": "execute_result"
    }
   ],
   "source": [
    "model.evaluate(xtestF)"
   ]
  },
  {
   "cell_type": "code",
   "execution_count": 11,
   "metadata": {},
   "outputs": [
    {
     "name": "stdout",
     "output_type": "stream",
     "text": [
      "162/162 [==============================] - 0s 2ms/step\n"
     ]
    }
   ],
   "source": [
    "predict = model.predict(xtestF)"
   ]
  },
  {
   "cell_type": "code",
   "execution_count": 12,
   "metadata": {},
   "outputs": [
    {
     "data": {
      "text/plain": [
       "(0.4677470903777226, 0.4119092774073547, 0.6887064378291583)"
      ]
     },
     "execution_count": 12,
     "metadata": {},
     "output_type": "execute_result"
    }
   ],
   "source": [
    "mean_absolute_error(ytestF,predict), mean_squared_error(ytestF, predict), r2_score(ytestF, predict)"
   ]
  },
  {
   "cell_type": "markdown",
   "metadata": {},
   "source": [
    "### Diversas entradas"
   ]
  },
  {
   "cell_type": "code",
   "execution_count": 13,
   "metadata": {},
   "outputs": [],
   "source": [
    "xtrainA, xtrainB = xtrain[:,:5], xtrain[:,2:]\n",
    "xvalidA, xvalidB = xvalid[:,:5], xvalid[:,2:]\n",
    "\n",
    "xtestA, xtestB = xtestF[:,:5], xtestF[:,2:]"
   ]
  },
  {
   "cell_type": "code",
   "execution_count": 14,
   "metadata": {},
   "outputs": [
    {
     "name": "stdout",
     "output_type": "stream",
     "text": [
      "Model: \"model_1\"\n",
      "__________________________________________________________________________________________________\n",
      " Layer (type)                Output Shape                 Param #   Connected to                  \n",
      "==================================================================================================\n",
      " deepInput (InputLayer)      [(None, 6)]                  0         []                            \n",
      "                                                                                                  \n",
      " Camada_oculta1 (Dense)      (None, 30)                   210       ['deepInput[0][0]']           \n",
      "                                                                                                  \n",
      " wideInput (InputLayer)      [(None, 5)]                  0         []                            \n",
      "                                                                                                  \n",
      " Camada_oculta2 (Dense)      (None, 30)                   930       ['Camada_oculta1[0][0]']      \n",
      "                                                                                                  \n",
      " concat (Concatenate)        (None, 35)                   0         ['wideInput[0][0]',           \n",
      "                                                                     'Camada_oculta2[0][0]']      \n",
      "                                                                                                  \n",
      " saida (Dense)               (None, 1)                    36        ['concat[0][0]']              \n",
      "                                                                                                  \n",
      "==================================================================================================\n",
      "Total params: 1176 (4.59 KB)\n",
      "Trainable params: 1176 (4.59 KB)\n",
      "Non-trainable params: 0 (0.00 Byte)\n"
     ]
    },
    {
     "name": "stdout",
     "output_type": "stream",
     "text": [
      "__________________________________________________________________________________________________\n"
     ]
    }
   ],
   "source": [
    "input_A = keras.layers.Input(shape=xtrainA.shape[1:], name='wideInput')\n",
    "input_B = keras.layers.Input(shape=xtrainB.shape[1:], name='deepInput')\n",
    "\n",
    "oculta1 = keras.layers.Dense(30, activation='relu', name='Camada_oculta1')(input_B)\n",
    "oculta2 = keras.layers.Dense(30, activation='relu', name='Camada_oculta2')(oculta1)\n",
    "\n",
    "concat = keras.layers.Concatenate(name='concat')([input_A,oculta2])\n",
    "\n",
    "output = keras.layers.Dense(1, name='saida')(concat)\n",
    "\n",
    "model = keras.Model(inputs=[input_A,input_B], outputs=[output])\n",
    "model.summary()"
   ]
  },
  {
   "cell_type": "code",
   "execution_count": 15,
   "metadata": {},
   "outputs": [
    {
     "name": "stdout",
     "output_type": "stream",
     "text": [
      "Epoch 1/20\n",
      "WARNING:tensorflow:From c:\\Users\\mateu\\Documents\\venvGlobal\\Lib\\site-packages\\keras\\src\\engine\\base_layer_utils.py:384: The name tf.executing_eagerly_outside_functions is deprecated. Please use tf.compat.v1.executing_eagerly_outside_functions instead.\n",
      "\n",
      "363/363 [==============================] - 2s 3ms/step - loss: 2.4413 - mean_absolute_error: 1.1307 - val_loss: 1.0167 - val_mean_absolute_error: 0.7633\n",
      "Epoch 2/20\n",
      "363/363 [==============================] - 1s 3ms/step - loss: 0.8283 - mean_absolute_error: 0.6898 - val_loss: 0.7639 - val_mean_absolute_error: 0.6673\n",
      "Epoch 3/20\n",
      "363/363 [==============================] - 1s 3ms/step - loss: 0.6593 - mean_absolute_error: 0.6115 - val_loss: 0.6803 - val_mean_absolute_error: 0.6204\n",
      "Epoch 4/20\n",
      "363/363 [==============================] - 1s 3ms/step - loss: 0.5919 - mean_absolute_error: 0.5721 - val_loss: 0.6366 - val_mean_absolute_error: 0.5990\n",
      "Epoch 5/20\n",
      "363/363 [==============================] - 1s 3ms/step - loss: 0.5522 - mean_absolute_error: 0.5484 - val_loss: 0.6048 - val_mean_absolute_error: 0.5822\n",
      "Epoch 6/20\n",
      "363/363 [==============================] - 1s 2ms/step - loss: 0.5242 - mean_absolute_error: 0.5304 - val_loss: 0.5804 - val_mean_absolute_error: 0.5713\n",
      "Epoch 7/20\n",
      "363/363 [==============================] - 1s 3ms/step - loss: 0.5032 - mean_absolute_error: 0.5188 - val_loss: 0.5602 - val_mean_absolute_error: 0.5588\n",
      "Epoch 8/20\n",
      "363/363 [==============================] - 1s 3ms/step - loss: 0.4873 - mean_absolute_error: 0.5084 - val_loss: 0.5452 - val_mean_absolute_error: 0.5511\n",
      "Epoch 9/20\n",
      "363/363 [==============================] - 1s 3ms/step - loss: 0.4749 - mean_absolute_error: 0.5015 - val_loss: 0.5317 - val_mean_absolute_error: 0.5413\n",
      "Epoch 10/20\n",
      "363/363 [==============================] - 1s 3ms/step - loss: 0.4655 - mean_absolute_error: 0.4945 - val_loss: 0.5270 - val_mean_absolute_error: 0.5435\n",
      "Epoch 11/20\n",
      "363/363 [==============================] - 1s 3ms/step - loss: 0.4582 - mean_absolute_error: 0.4907 - val_loss: 0.5177 - val_mean_absolute_error: 0.5371\n",
      "Epoch 12/20\n",
      "363/363 [==============================] - 1s 2ms/step - loss: 0.4513 - mean_absolute_error: 0.4873 - val_loss: 0.5102 - val_mean_absolute_error: 0.5301\n",
      "Epoch 13/20\n",
      "363/363 [==============================] - 1s 3ms/step - loss: 0.4464 - mean_absolute_error: 0.4834 - val_loss: 0.5095 - val_mean_absolute_error: 0.5347\n",
      "Epoch 14/20\n",
      "363/363 [==============================] - 1s 3ms/step - loss: 0.4420 - mean_absolute_error: 0.4812 - val_loss: 0.5046 - val_mean_absolute_error: 0.5296\n",
      "Epoch 15/20\n",
      "363/363 [==============================] - 1s 3ms/step - loss: 0.4383 - mean_absolute_error: 0.4788 - val_loss: 0.5004 - val_mean_absolute_error: 0.5254\n",
      "Epoch 16/20\n",
      "363/363 [==============================] - 1s 3ms/step - loss: 0.4350 - mean_absolute_error: 0.4764 - val_loss: 0.4959 - val_mean_absolute_error: 0.5248\n",
      "Epoch 17/20\n",
      "363/363 [==============================] - 1s 2ms/step - loss: 0.4315 - mean_absolute_error: 0.4747 - val_loss: 0.4945 - val_mean_absolute_error: 0.5253\n",
      "Epoch 18/20\n",
      "363/363 [==============================] - 1s 2ms/step - loss: 0.4292 - mean_absolute_error: 0.4728 - val_loss: 0.4918 - val_mean_absolute_error: 0.5227\n",
      "Epoch 19/20\n",
      "363/363 [==============================] - 1s 2ms/step - loss: 0.4266 - mean_absolute_error: 0.4714 - val_loss: 0.4886 - val_mean_absolute_error: 0.5201\n",
      "Epoch 20/20\n",
      "363/363 [==============================] - 1s 2ms/step - loss: 0.4241 - mean_absolute_error: 0.4697 - val_loss: 0.4882 - val_mean_absolute_error: 0.5216\n"
     ]
    }
   ],
   "source": [
    "model.compile(\n",
    "    optimizer = keras.optimizers.SGD(learning_rate=1e-3),\n",
    "    loss      = keras.losses.mean_squared_error,\n",
    "    metrics   = [keras.metrics.mean_absolute_error] \n",
    "    )\n",
    "history =  model.fit((xtrainA, xtrainB) , ytrain, epochs=20, validation_data=((xvalidA,xvalidB),yvalid))"
   ]
  },
  {
   "cell_type": "code",
   "execution_count": 16,
   "metadata": {},
   "outputs": [
    {
     "data": {
      "text/plain": [
       "<Axes: >"
      ]
     },
     "execution_count": 16,
     "metadata": {},
     "output_type": "execute_result"
    },
    {
     "data": {
      "image/png": "[encoded data removed]",
      "text/plain": [
       "<Figure size 1000x500 with 1 Axes>"
      ]
     },
     "metadata": {},
     "output_type": "display_data"
    }
   ],
   "source": [
    "pd.DataFrame(history.history).plot(figsize=(10,5))"
   ]
  },
  {
   "cell_type": "code",
   "execution_count": 17,
   "metadata": {},
   "outputs": [
    {
     "name": "stdout",
     "output_type": "stream",
     "text": [
      "162/162 [==============================] - 0s 1ms/step - loss: 0.0000e+00 - mean_absolute_error: 0.0000e+00\n"
     ]
    },
    {
     "data": {
      "text/plain": [
       "[0.0, 0.0]"
      ]
     },
     "execution_count": 17,
     "metadata": {},
     "output_type": "execute_result"
    }
   ],
   "source": [
    "model.evaluate((xtestA,xtestB))"
   ]
  },
  {
   "cell_type": "code",
   "execution_count": 18,
   "metadata": {},
   "outputs": [
    {
     "name": "stdout",
     "output_type": "stream",
     "text": [
      "162/162 [==============================] - 0s 2ms/step\n"
     ]
    }
   ],
   "source": [
    "predict = model.predict((xtestA,xtestB))"
   ]
  },
  {
   "cell_type": "code",
   "execution_count": 19,
   "metadata": {},
   "outputs": [
    {
     "data": {
      "text/plain": [
       "(0.4855450682005143, 0.42893438105751935, 0.6758399998723692)"
      ]
     },
     "execution_count": 19,
     "metadata": {},
     "output_type": "execute_result"
    }
   ],
   "source": [
    "mean_absolute_error(ytestF,predict), mean_squared_error(ytestF, predict), r2_score(ytestF, predict)"
   ]
  },
  {
   "cell_type": "markdown",
   "metadata": {},
   "source": [
    "### adicionar uma saida para regularização"
   ]
  },
  {
   "cell_type": "code",
   "execution_count": null,
   "metadata": {},
   "outputs": [],
   "source": []
  }
 ],
 "metadata": {
  "kernelspec": {
   "display_name": "venvGlobal",
   "language": "python",
   "name": "python3"
  },
  "language_info": {
   "codemirror_mode": {
    "name": "ipython",
    "version": 3
   },
   "file_extension": ".py",
   "mimetype": "text/x-python",
   "name": "python",
   "nbconvert_exporter": "python",
   "pygments_lexer": "ipython3",
   "version": "3.11.8"
  }
 },
 "nbformat": 4,
 "nbformat_minor": 2
}
