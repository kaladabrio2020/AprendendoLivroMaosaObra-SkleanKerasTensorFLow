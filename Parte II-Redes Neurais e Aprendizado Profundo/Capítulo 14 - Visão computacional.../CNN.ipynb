{
 "cells": [
  {
   "cell_type": "code",
   "execution_count": 1,
   "metadata": {},
   "outputs": [
    {
     "name": "stderr",
     "output_type": "stream",
     "text": [
      "2024-04-25 19:02:41.415832: I external/local_tsl/tsl/cuda/cudart_stub.cc:31] Could not find cuda drivers on your machine, GPU will not be used.\n",
      "2024-04-25 19:02:41.538095: E external/local_xla/xla/stream_executor/cuda/cuda_dnn.cc:9261] Unable to register cuDNN factory: Attempting to register factory for plugin cuDNN when one has already been registered\n",
      "2024-04-25 19:02:41.538148: E external/local_xla/xla/stream_executor/cuda/cuda_fft.cc:607] Unable to register cuFFT factory: Attempting to register factory for plugin cuFFT when one has already been registered\n",
      "2024-04-25 19:02:41.550985: E external/local_xla/xla/stream_executor/cuda/cuda_blas.cc:1515] Unable to register cuBLAS factory: Attempting to register factory for plugin cuBLAS when one has already been registered\n",
      "2024-04-25 19:02:41.582746: I external/local_tsl/tsl/cuda/cudart_stub.cc:31] Could not find cuda drivers on your machine, GPU will not be used.\n",
      "2024-04-25 19:02:41.583767: I tensorflow/core/platform/cpu_feature_guard.cc:182] This TensorFlow binary is optimized to use available CPU instructions in performance-critical operations.\n",
      "To enable the following instructions: AVX2 FMA, in other operations, rebuild TensorFlow with the appropriate compiler flags.\n",
      "2024-04-25 19:02:43.813629: W tensorflow/compiler/tf2tensorrt/utils/py_utils.cc:38] TF-TRT Warning: Could not find TensorRT\n"
     ]
    }
   ],
   "source": [
    "import os\n",
    "import keras\n",
    "import tensorflow as tf\n",
    "os.environ['TF_CPP_MIN_LOG_LEVEL'] = '3'"
   ]
  },
  {
   "cell_type": "code",
   "execution_count": 2,
   "metadata": {},
   "outputs": [],
   "source": [
    "from functools import partial\n",
    "def model():\n",
    "    Conv2D = partial(\n",
    "        keras.layers.Conv2D,\n",
    "        activation=keras.activations.relu,\n",
    "        padding   ='same',\n",
    "    )\n",
    "    model = keras.models.Sequential(\n",
    "        layers=[\n",
    "            Conv2D(filters=64, kernel_size=7, input_shape=[28, 28, 1]),\n",
    "            keras.layers.MaxPooling2D(2),\n",
    "            Conv2D(filters=128,kernel_size=3),\n",
    "            Conv2D(filters=128,kernel_size=3),\n",
    "            keras.layers.MaxPooling2D(2),\n",
    "            Conv2D(filters=256,kernel_size=3),\n",
    "            Conv2D(filters=256,kernel_size=3),\n",
    "            keras.layers.MaxPooling2D(2),\n",
    "            keras.layers.Flatten(),\n",
    "            keras.layers.Dense(128, activation=keras.activations.relu),\n",
    "            keras.layers.Dropout(0.5),\n",
    "            keras.layers.Dense(64, activation=keras.activations.relu),\n",
    "            keras.layers.Dropout(0.5),\n",
    "            keras.layers.Dense(10, activation=keras.activations.softmax)\n",
    "        ]\n",
    "    )\n",
    "    return model\n",
    "    "
   ]
  },
  {
   "cell_type": "code",
   "execution_count": 3,
   "metadata": {},
   "outputs": [],
   "source": [
    "model = model()"
   ]
  },
  {
   "cell_type": "code",
   "execution_count": 4,
   "metadata": {},
   "outputs": [
    {
     "name": "stdout",
     "output_type": "stream",
     "text": [
      "Model: \"sequential\"\n",
      "_________________________________________________________________\n",
      " Layer (type)                Output Shape              Param #   \n",
      "=================================================================\n",
      " conv2d (Conv2D)             (None, 28, 28, 64)        3200      \n",
      "                                                                 \n",
      " max_pooling2d (MaxPooling2  (None, 14, 14, 64)        0         \n",
      " D)                                                              \n",
      "                                                                 \n",
      " conv2d_1 (Conv2D)           (None, 14, 14, 128)       73856     \n",
      "                                                                 \n",
      " conv2d_2 (Conv2D)           (None, 14, 14, 128)       147584    \n",
      "                                                                 \n",
      " max_pooling2d_1 (MaxPoolin  (None, 7, 7, 128)         0         \n",
      " g2D)                                                            \n",
      "                                                                 \n",
      " conv2d_3 (Conv2D)           (None, 7, 7, 256)         295168    \n",
      "                                                                 \n",
      " conv2d_4 (Conv2D)           (None, 7, 7, 256)         590080    \n",
      "                                                                 \n",
      " max_pooling2d_2 (MaxPoolin  (None, 3, 3, 256)         0         \n",
      " g2D)                                                            \n",
      "                                                                 \n",
      " flatten (Flatten)           (None, 2304)              0         \n",
      "                                                                 \n",
      " dense (Dense)               (None, 128)               295040    \n",
      "                                                                 \n",
      " dropout (Dropout)           (None, 128)               0         \n",
      "                                                                 \n",
      " dense_1 (Dense)             (None, 64)                8256      \n",
      "                                                                 \n",
      " dropout_1 (Dropout)         (None, 64)                0         \n",
      "                                                                 \n",
      " dense_2 (Dense)             (None, 10)                650       \n",
      "                                                                 \n",
      "=================================================================\n",
      "Total params: 1413834 (5.39 MB)\n",
      "Trainable params: 1413834 (5.39 MB)\n",
      "Non-trainable params: 0 (0.00 Byte)\n",
      "_________________________________________________________________\n"
     ]
    }
   ],
   "source": [
    "model.summary()"
   ]
  },
  {
   "cell_type": "code",
   "execution_count": 5,
   "metadata": {},
   "outputs": [],
   "source": [
    "fashionMnist = keras.datasets.fashion_mnist\n",
    "( xtrainFull, ytrainFull ), ( xtestFull, ytestFull ) = fashionMnist.load_data()"
   ]
  },
  {
   "cell_type": "code",
   "execution_count": 6,
   "metadata": {},
   "outputs": [],
   "source": [
    "xtestV, xtrain = xtrainFull[:5000]/255.0 , xtrainFull[5000:]/255.0\n",
    "ytestV, ytrain = ytrainFull[:5000] , ytrainFull[5000:]"
   ]
  },
  {
   "cell_type": "code",
   "execution_count": 7,
   "metadata": {},
   "outputs": [
    {
     "name": "stdout",
     "output_type": "stream",
     "text": [
      "Epoch 1/3\n",
      "1719/1719 [==============================] - 309s 178ms/step - loss: 0.7562\n",
      "Epoch 2/3\n",
      "1719/1719 [==============================] - 298s 173ms/step - loss: 0.4325\n",
      "Epoch 3/3\n",
      "1719/1719 [==============================] - 301s 175ms/step - loss: 0.3670\n"
     ]
    },
    {
     "data": {
      "text/plain": [
       "<keras.src.callbacks.History at 0x7f9bcdc89850>"
      ]
     },
     "execution_count": 7,
     "metadata": {},
     "output_type": "execute_result"
    }
   ],
   "source": [
    "model.compile(\n",
    "    optimizer=keras.optimizers.Adam(),\n",
    "    loss     =keras.losses.sparse_categorical_crossentropy\n",
    ")\n",
    "\n",
    "model.fit(xtrain, ytrain, batch_size=32, epochs=3)"
   ]
  },
  {
   "cell_type": "code",
   "execution_count": 8,
   "metadata": {},
   "outputs": [
    {
     "name": "stdout",
     "output_type": "stream",
     "text": [
      "157/157 [==============================] - 8s 48ms/step\n"
     ]
    }
   ],
   "source": [
    "import numpy as np\n",
    "pred = np.argmax(model.predict(xtestV), axis=-1)"
   ]
  },
  {
   "cell_type": "code",
   "execution_count": 9,
   "metadata": {},
   "outputs": [],
   "source": [
    "from sklearn.metrics import classification_report"
   ]
  },
  {
   "cell_type": "code",
   "execution_count": 10,
   "metadata": {},
   "outputs": [
    {
     "name": "stdout",
     "output_type": "stream",
     "text": [
      "              precision    recall  f1-score   support\n",
      "\n",
      "           0       0.79      0.89      0.84       457\n",
      "           1       0.99      0.99      0.99       556\n",
      "           2       0.78      0.88      0.83       504\n",
      "           3       0.90      0.93      0.91       501\n",
      "           4       0.88      0.71      0.79       488\n",
      "           5       0.99      0.98      0.98       493\n",
      "           6       0.72      0.63      0.67       493\n",
      "           7       0.99      0.95      0.97       512\n",
      "           8       0.98      0.98      0.98       490\n",
      "           9       0.94      0.99      0.97       506\n",
      "\n",
      "    accuracy                           0.90      5000\n",
      "   macro avg       0.89      0.89      0.89      5000\n",
      "weighted avg       0.90      0.90      0.89      5000\n",
      "\n"
     ]
    }
   ],
   "source": [
    "print(classification_report(ytestV, pred))"
   ]
  }
 ],
 "metadata": {
  "kernelspec": {
   "display_name": "venvGlobal",
   "language": "python",
   "name": "python3"
  },
  "language_info": {
   "codemirror_mode": {
    "name": "ipython",
    "version": 3
   },
   "file_extension": ".py",
   "mimetype": "text/x-python",
   "name": "python",
   "nbconvert_exporter": "python",
   "pygments_lexer": "ipython3",
   "version": "3.11.8"
  }
 },
 "nbformat": 4,
 "nbformat_minor": 2
}
