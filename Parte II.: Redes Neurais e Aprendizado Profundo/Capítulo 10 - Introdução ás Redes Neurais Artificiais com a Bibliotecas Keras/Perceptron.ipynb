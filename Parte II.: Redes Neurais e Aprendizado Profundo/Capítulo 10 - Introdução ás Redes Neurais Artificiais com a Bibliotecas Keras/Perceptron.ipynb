{
 "cells": [
  {
   "cell_type": "code",
   "execution_count": 52,
   "metadata": {},
   "outputs": [],
   "source": [
    "import numpy as np\n",
    "from sklearn.base         import ClassifierMixin\n",
    "from sklearn.linear_model import Perceptron\n",
    "from sklearn.datasets     import make_classification\n",
    "from typing               import Literal\n",
    "from sklearn.model_selection import train_test_split"
   ]
  },
  {
   "cell_type": "code",
   "execution_count": 33,
   "metadata": {},
   "outputs": [],
   "source": [
    "\n",
    "class SimplesModelo(ClassifierMixin):\n",
    "    def __init__(self,condition:Literal['&','|','I'] = '&'):\n",
    "        self.condition = condition\n",
    "\n",
    "    def C(self,X):\n",
    "        C = None\n",
    "        for A, B in X:\n",
    "            match self.condition:\n",
    "                case \"&\":\n",
    "                    C = (A and B)\n",
    "                    print(f'[C : A({A}) & B({B})] => C = {C}',end='  ')\n",
    "                \n",
    "                case \"|\":\n",
    "                    C = (A or B)\n",
    "                    print(f'[C : A({A}) | B({B})] => C = {C}',end='  ')\n",
    "                case 'I':\n",
    "                    C = A\n",
    "                    print(F'C = A({A})',end='  ')\n",
    "            if (C):print('Ativado')\n",
    "            else  :print('Não Ativado')   "
   ]
  },
  {
   "cell_type": "code",
   "execution_count": 38,
   "metadata": {},
   "outputs": [
    {
     "name": "stdout",
     "output_type": "stream",
     "text": [
      "[C : A(True) & B(False)] => C = False  Não Ativado\n"
     ]
    }
   ],
   "source": [
    "SimplesModelo(condition='&').C([ [True,(False)] ])"
   ]
  },
  {
   "cell_type": "markdown",
   "metadata": {},
   "source": [
    "### Perceptron"
   ]
  },
  {
   "cell_type": "code",
   "execution_count": 143,
   "metadata": {},
   "outputs": [],
   "source": [
    "class AlgorithmPerceptron(ClassifierMixin):\n",
    "    w_ = None\n",
    "    b_ = None\n",
    "\n",
    "    def __init__(self,maxIter = 100 , eta = 0.1):\n",
    "        self.eta     = eta \n",
    "        self.maxIter = maxIter\n",
    "        \n",
    "    def fit(self,X,y):\n",
    "        self.w_ = np.zeros(shape=X.shape)\n",
    "        self.b_ = 0.0\n",
    "\n",
    "        for _ in range(self.maxIter):\n",
    "            for i, (xi ,yi) in enumerate(zip(X,y)):\n",
    "                print(self.predict(xi)[i,:])\n",
    "                self.w_[i,:] = self.w_[i,:] + (self.eta * (yi - self.predict(xi))) * xi\n",
    "\n",
    "            \n",
    "    def heaviside(self,Z):\n",
    "        return (Z>=0).astype(int)\n",
    "    \n",
    "    def predict(self,X):\n",
    "        return self.heaviside(np.sum(X*self.w_ + self.b_))"
   ]
  },
  {
   "cell_type": "code",
   "execution_count": 144,
   "metadata": {},
   "outputs": [],
   "source": [
    "X, y = make_classification(n_classes=2,n_samples=200)\n",
    "xtrain, xtest, ytrain, ytest = train_test_split(X,y,random_state=42,test_size=0.2)"
   ]
  },
  {
   "cell_type": "code",
   "execution_count": 145,
   "metadata": {},
   "outputs": [
    {
     "ename": "IndexError",
     "evalue": "invalid index to scalar variable.",
     "output_type": "error",
     "traceback": [
      "\u001b[0;31m---------------------------------------------------------------------------\u001b[0m",
      "\u001b[0;31mIndexError\u001b[0m                                Traceback (most recent call last)",
      "Cell \u001b[0;32mIn[145], line 2\u001b[0m\n\u001b[1;32m      1\u001b[0m a \u001b[38;5;241m=\u001b[39m AlgorithmPerceptron()\n\u001b[0;32m----> 2\u001b[0m \u001b[43ma\u001b[49m\u001b[38;5;241;43m.\u001b[39;49m\u001b[43mfit\u001b[49m\u001b[43m(\u001b[49m\u001b[43mxtrain\u001b[49m\u001b[43m,\u001b[49m\u001b[43mytrain\u001b[49m\u001b[43m)\u001b[49m\n",
      "Cell \u001b[0;32mIn[143], line 15\u001b[0m, in \u001b[0;36mAlgorithmPerceptron.fit\u001b[0;34m(self, X, y)\u001b[0m\n\u001b[1;32m     13\u001b[0m \u001b[38;5;28;01mfor\u001b[39;00m _ \u001b[38;5;129;01min\u001b[39;00m \u001b[38;5;28mrange\u001b[39m(\u001b[38;5;28mself\u001b[39m\u001b[38;5;241m.\u001b[39mmaxIter):\n\u001b[1;32m     14\u001b[0m     \u001b[38;5;28;01mfor\u001b[39;00m i, (xi ,yi) \u001b[38;5;129;01min\u001b[39;00m \u001b[38;5;28menumerate\u001b[39m(\u001b[38;5;28mzip\u001b[39m(X,y)):\n\u001b[0;32m---> 15\u001b[0m         \u001b[38;5;28mprint\u001b[39m(\u001b[38;5;28;43mself\u001b[39;49m\u001b[38;5;241;43m.\u001b[39;49m\u001b[43mpredict\u001b[49m\u001b[43m(\u001b[49m\u001b[43mxi\u001b[49m\u001b[43m)\u001b[49m\u001b[43m[\u001b[49m\u001b[43mi\u001b[49m\u001b[43m,\u001b[49m\u001b[43m:\u001b[49m\u001b[43m]\u001b[49m)\n\u001b[1;32m     16\u001b[0m         \u001b[38;5;28mself\u001b[39m\u001b[38;5;241m.\u001b[39mw_[i,:] \u001b[38;5;241m=\u001b[39m \u001b[38;5;28mself\u001b[39m\u001b[38;5;241m.\u001b[39mw_[i,:] \u001b[38;5;241m+\u001b[39m (\u001b[38;5;28mself\u001b[39m\u001b[38;5;241m.\u001b[39meta \u001b[38;5;241m*\u001b[39m (yi \u001b[38;5;241m-\u001b[39m \u001b[38;5;28mself\u001b[39m\u001b[38;5;241m.\u001b[39mpredict(xi))) \u001b[38;5;241m*\u001b[39m xi\n",
      "\u001b[0;31mIndexError\u001b[0m: invalid index to scalar variable."
     ]
    }
   ],
   "source": [
    "a = AlgorithmPerceptron()\n",
    "a.fit(xtrain,ytrain)"
   ]
  }
 ],
 "metadata": {
  "kernelspec": {
   "display_name": "pythonVirtual",
   "language": "python",
   "name": "python3"
  },
  "language_info": {
   "codemirror_mode": {
    "name": "ipython",
    "version": 3
   },
   "file_extension": ".py",
   "mimetype": "text/x-python",
   "name": "python",
   "nbconvert_exporter": "python",
   "pygments_lexer": "ipython3",
   "version": "3.11.2"
  }
 },
 "nbformat": 4,
 "nbformat_minor": 2
}
