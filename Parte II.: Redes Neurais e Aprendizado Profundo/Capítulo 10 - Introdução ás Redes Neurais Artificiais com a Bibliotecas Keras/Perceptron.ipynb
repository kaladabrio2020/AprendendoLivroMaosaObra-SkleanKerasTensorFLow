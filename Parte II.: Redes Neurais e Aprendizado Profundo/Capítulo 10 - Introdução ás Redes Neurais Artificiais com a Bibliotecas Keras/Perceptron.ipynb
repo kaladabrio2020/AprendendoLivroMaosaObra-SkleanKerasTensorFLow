{
 "cells": [
  {
   "cell_type": "code",
   "execution_count": 10,
   "metadata": {},
   "outputs": [],
   "source": [
    "import numpy as np\n",
    "from sklearn.base         import ClassifierMixin\n",
    "from sklearn.linear_model import Perceptron\n",
    "from sklearn.datasets     import make_classification\n",
    "from sklearn.metrics      import *\n",
    "from typing               import Literal\n",
    "from sklearn.model_selection import train_test_split"
   ]
  },
  {
   "cell_type": "code",
   "execution_count": 4,
   "metadata": {},
   "outputs": [],
   "source": [
    "\n",
    "class SimplesModelo(ClassifierMixin):\n",
    "    def __init__(self,condition:Literal['&','|','I'] = '&'):\n",
    "        self.condition = condition\n",
    "\n",
    "    def C(self,X):\n",
    "        C = None\n",
    "        for A, B in X:\n",
    "            match self.condition:\n",
    "                case \"&\":\n",
    "                    C = (A and B)\n",
    "                    print(f'[C : A({A}) & B({B})] => C = {C}',end='  ')\n",
    "                \n",
    "                case \"|\":\n",
    "                    C = (A or B)\n",
    "                    print(f'[C : A({A}) | B({B})] => C = {C}',end='  ')\n",
    "                case 'I':\n",
    "                    C = A\n",
    "                    print(F'C = A({A})',end='  ')\n",
    "            if (C):print('Ativado')\n",
    "            else  :print('Não Ativado')   "
   ]
  },
  {
   "cell_type": "code",
   "execution_count": 5,
   "metadata": {},
   "outputs": [
    {
     "name": "stdout",
     "output_type": "stream",
     "text": [
      "[C : A(True) & B(False)] => C = False  Não Ativado\n"
     ]
    }
   ],
   "source": [
    "SimplesModelo(condition='&').C([ [True,(False)] ])"
   ]
  },
  {
   "cell_type": "markdown",
   "metadata": {},
   "source": [
    "### Perceptron"
   ]
  },
  {
   "cell_type": "code",
   "execution_count": 6,
   "metadata": {},
   "outputs": [],
   "source": [
    "from sklearn.linear_model import Perceptron"
   ]
  },
  {
   "cell_type": "code",
   "execution_count": 7,
   "metadata": {},
   "outputs": [],
   "source": [
    "X, y = make_classification(n_classes=2,n_samples=200)\n",
    "xtrain, xtest, ytrain, ytest = train_test_split(X,y,random_state=42,test_size=0.2)"
   ]
  },
  {
   "cell_type": "code",
   "execution_count": 9,
   "metadata": {},
   "outputs": [],
   "source": [
    "percep = Perceptron()\n",
    "percep.fit(xtrain,ytrain)\n",
    "pred = percep.predict(xtest)"
   ]
  },
  {
   "cell_type": "code",
   "execution_count": 11,
   "metadata": {},
   "outputs": [
    {
     "name": "stdout",
     "output_type": "stream",
     "text": [
      "              precision    recall  f1-score   support\n",
      "\n",
      "           0       0.88      0.79      0.83        19\n",
      "           1       0.83      0.90      0.86        21\n",
      "\n",
      "    accuracy                           0.85        40\n",
      "   macro avg       0.85      0.85      0.85        40\n",
      "weighted avg       0.85      0.85      0.85        40\n",
      "\n"
     ]
    }
   ],
   "source": [
    "print(classification_report(ytest,pred))"
   ]
  }
 ],
 "metadata": {
  "kernelspec": {
   "display_name": "pythonVirtual",
   "language": "python",
   "name": "python3"
  },
  "language_info": {
   "codemirror_mode": {
    "name": "ipython",
    "version": 3
   },
   "file_extension": ".py",
   "mimetype": "text/x-python",
   "name": "python",
   "nbconvert_exporter": "python",
   "pygments_lexer": "ipython3",
   "version": "3.11.2"
  }
 },
 "nbformat": 4,
 "nbformat_minor": 2
}
